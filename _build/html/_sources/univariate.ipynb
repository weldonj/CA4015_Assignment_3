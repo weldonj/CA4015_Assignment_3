{
  "nbformat": 4,
  "nbformat_minor": 0,
  "metadata": {
    "colab": {
      "name": "univariate_fbp.ipynb",
      "provenance": []
    },
    "kernelspec": {
      "name": "python3",
      "display_name": "Python 3"
    }
  },
  "cells": [
    {
      "cell_type": "code",
      "metadata": {
        "id": "vUGz8fz-jRyb"
      },
      "source": [
        "pip install fbprophet"
      ],
      "execution_count": null,
      "outputs": []
    },
    {
      "cell_type": "code",
      "metadata": {
        "colab": {
          "base_uri": "https://localhost:8080/"
        },
        "id": "Wqi4aEgHjhE3",
        "outputId": "b74e1b45-a91c-4068-f203-be0a1922aaf6"
      },
      "source": [
        "\n",
        "from google.colab import drive\n",
        "drive.mount('/content/drive')\n",
        "\n",
        "# check prophet version\n",
        "import fbprophet\n",
        "# print version number\n",
        "print('Prophet %s' % fbprophet.__version__)"
      ],
      "execution_count": 4,
      "outputs": [
        {
          "output_type": "stream",
          "text": [
            "Mounted at /content/drive\n",
            "Prophet 0.7.1\n"
          ],
          "name": "stdout"
        }
      ]
    },
    {
      "cell_type": "code",
      "metadata": {
        "id": "gCUk4QGtjsq0"
      },
      "source": [
        "# load the dataset\n",
        "import pandas as pd\n",
        "from pandas import read_csv\n",
        "# load data\n",
        "X = pd.read_csv('/content/drive/My Drive/CA4015/sleep_classify/extracted_features.csv')\n",
        "Y = pd.read_csv('/content/drive/My Drive/CA4015/sleep_classify/extracted_features_labels.csv')\n",
        "# summarize shape\n",
        "print(X.shape)\n",
        "print(Y.shape)\n",
        "# show first few rows\n",
        "print(X.head())\n",
        "print(Y.head())"
      ],
      "execution_count": null,
      "outputs": []
    },
    {
      "cell_type": "code",
      "metadata": {
        "colab": {
          "base_uri": "https://localhost:8080/"
        },
        "id": "14CbxKVlj0n6",
        "outputId": "ff2eafbd-c2bb-429c-db44-0e46f9cac8e1"
      },
      "source": [
        "full_df = pd.concat([Y[[\"time\", \"1\"]], X[X.columns[2:]]], axis=1)\n",
        "print(full_df.shape)"
      ],
      "execution_count": 6,
      "outputs": [
        {
          "output_type": "stream",
          "text": [
            "(26417, 271)\n"
          ],
          "name": "stdout"
        }
      ]
    },
    {
      "cell_type": "code",
      "metadata": {
        "id": "9rE7ApVCkRki"
      },
      "source": [
        "# add subject id back in\n",
        "full_df = pd.concat([Y[[\"time\", \"1\", \"id\"]], X[X.columns[2:]]], axis=1)\n",
        "full_df"
      ],
      "execution_count": null,
      "outputs": []
    },
    {
      "cell_type": "code",
      "metadata": {
        "id": "mMu8tl3kkUvC"
      },
      "source": [
        "# convert time column into fbProphet-friendly datetime format\n",
        "full_df = full_df.rename(columns={\"time\": \"ds\", \"1\": \"y\"})\n",
        "full_df[\"ds\"] = full_df['ds'] = pd.to_datetime(full_df['ds'], unit='s')\n",
        "full_df"
      ],
      "execution_count": null,
      "outputs": []
    },
    {
      "cell_type": "code",
      "metadata": {
        "id": "2PBCXsRCknrF"
      },
      "source": [
        "dfs = dict(tuple(full_df.groupby('id')))"
      ],
      "execution_count": 9,
      "outputs": []
    },
    {
      "cell_type": "code",
      "metadata": {
        "id": "xowXunjFkpYa"
      },
      "source": [
        "id_list = list(full_df['id'])\n",
        "id_set = set(id_list)\n",
        "id_list = list(id_set)"
      ],
      "execution_count": 11,
      "outputs": []
    },
    {
      "cell_type": "code",
      "metadata": {
        "id": "CxvY0yUHmsQ7"
      },
      "source": [
        "from fbprophet import Prophet"
      ],
      "execution_count": 16,
      "outputs": []
    },
    {
      "cell_type": "code",
      "metadata": {
        "colab": {
          "base_uri": "https://localhost:8080/"
        },
        "id": "wmK9kYk2kt2w",
        "outputId": "5bdd5df0-0ced-488a-8617-f38299e0e0fd"
      },
      "source": [
        "for subject, df in dfs.items():\n",
        "  model = Prophet()\n",
        "  model.fit(df)"
      ],
      "execution_count": 17,
      "outputs": [
        {
          "output_type": "stream",
          "text": [
            "INFO:numexpr.utils:NumExpr defaulting to 2 threads.\n",
            "INFO:fbprophet:Disabling yearly seasonality. Run prophet with yearly_seasonality=True to override this.\n",
            "INFO:fbprophet:Disabling weekly seasonality. Run prophet with weekly_seasonality=True to override this.\n",
            "INFO:fbprophet:Disabling daily seasonality. Run prophet with daily_seasonality=True to override this.\n",
            "INFO:fbprophet:Disabling yearly seasonality. Run prophet with yearly_seasonality=True to override this.\n",
            "INFO:fbprophet:Disabling weekly seasonality. Run prophet with weekly_seasonality=True to override this.\n",
            "INFO:fbprophet:Disabling daily seasonality. Run prophet with daily_seasonality=True to override this.\n",
            "INFO:fbprophet:Disabling yearly seasonality. Run prophet with yearly_seasonality=True to override this.\n",
            "INFO:fbprophet:Disabling weekly seasonality. Run prophet with weekly_seasonality=True to override this.\n",
            "INFO:fbprophet:Disabling daily seasonality. Run prophet with daily_seasonality=True to override this.\n",
            "INFO:fbprophet:Disabling yearly seasonality. Run prophet with yearly_seasonality=True to override this.\n",
            "INFO:fbprophet:Disabling weekly seasonality. Run prophet with weekly_seasonality=True to override this.\n",
            "INFO:fbprophet:Disabling daily seasonality. Run prophet with daily_seasonality=True to override this.\n",
            "INFO:fbprophet:Disabling yearly seasonality. Run prophet with yearly_seasonality=True to override this.\n",
            "INFO:fbprophet:Disabling weekly seasonality. Run prophet with weekly_seasonality=True to override this.\n",
            "INFO:fbprophet:Disabling daily seasonality. Run prophet with daily_seasonality=True to override this.\n",
            "INFO:fbprophet:Disabling yearly seasonality. Run prophet with yearly_seasonality=True to override this.\n",
            "INFO:fbprophet:Disabling weekly seasonality. Run prophet with weekly_seasonality=True to override this.\n",
            "INFO:fbprophet:Disabling daily seasonality. Run prophet with daily_seasonality=True to override this.\n",
            "INFO:fbprophet:Disabling yearly seasonality. Run prophet with yearly_seasonality=True to override this.\n",
            "INFO:fbprophet:Disabling weekly seasonality. Run prophet with weekly_seasonality=True to override this.\n",
            "INFO:fbprophet:Disabling daily seasonality. Run prophet with daily_seasonality=True to override this.\n",
            "INFO:fbprophet:Disabling yearly seasonality. Run prophet with yearly_seasonality=True to override this.\n",
            "INFO:fbprophet:Disabling weekly seasonality. Run prophet with weekly_seasonality=True to override this.\n",
            "INFO:fbprophet:Disabling daily seasonality. Run prophet with daily_seasonality=True to override this.\n",
            "INFO:fbprophet:Disabling yearly seasonality. Run prophet with yearly_seasonality=True to override this.\n",
            "INFO:fbprophet:Disabling weekly seasonality. Run prophet with weekly_seasonality=True to override this.\n",
            "INFO:fbprophet:Disabling daily seasonality. Run prophet with daily_seasonality=True to override this.\n",
            "INFO:fbprophet:Disabling yearly seasonality. Run prophet with yearly_seasonality=True to override this.\n",
            "INFO:fbprophet:Disabling weekly seasonality. Run prophet with weekly_seasonality=True to override this.\n",
            "INFO:fbprophet:Disabling daily seasonality. Run prophet with daily_seasonality=True to override this.\n",
            "INFO:fbprophet:Disabling yearly seasonality. Run prophet with yearly_seasonality=True to override this.\n",
            "INFO:fbprophet:Disabling weekly seasonality. Run prophet with weekly_seasonality=True to override this.\n",
            "INFO:fbprophet:Disabling daily seasonality. Run prophet with daily_seasonality=True to override this.\n",
            "INFO:fbprophet:Disabling yearly seasonality. Run prophet with yearly_seasonality=True to override this.\n",
            "INFO:fbprophet:Disabling weekly seasonality. Run prophet with weekly_seasonality=True to override this.\n",
            "INFO:fbprophet:Disabling daily seasonality. Run prophet with daily_seasonality=True to override this.\n",
            "INFO:fbprophet:Disabling yearly seasonality. Run prophet with yearly_seasonality=True to override this.\n",
            "INFO:fbprophet:Disabling weekly seasonality. Run prophet with weekly_seasonality=True to override this.\n",
            "INFO:fbprophet:Disabling daily seasonality. Run prophet with daily_seasonality=True to override this.\n",
            "INFO:fbprophet:Disabling yearly seasonality. Run prophet with yearly_seasonality=True to override this.\n",
            "INFO:fbprophet:Disabling weekly seasonality. Run prophet with weekly_seasonality=True to override this.\n",
            "INFO:fbprophet:Disabling daily seasonality. Run prophet with daily_seasonality=True to override this.\n",
            "INFO:fbprophet:Disabling yearly seasonality. Run prophet with yearly_seasonality=True to override this.\n",
            "INFO:fbprophet:Disabling weekly seasonality. Run prophet with weekly_seasonality=True to override this.\n",
            "INFO:fbprophet:Disabling daily seasonality. Run prophet with daily_seasonality=True to override this.\n",
            "INFO:fbprophet:Disabling yearly seasonality. Run prophet with yearly_seasonality=True to override this.\n",
            "INFO:fbprophet:Disabling weekly seasonality. Run prophet with weekly_seasonality=True to override this.\n",
            "INFO:fbprophet:Disabling daily seasonality. Run prophet with daily_seasonality=True to override this.\n",
            "INFO:fbprophet:Disabling yearly seasonality. Run prophet with yearly_seasonality=True to override this.\n",
            "INFO:fbprophet:Disabling weekly seasonality. Run prophet with weekly_seasonality=True to override this.\n",
            "INFO:fbprophet:Disabling daily seasonality. Run prophet with daily_seasonality=True to override this.\n",
            "INFO:fbprophet:Disabling yearly seasonality. Run prophet with yearly_seasonality=True to override this.\n",
            "INFO:fbprophet:Disabling weekly seasonality. Run prophet with weekly_seasonality=True to override this.\n",
            "INFO:fbprophet:Disabling daily seasonality. Run prophet with daily_seasonality=True to override this.\n",
            "INFO:fbprophet:Disabling yearly seasonality. Run prophet with yearly_seasonality=True to override this.\n",
            "INFO:fbprophet:Disabling weekly seasonality. Run prophet with weekly_seasonality=True to override this.\n",
            "INFO:fbprophet:Disabling daily seasonality. Run prophet with daily_seasonality=True to override this.\n",
            "INFO:fbprophet:Disabling yearly seasonality. Run prophet with yearly_seasonality=True to override this.\n",
            "INFO:fbprophet:Disabling weekly seasonality. Run prophet with weekly_seasonality=True to override this.\n",
            "INFO:fbprophet:Disabling daily seasonality. Run prophet with daily_seasonality=True to override this.\n",
            "INFO:fbprophet:Disabling yearly seasonality. Run prophet with yearly_seasonality=True to override this.\n",
            "INFO:fbprophet:Disabling weekly seasonality. Run prophet with weekly_seasonality=True to override this.\n",
            "INFO:fbprophet:Disabling daily seasonality. Run prophet with daily_seasonality=True to override this.\n",
            "INFO:fbprophet:Disabling yearly seasonality. Run prophet with yearly_seasonality=True to override this.\n",
            "INFO:fbprophet:Disabling weekly seasonality. Run prophet with weekly_seasonality=True to override this.\n",
            "INFO:fbprophet:Disabling daily seasonality. Run prophet with daily_seasonality=True to override this.\n",
            "INFO:fbprophet:Disabling yearly seasonality. Run prophet with yearly_seasonality=True to override this.\n",
            "INFO:fbprophet:Disabling weekly seasonality. Run prophet with weekly_seasonality=True to override this.\n",
            "INFO:fbprophet:Disabling daily seasonality. Run prophet with daily_seasonality=True to override this.\n",
            "INFO:fbprophet:Disabling yearly seasonality. Run prophet with yearly_seasonality=True to override this.\n",
            "INFO:fbprophet:Disabling weekly seasonality. Run prophet with weekly_seasonality=True to override this.\n",
            "INFO:fbprophet:Disabling daily seasonality. Run prophet with daily_seasonality=True to override this.\n",
            "INFO:fbprophet:Disabling yearly seasonality. Run prophet with yearly_seasonality=True to override this.\n",
            "INFO:fbprophet:Disabling weekly seasonality. Run prophet with weekly_seasonality=True to override this.\n",
            "INFO:fbprophet:Disabling daily seasonality. Run prophet with daily_seasonality=True to override this.\n",
            "INFO:fbprophet:Disabling yearly seasonality. Run prophet with yearly_seasonality=True to override this.\n",
            "INFO:fbprophet:Disabling weekly seasonality. Run prophet with weekly_seasonality=True to override this.\n",
            "INFO:fbprophet:Disabling daily seasonality. Run prophet with daily_seasonality=True to override this.\n",
            "INFO:fbprophet:Disabling yearly seasonality. Run prophet with yearly_seasonality=True to override this.\n",
            "INFO:fbprophet:Disabling weekly seasonality. Run prophet with weekly_seasonality=True to override this.\n",
            "INFO:fbprophet:Disabling daily seasonality. Run prophet with daily_seasonality=True to override this.\n",
            "INFO:fbprophet:Disabling yearly seasonality. Run prophet with yearly_seasonality=True to override this.\n",
            "INFO:fbprophet:Disabling weekly seasonality. Run prophet with weekly_seasonality=True to override this.\n",
            "INFO:fbprophet:Disabling daily seasonality. Run prophet with daily_seasonality=True to override this.\n",
            "INFO:fbprophet:Disabling yearly seasonality. Run prophet with yearly_seasonality=True to override this.\n",
            "INFO:fbprophet:Disabling weekly seasonality. Run prophet with weekly_seasonality=True to override this.\n",
            "INFO:fbprophet:Disabling daily seasonality. Run prophet with daily_seasonality=True to override this.\n",
            "INFO:fbprophet:Disabling yearly seasonality. Run prophet with yearly_seasonality=True to override this.\n",
            "INFO:fbprophet:Disabling weekly seasonality. Run prophet with weekly_seasonality=True to override this.\n",
            "INFO:fbprophet:Disabling daily seasonality. Run prophet with daily_seasonality=True to override this.\n",
            "INFO:fbprophet:Disabling yearly seasonality. Run prophet with yearly_seasonality=True to override this.\n",
            "INFO:fbprophet:Disabling weekly seasonality. Run prophet with weekly_seasonality=True to override this.\n",
            "INFO:fbprophet:Disabling daily seasonality. Run prophet with daily_seasonality=True to override this.\n"
          ],
          "name": "stderr"
        }
      ]
    },
    {
      "cell_type": "code",
      "metadata": {
        "colab": {
          "base_uri": "https://localhost:8080/"
        },
        "id": "9CNfVFFvtpFu",
        "outputId": "9b114606-3ade-4944-b703-e65c41859e70"
      },
      "source": [
        "\n",
        "model = Prophet()\n",
        "model.fit(dfs[46343])\n"
      ],
      "execution_count": 22,
      "outputs": [
        {
          "output_type": "stream",
          "text": [
            "INFO:fbprophet:Disabling yearly seasonality. Run prophet with yearly_seasonality=True to override this.\n",
            "INFO:fbprophet:Disabling weekly seasonality. Run prophet with weekly_seasonality=True to override this.\n",
            "INFO:fbprophet:Disabling daily seasonality. Run prophet with daily_seasonality=True to override this.\n"
          ],
          "name": "stderr"
        },
        {
          "output_type": "execute_result",
          "data": {
            "text/plain": [
              "<fbprophet.forecaster.Prophet at 0x7f69987cb208>"
            ]
          },
          "metadata": {
            "tags": []
          },
          "execution_count": 22
        }
      ]
    },
    {
      "cell_type": "code",
      "metadata": {
        "colab": {
          "base_uri": "https://localhost:8080/",
          "height": 197
        },
        "id": "VIyjzP42t8W-",
        "outputId": "7c379510-bcb6-49c2-a9ba-f50dd917f616"
      },
      "source": [
        "future = model.make_future_dataframe(periods=20, freq =\"30S\")\n",
        "future.tail()"
      ],
      "execution_count": 36,
      "outputs": [
        {
          "output_type": "execute_result",
          "data": {
            "text/html": [
              "<div>\n",
              "<style scoped>\n",
              "    .dataframe tbody tr th:only-of-type {\n",
              "        vertical-align: middle;\n",
              "    }\n",
              "\n",
              "    .dataframe tbody tr th {\n",
              "        vertical-align: top;\n",
              "    }\n",
              "\n",
              "    .dataframe thead th {\n",
              "        text-align: right;\n",
              "    }\n",
              "</style>\n",
              "<table border=\"1\" class=\"dataframe\">\n",
              "  <thead>\n",
              "    <tr style=\"text-align: right;\">\n",
              "      <th></th>\n",
              "      <th>ds</th>\n",
              "    </tr>\n",
              "  </thead>\n",
              "  <tbody>\n",
              "    <tr>\n",
              "      <th>569</th>\n",
              "      <td>1970-01-01 04:51:00</td>\n",
              "    </tr>\n",
              "    <tr>\n",
              "      <th>570</th>\n",
              "      <td>1970-01-01 04:51:30</td>\n",
              "    </tr>\n",
              "    <tr>\n",
              "      <th>571</th>\n",
              "      <td>1970-01-01 04:52:00</td>\n",
              "    </tr>\n",
              "    <tr>\n",
              "      <th>572</th>\n",
              "      <td>1970-01-01 04:52:30</td>\n",
              "    </tr>\n",
              "    <tr>\n",
              "      <th>573</th>\n",
              "      <td>1970-01-01 04:53:00</td>\n",
              "    </tr>\n",
              "  </tbody>\n",
              "</table>\n",
              "</div>"
            ],
            "text/plain": [
              "                     ds\n",
              "569 1970-01-01 04:51:00\n",
              "570 1970-01-01 04:51:30\n",
              "571 1970-01-01 04:52:00\n",
              "572 1970-01-01 04:52:30\n",
              "573 1970-01-01 04:53:00"
            ]
          },
          "metadata": {
            "tags": []
          },
          "execution_count": 36
        }
      ]
    },
    {
      "cell_type": "code",
      "metadata": {
        "id": "2mxJwr3nuD-8"
      },
      "source": [
        "forecast = model.predict(future)"
      ],
      "execution_count": 37,
      "outputs": []
    },
    {
      "cell_type": "code",
      "metadata": {
        "colab": {
          "base_uri": "https://localhost:8080/",
          "height": 197
        },
        "id": "JS1xF1htuNm3",
        "outputId": "fb6ae6d6-bb82-4e42-c223-7d5209083b1a"
      },
      "source": [
        "forecast.head()"
      ],
      "execution_count": 38,
      "outputs": [
        {
          "output_type": "execute_result",
          "data": {
            "text/html": [
              "<div>\n",
              "<style scoped>\n",
              "    .dataframe tbody tr th:only-of-type {\n",
              "        vertical-align: middle;\n",
              "    }\n",
              "\n",
              "    .dataframe tbody tr th {\n",
              "        vertical-align: top;\n",
              "    }\n",
              "\n",
              "    .dataframe thead th {\n",
              "        text-align: right;\n",
              "    }\n",
              "</style>\n",
              "<table border=\"1\" class=\"dataframe\">\n",
              "  <thead>\n",
              "    <tr style=\"text-align: right;\">\n",
              "      <th></th>\n",
              "      <th>ds</th>\n",
              "      <th>trend</th>\n",
              "      <th>yhat_lower</th>\n",
              "      <th>yhat_upper</th>\n",
              "      <th>trend_lower</th>\n",
              "      <th>trend_upper</th>\n",
              "      <th>additive_terms</th>\n",
              "      <th>additive_terms_lower</th>\n",
              "      <th>additive_terms_upper</th>\n",
              "      <th>multiplicative_terms</th>\n",
              "      <th>multiplicative_terms_lower</th>\n",
              "      <th>multiplicative_terms_upper</th>\n",
              "      <th>yhat</th>\n",
              "    </tr>\n",
              "  </thead>\n",
              "  <tbody>\n",
              "    <tr>\n",
              "      <th>0</th>\n",
              "      <td>1970-01-01 00:06:30</td>\n",
              "      <td>1.024940</td>\n",
              "      <td>-0.585054</td>\n",
              "      <td>2.441879</td>\n",
              "      <td>1.024940</td>\n",
              "      <td>1.024940</td>\n",
              "      <td>0.0</td>\n",
              "      <td>0.0</td>\n",
              "      <td>0.0</td>\n",
              "      <td>0.0</td>\n",
              "      <td>0.0</td>\n",
              "      <td>0.0</td>\n",
              "      <td>1.024940</td>\n",
              "    </tr>\n",
              "    <tr>\n",
              "      <th>1</th>\n",
              "      <td>1970-01-01 00:07:00</td>\n",
              "      <td>1.041096</td>\n",
              "      <td>-0.387736</td>\n",
              "      <td>2.552626</td>\n",
              "      <td>1.041096</td>\n",
              "      <td>1.041096</td>\n",
              "      <td>0.0</td>\n",
              "      <td>0.0</td>\n",
              "      <td>0.0</td>\n",
              "      <td>0.0</td>\n",
              "      <td>0.0</td>\n",
              "      <td>0.0</td>\n",
              "      <td>1.041096</td>\n",
              "    </tr>\n",
              "    <tr>\n",
              "      <th>2</th>\n",
              "      <td>1970-01-01 00:07:30</td>\n",
              "      <td>1.057251</td>\n",
              "      <td>-0.462829</td>\n",
              "      <td>2.460306</td>\n",
              "      <td>1.057251</td>\n",
              "      <td>1.057251</td>\n",
              "      <td>0.0</td>\n",
              "      <td>0.0</td>\n",
              "      <td>0.0</td>\n",
              "      <td>0.0</td>\n",
              "      <td>0.0</td>\n",
              "      <td>0.0</td>\n",
              "      <td>1.057251</td>\n",
              "    </tr>\n",
              "    <tr>\n",
              "      <th>3</th>\n",
              "      <td>1970-01-01 00:08:00</td>\n",
              "      <td>1.073407</td>\n",
              "      <td>-0.372403</td>\n",
              "      <td>2.632245</td>\n",
              "      <td>1.073407</td>\n",
              "      <td>1.073407</td>\n",
              "      <td>0.0</td>\n",
              "      <td>0.0</td>\n",
              "      <td>0.0</td>\n",
              "      <td>0.0</td>\n",
              "      <td>0.0</td>\n",
              "      <td>0.0</td>\n",
              "      <td>1.073407</td>\n",
              "    </tr>\n",
              "    <tr>\n",
              "      <th>4</th>\n",
              "      <td>1970-01-01 00:08:30</td>\n",
              "      <td>1.089563</td>\n",
              "      <td>-0.420982</td>\n",
              "      <td>2.540670</td>\n",
              "      <td>1.089563</td>\n",
              "      <td>1.089563</td>\n",
              "      <td>0.0</td>\n",
              "      <td>0.0</td>\n",
              "      <td>0.0</td>\n",
              "      <td>0.0</td>\n",
              "      <td>0.0</td>\n",
              "      <td>0.0</td>\n",
              "      <td>1.089563</td>\n",
              "    </tr>\n",
              "  </tbody>\n",
              "</table>\n",
              "</div>"
            ],
            "text/plain": [
              "                   ds     trend  ...  multiplicative_terms_upper      yhat\n",
              "0 1970-01-01 00:06:30  1.024940  ...                         0.0  1.024940\n",
              "1 1970-01-01 00:07:00  1.041096  ...                         0.0  1.041096\n",
              "2 1970-01-01 00:07:30  1.057251  ...                         0.0  1.057251\n",
              "3 1970-01-01 00:08:00  1.073407  ...                         0.0  1.073407\n",
              "4 1970-01-01 00:08:30  1.089563  ...                         0.0  1.089563\n",
              "\n",
              "[5 rows x 13 columns]"
            ]
          },
          "metadata": {
            "tags": []
          },
          "execution_count": 38
        }
      ]
    },
    {
      "cell_type": "code",
      "metadata": {
        "colab": {
          "base_uri": "https://localhost:8080/",
          "height": 947
        },
        "id": "Lz5Cxl2cuXYY",
        "outputId": "713a5bc0-faae-4741-a339-4fabff4bb492"
      },
      "source": [
        "forecast[['ds', 'yhat', 'yhat_lower', 'yhat_upper']].tail(30)\n"
      ],
      "execution_count": 39,
      "outputs": [
        {
          "output_type": "execute_result",
          "data": {
            "text/html": [
              "<div>\n",
              "<style scoped>\n",
              "    .dataframe tbody tr th:only-of-type {\n",
              "        vertical-align: middle;\n",
              "    }\n",
              "\n",
              "    .dataframe tbody tr th {\n",
              "        vertical-align: top;\n",
              "    }\n",
              "\n",
              "    .dataframe thead th {\n",
              "        text-align: right;\n",
              "    }\n",
              "</style>\n",
              "<table border=\"1\" class=\"dataframe\">\n",
              "  <thead>\n",
              "    <tr style=\"text-align: right;\">\n",
              "      <th></th>\n",
              "      <th>ds</th>\n",
              "      <th>yhat</th>\n",
              "      <th>yhat_lower</th>\n",
              "      <th>yhat_upper</th>\n",
              "    </tr>\n",
              "  </thead>\n",
              "  <tbody>\n",
              "    <tr>\n",
              "      <th>544</th>\n",
              "      <td>1970-01-01 04:38:30</td>\n",
              "      <td>0.711770</td>\n",
              "      <td>-0.778800</td>\n",
              "      <td>2.141895</td>\n",
              "    </tr>\n",
              "    <tr>\n",
              "      <th>545</th>\n",
              "      <td>1970-01-01 04:39:00</td>\n",
              "      <td>0.698411</td>\n",
              "      <td>-0.908538</td>\n",
              "      <td>2.244029</td>\n",
              "    </tr>\n",
              "    <tr>\n",
              "      <th>546</th>\n",
              "      <td>1970-01-01 04:39:30</td>\n",
              "      <td>0.685053</td>\n",
              "      <td>-0.860167</td>\n",
              "      <td>2.187700</td>\n",
              "    </tr>\n",
              "    <tr>\n",
              "      <th>547</th>\n",
              "      <td>1970-01-01 04:40:00</td>\n",
              "      <td>0.671695</td>\n",
              "      <td>-0.864382</td>\n",
              "      <td>2.103134</td>\n",
              "    </tr>\n",
              "    <tr>\n",
              "      <th>548</th>\n",
              "      <td>1970-01-01 04:40:30</td>\n",
              "      <td>0.658336</td>\n",
              "      <td>-0.952764</td>\n",
              "      <td>2.189860</td>\n",
              "    </tr>\n",
              "    <tr>\n",
              "      <th>549</th>\n",
              "      <td>1970-01-01 04:41:00</td>\n",
              "      <td>0.644978</td>\n",
              "      <td>-0.772786</td>\n",
              "      <td>2.096793</td>\n",
              "    </tr>\n",
              "    <tr>\n",
              "      <th>550</th>\n",
              "      <td>1970-01-01 04:41:30</td>\n",
              "      <td>0.631620</td>\n",
              "      <td>-0.852280</td>\n",
              "      <td>2.161277</td>\n",
              "    </tr>\n",
              "    <tr>\n",
              "      <th>551</th>\n",
              "      <td>1970-01-01 04:42:00</td>\n",
              "      <td>0.618261</td>\n",
              "      <td>-0.880884</td>\n",
              "      <td>2.132853</td>\n",
              "    </tr>\n",
              "    <tr>\n",
              "      <th>552</th>\n",
              "      <td>1970-01-01 04:42:30</td>\n",
              "      <td>0.604903</td>\n",
              "      <td>-0.889690</td>\n",
              "      <td>1.922476</td>\n",
              "    </tr>\n",
              "    <tr>\n",
              "      <th>553</th>\n",
              "      <td>1970-01-01 04:43:00</td>\n",
              "      <td>0.591545</td>\n",
              "      <td>-0.923570</td>\n",
              "      <td>2.141272</td>\n",
              "    </tr>\n",
              "    <tr>\n",
              "      <th>554</th>\n",
              "      <td>1970-01-01 04:43:30</td>\n",
              "      <td>0.578186</td>\n",
              "      <td>-0.957897</td>\n",
              "      <td>2.032962</td>\n",
              "    </tr>\n",
              "    <tr>\n",
              "      <th>555</th>\n",
              "      <td>1970-01-01 04:44:00</td>\n",
              "      <td>0.564828</td>\n",
              "      <td>-0.969691</td>\n",
              "      <td>2.133874</td>\n",
              "    </tr>\n",
              "    <tr>\n",
              "      <th>556</th>\n",
              "      <td>1970-01-01 04:44:30</td>\n",
              "      <td>0.551470</td>\n",
              "      <td>-0.884277</td>\n",
              "      <td>1.999009</td>\n",
              "    </tr>\n",
              "    <tr>\n",
              "      <th>557</th>\n",
              "      <td>1970-01-01 04:45:00</td>\n",
              "      <td>0.538111</td>\n",
              "      <td>-1.051537</td>\n",
              "      <td>2.065194</td>\n",
              "    </tr>\n",
              "    <tr>\n",
              "      <th>558</th>\n",
              "      <td>1970-01-01 04:45:30</td>\n",
              "      <td>0.524753</td>\n",
              "      <td>-0.985763</td>\n",
              "      <td>1.953150</td>\n",
              "    </tr>\n",
              "    <tr>\n",
              "      <th>559</th>\n",
              "      <td>1970-01-01 04:46:00</td>\n",
              "      <td>0.511395</td>\n",
              "      <td>-1.058669</td>\n",
              "      <td>1.970706</td>\n",
              "    </tr>\n",
              "    <tr>\n",
              "      <th>560</th>\n",
              "      <td>1970-01-01 04:46:30</td>\n",
              "      <td>0.498036</td>\n",
              "      <td>-0.951079</td>\n",
              "      <td>1.978186</td>\n",
              "    </tr>\n",
              "    <tr>\n",
              "      <th>561</th>\n",
              "      <td>1970-01-01 04:47:00</td>\n",
              "      <td>0.484678</td>\n",
              "      <td>-0.989717</td>\n",
              "      <td>2.041067</td>\n",
              "    </tr>\n",
              "    <tr>\n",
              "      <th>562</th>\n",
              "      <td>1970-01-01 04:47:30</td>\n",
              "      <td>0.471320</td>\n",
              "      <td>-1.142951</td>\n",
              "      <td>1.988527</td>\n",
              "    </tr>\n",
              "    <tr>\n",
              "      <th>563</th>\n",
              "      <td>1970-01-01 04:48:00</td>\n",
              "      <td>0.457961</td>\n",
              "      <td>-0.951126</td>\n",
              "      <td>2.001411</td>\n",
              "    </tr>\n",
              "    <tr>\n",
              "      <th>564</th>\n",
              "      <td>1970-01-01 04:48:30</td>\n",
              "      <td>0.444603</td>\n",
              "      <td>-1.068095</td>\n",
              "      <td>1.930233</td>\n",
              "    </tr>\n",
              "    <tr>\n",
              "      <th>565</th>\n",
              "      <td>1970-01-01 04:49:00</td>\n",
              "      <td>0.431245</td>\n",
              "      <td>-1.170878</td>\n",
              "      <td>1.863938</td>\n",
              "    </tr>\n",
              "    <tr>\n",
              "      <th>566</th>\n",
              "      <td>1970-01-01 04:49:30</td>\n",
              "      <td>0.417886</td>\n",
              "      <td>-1.177515</td>\n",
              "      <td>1.896212</td>\n",
              "    </tr>\n",
              "    <tr>\n",
              "      <th>567</th>\n",
              "      <td>1970-01-01 04:50:00</td>\n",
              "      <td>0.404528</td>\n",
              "      <td>-1.090369</td>\n",
              "      <td>1.897466</td>\n",
              "    </tr>\n",
              "    <tr>\n",
              "      <th>568</th>\n",
              "      <td>1970-01-01 04:50:30</td>\n",
              "      <td>0.391170</td>\n",
              "      <td>-1.078283</td>\n",
              "      <td>1.882955</td>\n",
              "    </tr>\n",
              "    <tr>\n",
              "      <th>569</th>\n",
              "      <td>1970-01-01 04:51:00</td>\n",
              "      <td>0.377811</td>\n",
              "      <td>-1.174155</td>\n",
              "      <td>1.759388</td>\n",
              "    </tr>\n",
              "    <tr>\n",
              "      <th>570</th>\n",
              "      <td>1970-01-01 04:51:30</td>\n",
              "      <td>0.364453</td>\n",
              "      <td>-1.040837</td>\n",
              "      <td>1.812615</td>\n",
              "    </tr>\n",
              "    <tr>\n",
              "      <th>571</th>\n",
              "      <td>1970-01-01 04:52:00</td>\n",
              "      <td>0.351095</td>\n",
              "      <td>-1.111476</td>\n",
              "      <td>1.843437</td>\n",
              "    </tr>\n",
              "    <tr>\n",
              "      <th>572</th>\n",
              "      <td>1970-01-01 04:52:30</td>\n",
              "      <td>0.337736</td>\n",
              "      <td>-1.088930</td>\n",
              "      <td>1.747435</td>\n",
              "    </tr>\n",
              "    <tr>\n",
              "      <th>573</th>\n",
              "      <td>1970-01-01 04:53:00</td>\n",
              "      <td>0.324378</td>\n",
              "      <td>-1.195388</td>\n",
              "      <td>1.823861</td>\n",
              "    </tr>\n",
              "  </tbody>\n",
              "</table>\n",
              "</div>"
            ],
            "text/plain": [
              "                     ds      yhat  yhat_lower  yhat_upper\n",
              "544 1970-01-01 04:38:30  0.711770   -0.778800    2.141895\n",
              "545 1970-01-01 04:39:00  0.698411   -0.908538    2.244029\n",
              "546 1970-01-01 04:39:30  0.685053   -0.860167    2.187700\n",
              "547 1970-01-01 04:40:00  0.671695   -0.864382    2.103134\n",
              "548 1970-01-01 04:40:30  0.658336   -0.952764    2.189860\n",
              "549 1970-01-01 04:41:00  0.644978   -0.772786    2.096793\n",
              "550 1970-01-01 04:41:30  0.631620   -0.852280    2.161277\n",
              "551 1970-01-01 04:42:00  0.618261   -0.880884    2.132853\n",
              "552 1970-01-01 04:42:30  0.604903   -0.889690    1.922476\n",
              "553 1970-01-01 04:43:00  0.591545   -0.923570    2.141272\n",
              "554 1970-01-01 04:43:30  0.578186   -0.957897    2.032962\n",
              "555 1970-01-01 04:44:00  0.564828   -0.969691    2.133874\n",
              "556 1970-01-01 04:44:30  0.551470   -0.884277    1.999009\n",
              "557 1970-01-01 04:45:00  0.538111   -1.051537    2.065194\n",
              "558 1970-01-01 04:45:30  0.524753   -0.985763    1.953150\n",
              "559 1970-01-01 04:46:00  0.511395   -1.058669    1.970706\n",
              "560 1970-01-01 04:46:30  0.498036   -0.951079    1.978186\n",
              "561 1970-01-01 04:47:00  0.484678   -0.989717    2.041067\n",
              "562 1970-01-01 04:47:30  0.471320   -1.142951    1.988527\n",
              "563 1970-01-01 04:48:00  0.457961   -0.951126    2.001411\n",
              "564 1970-01-01 04:48:30  0.444603   -1.068095    1.930233\n",
              "565 1970-01-01 04:49:00  0.431245   -1.170878    1.863938\n",
              "566 1970-01-01 04:49:30  0.417886   -1.177515    1.896212\n",
              "567 1970-01-01 04:50:00  0.404528   -1.090369    1.897466\n",
              "568 1970-01-01 04:50:30  0.391170   -1.078283    1.882955\n",
              "569 1970-01-01 04:51:00  0.377811   -1.174155    1.759388\n",
              "570 1970-01-01 04:51:30  0.364453   -1.040837    1.812615\n",
              "571 1970-01-01 04:52:00  0.351095   -1.111476    1.843437\n",
              "572 1970-01-01 04:52:30  0.337736   -1.088930    1.747435\n",
              "573 1970-01-01 04:53:00  0.324378   -1.195388    1.823861"
            ]
          },
          "metadata": {
            "tags": []
          },
          "execution_count": 39
        }
      ]
    },
    {
      "cell_type": "code",
      "metadata": {
        "colab": {
          "base_uri": "https://localhost:8080/",
          "height": 441
        },
        "id": "n8351B55upP7",
        "outputId": "22c214f2-9454-4c0b-8718-05d66ea8fe1d"
      },
      "source": [
        "plot1 = model.plot(forecast)"
      ],
      "execution_count": 40,
      "outputs": [
        {
          "output_type": "display_data",
          "data": {
            "image/png": "[encoded data removed]",
            "text/plain": [
              "<Figure size 720x432 with 1 Axes>"
            ]
          },
          "metadata": {
            "tags": []
          }
        }
      ]
    },
    {
      "cell_type": "code",
      "metadata": {
        "colab": {
          "base_uri": "https://localhost:8080/",
          "height": 224
        },
        "id": "Ymoo0_VWyclD",
        "outputId": "f752fa6a-00b6-41b1-be8e-c73f08f96fb6"
      },
      "source": [
        "plot2 = model.plot_components(forecast)"
      ],
      "execution_count": 41,
      "outputs": [
        {
          "output_type": "display_data",
          "data": {
            "image/png": "[encoded data removed]",
            "text/plain": [
              "<Figure size 648x216 with 1 Axes>"
            ]
          },
          "metadata": {
            "tags": []
          }
        }
      ]
    },
    {
      "cell_type": "code",
      "metadata": {
        "id": "n8ig7HFrylCY"
      },
      "source": [
        "from fbprophet.diagnostics import cross_validation\n",
        "df_cv = cross_validation(model, initial='730 days', period='180 days', horizon = '365 days')\n",
        "df_cv.head()"
      ],
      "execution_count": null,
      "outputs": []
    }
  ]
}