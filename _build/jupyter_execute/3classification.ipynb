{
 "cells": [
  {
   "cell_type": "markdown",
   "metadata": {
    "id": "zx_j93gjY0TX"
   },
   "source": [
    "# Classification of windowed time series **without** feature extraction\n",
    "\n",
    "Here we will make use of the processed data before using feature extraction methods to expand our data into higher dimensional space. \n",
    "\n",
    "In the following cells we will use the original features to build and evaluate classifiers for\n",
    "* binary (Sleep / Wake), \n",
    "* three (Sleep / NREM / REM), \n",
    "* and multi (Sleep / N1 / N2 / N3 / REM) label classification."
   ]
  },
  {
   "cell_type": "markdown",
   "metadata": {
    "id": "xnGX0huMbJ81"
   },
   "source": [
    "## AutoML\n",
    "\n",
    "Automated machine learning (AutoML) involves automating the process of applying machine learning end-to-end. It makes ML accessible to non-experts as well as providing a quick and easy way to create model fitted on data without worrying about hyperparameters.\n",
    "\n",
    "We will use AutoML later on in the notebook but we are installing it here because the runtime must be restarted afterwards.\n",
    "\n",
    "***Note if you are running this book: run this cell, then restart the notebook's runtime and then run all cells again after. This avoids version errors in auto-sklearn modules.***"
   ]
  },
  {
   "cell_type": "code",
   "execution_count": null,
   "metadata": {
    "colab": {
     "base_uri": "https://localhost:8080/"
    },
    "id": "6OQW3d0bbJ9S",
    "outputId": "b66868d5-dc25-4b0d-9c04-58f1e31a3f96"
   },
   "outputs": [
    {
     "name": "stdout",
     "output_type": "stream",
     "text": [
      "Reading package lists... Done\n",
      "Building dependency tree       \n",
      "Reading state information... Done\n",
      "swig is already the newest version (3.0.12-1).\n",
      "0 upgraded, 0 newly installed, 0 to remove and 14 not upgraded.\n",
      "Requirement already satisfied: Cython in /usr/local/lib/python3.6/dist-packages (0.29.21)\n",
      "Requirement already satisfied: numpy in /usr/local/lib/python3.6/dist-packages (1.18.5)\n",
      "Requirement already satisfied: auto-sklearn in /usr/local/lib/python3.6/dist-packages (0.11.1)\n",
      "Requirement already satisfied: ConfigSpace<0.5,>=0.4.14 in /usr/local/lib/python3.6/dist-packages (from auto-sklearn) (0.4.16)\n",
      "Requirement already satisfied: pandas>=1.0 in /usr/local/lib/python3.6/dist-packages (from auto-sklearn) (1.1.4)\n",
      "Requirement already satisfied: scikit-learn<0.23,>=0.22.0 in /usr/local/lib/python3.6/dist-packages (from auto-sklearn) (0.22.2.post1)\n",
      "Requirement already satisfied: pynisher>=0.6.1 in /usr/local/lib/python3.6/dist-packages (from auto-sklearn) (0.6.1)\n",
      "Requirement already satisfied: dask in /usr/local/lib/python3.6/dist-packages (from auto-sklearn) (2.12.0)\n",
      "Requirement already satisfied: scipy>=0.14.1 in /usr/local/lib/python3.6/dist-packages (from auto-sklearn) (1.4.1)\n",
      "Requirement already satisfied: setuptools in /usr/local/lib/python3.6/dist-packages (from auto-sklearn) (50.3.2)\n",
      "Requirement already satisfied: pyrfr<0.9,>=0.7 in /usr/local/lib/python3.6/dist-packages (from auto-sklearn) (0.8.0)\n",
      "Requirement already satisfied: smac<0.14,>=0.13.1 in /usr/local/lib/python3.6/dist-packages (from auto-sklearn) (0.13.1)\n",
      "Requirement already satisfied: lockfile in /usr/local/lib/python3.6/dist-packages (from auto-sklearn) (0.12.2)\n",
      "Requirement already satisfied: pyyaml in /usr/local/lib/python3.6/dist-packages (from auto-sklearn) (3.13)\n",
      "Requirement already satisfied: liac-arff in /usr/local/lib/python3.6/dist-packages (from auto-sklearn) (2.5.0)\n",
      "Requirement already satisfied: numpy>=1.9.0 in /usr/local/lib/python3.6/dist-packages (from auto-sklearn) (1.18.5)\n",
      "Requirement already satisfied: distributed>=2.2.0 in /usr/local/lib/python3.6/dist-packages (from auto-sklearn) (2.30.1)\n",
      "Requirement already satisfied: joblib in /usr/local/lib/python3.6/dist-packages (from auto-sklearn) (0.17.0)\n",
      "Requirement already satisfied: pyparsing in /usr/local/lib/python3.6/dist-packages (from ConfigSpace<0.5,>=0.4.14->auto-sklearn) (2.4.7)\n",
      "Requirement already satisfied: cython in /usr/local/lib/python3.6/dist-packages (from ConfigSpace<0.5,>=0.4.14->auto-sklearn) (0.29.21)\n",
      "Requirement already satisfied: python-dateutil>=2.7.3 in /usr/local/lib/python3.6/dist-packages (from pandas>=1.0->auto-sklearn) (2.8.1)\n",
      "Requirement already satisfied: pytz>=2017.2 in /usr/local/lib/python3.6/dist-packages (from pandas>=1.0->auto-sklearn) (2018.9)\n",
      "Requirement already satisfied: docutils>=0.3 in /usr/local/lib/python3.6/dist-packages (from pynisher>=0.6.1->auto-sklearn) (0.16)\n",
      "Requirement already satisfied: psutil in /usr/local/lib/python3.6/dist-packages (from pynisher>=0.6.1->auto-sklearn) (5.4.8)\n",
      "Requirement already satisfied: lazy-import in /usr/local/lib/python3.6/dist-packages (from smac<0.14,>=0.13.1->auto-sklearn) (0.2.2)\n",
      "Requirement already satisfied: sortedcontainers!=2.0.0,!=2.0.1 in /usr/local/lib/python3.6/dist-packages (from distributed>=2.2.0->auto-sklearn) (2.2.2)\n",
      "Requirement already satisfied: tblib>=1.6.0 in /usr/local/lib/python3.6/dist-packages (from distributed>=2.2.0->auto-sklearn) (1.7.0)\n",
      "Requirement already satisfied: click>=6.6 in /usr/local/lib/python3.6/dist-packages (from distributed>=2.2.0->auto-sklearn) (7.1.2)\n",
      "Requirement already satisfied: msgpack>=0.6.0 in /usr/local/lib/python3.6/dist-packages (from distributed>=2.2.0->auto-sklearn) (1.0.0)\n",
      "Requirement already satisfied: cloudpickle>=1.5.0 in /usr/local/lib/python3.6/dist-packages (from distributed>=2.2.0->auto-sklearn) (1.6.0)\n",
      "Requirement already satisfied: toolz>=0.8.2 in /usr/local/lib/python3.6/dist-packages (from distributed>=2.2.0->auto-sklearn) (0.11.1)\n",
      "Requirement already satisfied: tornado>=5; python_version < \"3.8\" in /usr/local/lib/python3.6/dist-packages (from distributed>=2.2.0->auto-sklearn) (5.1.1)\n",
      "Requirement already satisfied: zict>=0.1.3 in /usr/local/lib/python3.6/dist-packages (from distributed>=2.2.0->auto-sklearn) (2.0.0)\n",
      "Requirement already satisfied: contextvars; python_version < \"3.7\" in /usr/local/lib/python3.6/dist-packages (from distributed>=2.2.0->auto-sklearn) (2.4)\n",
      "Requirement already satisfied: six>=1.5 in /usr/local/lib/python3.6/dist-packages (from python-dateutil>=2.7.3->pandas>=1.0->auto-sklearn) (1.15.0)\n",
      "Requirement already satisfied: heapdict in /usr/local/lib/python3.6/dist-packages (from zict>=0.1.3->distributed>=2.2.0->auto-sklearn) (1.0.1)\n",
      "Requirement already satisfied: immutables>=0.9 in /usr/local/lib/python3.6/dist-packages (from contextvars; python_version < \"3.7\"->distributed>=2.2.0->auto-sklearn) (0.14)\n"
     ]
    }
   ],
   "source": [
    "!apt-get install swig -y\n",
    "!pip install Cython numpy\n",
    "\n",
    "# sometimes you have to run the next command twice on colab\n",
    "# I haven't figured out why\n",
    "!pip install auto-sklearn"
   ]
  },
  {
   "cell_type": "markdown",
   "metadata": {
    "id": "Abx93Z02M0rT"
   },
   "source": [
    "### Mount Drive \n",
    "\n",
    "\n",
    "\n"
   ]
  },
  {
   "cell_type": "code",
   "execution_count": null,
   "metadata": {
    "colab": {
     "base_uri": "https://localhost:8080/"
    },
    "id": "5zo43Shjkwsc",
    "outputId": "48656d57-5a1b-49c4-9024-65a6ccfe96e6"
   },
   "outputs": [
    {
     "name": "stdout",
     "output_type": "stream",
     "text": [
      "Drive already mounted at /content/drive; to attempt to forcibly remount, call drive.mount(\"/content/drive\", force_remount=True).\n"
     ]
    }
   ],
   "source": [
    "from google.colab import drive\n",
    "drive.mount('/content/drive')\n",
    "\n",
    "import os\n",
    "os.chdir('/content/drive/My Drive/CA4015/sleep_classify')"
   ]
  },
  {
   "cell_type": "markdown",
   "metadata": {
    "id": "mmkxDDOkJmk5"
   },
   "source": [
    "##**Modelling the Windows as Independent Data Points**##\n",
    "\n",
    "This next part of the notebook involves looking at the interpolated data chunks as independent separate data points with the time element and patient ID removed. The model performance from this dataset will be a true indicator of how important the time series element is to classifying a patient's sleep state, given only their motion and heart rate for that given window. It's expected that this will result in an impaired model performance compared to the classification of the data with extracted features. Although an improvement would lead to the hypothesis that sleep classification only requires a static model of independent data points."
   ]
  },
  {
   "cell_type": "markdown",
   "metadata": {
    "id": "HHPocAg3UKjP"
   },
   "source": [
    "## Read in our windowed features and their matching labels prepared in our previous data processing\n",
    "\n",
    "In this approach we are using the original motion and heart rate features that were windowed at the end of our data processing operation. The time and ID columns are dropped from the dataframe as we are modelling purely based on the heart rate and motion features."
   ]
  },
  {
   "cell_type": "code",
   "execution_count": null,
   "metadata": {
    "id": "xqISMG13-f8-"
   },
   "outputs": [],
   "source": [
    "import pandas as pd\n",
    "import numpy as np\n",
    "# read in our windowed features and matching labels\n",
    "\n",
    "full_set_features = pd.read_csv('/content/drive/My Drive/CA4015/sleep_classify/raw_windowed_features.csv')\n",
    "full_set_true_labels = pd.read_csv('/content/drive/My Drive/CA4015/sleep_classify/raw_windowed_labels.csv')\n",
    "\n",
    "# we do not require id and time step columns for this approach\n",
    "full_set_features = full_set_features.drop(['Unnamed: 0', 'id'], axis=1)\n",
    "full_set_true_labels = full_set_true_labels.drop(['0', 'id'], axis=1)\n"
   ]
  },
  {
   "cell_type": "markdown",
   "metadata": {
    "id": "eWE93ADDUcx2"
   },
   "source": [
    "Ensure that the unique labels for our data lie in the range 0-5 with unknowns -1 and 4 removed."
   ]
  },
  {
   "cell_type": "code",
   "execution_count": null,
   "metadata": {
    "colab": {
     "base_uri": "https://localhost:8080/"
    },
    "id": "sZtR0Gtgitmf",
    "outputId": "2b849f9a-a9ea-4434-892c-202996eb1459"
   },
   "outputs": [
    {
     "data": {
      "text/plain": [
       "array([0, 1, 2, 3, 5])"
      ]
     },
     "execution_count": 4,
     "metadata": {
      "tags": []
     },
     "output_type": "execute_result"
    }
   ],
   "source": [
    "full_set_true_labels[\"1\"].unique()"
   ]
  },
  {
   "cell_type": "markdown",
   "metadata": {
    "id": "A8w5KzfnNp7Q"
   },
   "source": [
    "Notice the new dataframe where the order and index of data points are arbitrary and provide no information about the given readings."
   ]
  },
  {
   "cell_type": "code",
   "execution_count": null,
   "metadata": {
    "colab": {
     "base_uri": "https://localhost:8080/"
    },
    "id": "kFeV0MDpANeW",
    "outputId": "2c36fc8f-f95d-4e08-b754-817d1b532e58"
   },
   "outputs": [
    {
     "name": "stdout",
     "output_type": "stream",
     "text": [
      "Full Set Features \n",
      "               x         y         z    hr\n",
      "0     -0.612717 -0.086441 -0.774131  74.5\n",
      "1     -0.608009 -0.078117 -0.779465  66.5\n",
      "2     -0.608291 -0.074685 -0.776802  68.0\n",
      "3     -0.604043 -0.074944 -0.782837  71.0\n",
      "4     -0.607269 -0.070290 -0.782433  68.0\n",
      "...         ...       ...       ...   ...\n",
      "26412 -0.108566 -0.196350 -0.966415  87.0\n",
      "26413 -0.106613 -0.198547 -0.966125  87.0\n",
      "26414 -0.108292 -0.198059 -0.967621  87.0\n",
      "26415 -0.107285 -0.199288 -0.968819  86.5\n",
      "26416 -0.106293 -0.197815 -0.970017  87.0\n",
      "\n",
      "[26417 rows x 4 columns]\n",
      "\n",
      "Full Set Labels \n",
      "        1\n",
      "0      0\n",
      "1      0\n",
      "2      0\n",
      "3      0\n",
      "4      0\n",
      "...   ..\n",
      "26412  2\n",
      "26413  2\n",
      "26414  2\n",
      "26415  2\n",
      "26416  2\n",
      "\n",
      "[26417 rows x 1 columns]\n"
     ]
    }
   ],
   "source": [
    "print(\"Full Set Features\", \"\\n\", full_set_features)\n",
    "print(\"\\nFull Set Labels\", \"\\n\", full_set_true_labels)"
   ]
  },
  {
   "cell_type": "markdown",
   "metadata": {
    "id": "d2pWzgdzUn2Y"
   },
   "source": [
    "Classification models require the target feature set to be in a numpy array. Here we unravel our labels from pandas Series format into a numpy array."
   ]
  },
  {
   "cell_type": "code",
   "execution_count": null,
   "metadata": {
    "colab": {
     "base_uri": "https://localhost:8080/"
    },
    "id": "ODVnQc2ogDnh",
    "outputId": "eb69e753-2e6a-4255-b842-16ee6102b667"
   },
   "outputs": [
    {
     "name": "stdout",
     "output_type": "stream",
     "text": [
      "(26417,)\n"
     ]
    },
    {
     "data": {
      "text/plain": [
       "array([0, 0, 0, ..., 2, 2, 2])"
      ]
     },
     "execution_count": 6,
     "metadata": {
      "tags": []
     },
     "output_type": "execute_result"
    }
   ],
   "source": [
    "label_array = full_set_true_labels.values.ravel()\n",
    "print(label_array.shape)\n",
    "label_array"
   ]
  },
  {
   "cell_type": "markdown",
   "metadata": {
    "id": "nBtM4U2ejFwP"
   },
   "source": [
    "# **Sklearn - Binary Data Classifier**\n",
    "\n",
    "First, we will attempt to classify the data points as being either \"Wake\" or \"Sleep\". The next cell will create a dataset which will replace any label greater than 0 with a 1, so 0 still represents \"Wake\", while 1 represents \"Sleep\".\n",
    "\n",
    "Let's now implement a simple classifier using our new **binary** dataset."
   ]
  },
  {
   "cell_type": "code",
   "execution_count": null,
   "metadata": {
    "colab": {
     "base_uri": "https://localhost:8080/"
    },
    "id": "ruxig5XVhn0S",
    "outputId": "c179529d-6cc9-49ad-a811-2f29bf48946f"
   },
   "outputs": [
    {
     "data": {
      "text/plain": [
       "array([0, 1])"
      ]
     },
     "execution_count": 7,
     "metadata": {
      "tags": []
     },
     "output_type": "execute_result"
    }
   ],
   "source": [
    "# first we'll create a binary label set, indicating 0 for awake and 1 for asleep\n",
    "\n",
    "binary_label_array = label_array.copy()\n",
    "binary_label_array[binary_label_array > 0] = 1\n",
    "np.unique(binary_label_array)"
   ]
  },
  {
   "cell_type": "code",
   "execution_count": null,
   "metadata": {
    "id": "kc7GFir_jFwX"
   },
   "outputs": [],
   "source": [
    "from sklearn.model_selection import train_test_split\n",
    "\n",
    "# Splitting our data into training and testing sets\n",
    "\n",
    "X_train, X_test, y_train, y_test = train_test_split(full_set_features, binary_label_array, test_size=0.25)"
   ]
  },
  {
   "cell_type": "markdown",
   "metadata": {
    "id": "QyOpTaJXjFwx"
   },
   "source": [
    "## Support Vector Machine (SVM)\n",
    "\n",
    "SVMs are a type of supervised learning model that attempts to analyse input data given corresponding labels. SVMs are quite robust but unfortunately training complexity can reach $O(n2p+n3)$ when using non-approximate or non-linear kernels, where $n$ is the number of training examples and $p$ is the number of features.\n",
    "\n",
    "SVMs work by finding a separating hyperplane between data of different classes. SVM is an algorithm that takes the data as an input and outputs a line that separates those classes as best as it can.\n",
    "\n",
    "A hyperplane in an n-dimensional Euclidean space is a flat, n-1 dimensional subset of that space that divides the space into two disconnected parts."
   ]
  },
  {
   "cell_type": "code",
   "execution_count": null,
   "metadata": {
    "colab": {
     "base_uri": "https://localhost:8080/"
    },
    "id": "P2zC8uWojFwz",
    "outputId": "a5aad2e3-6ba7-462a-c673-9f94fdb5e70b"
   },
   "outputs": [
    {
     "data": {
      "text/plain": [
       "Pipeline(memory=None,\n",
       "         steps=[('standardscaler',\n",
       "                 StandardScaler(copy=True, with_mean=True, with_std=True)),\n",
       "                ('svc',\n",
       "                 SVC(C=1.0, break_ties=False, cache_size=200, class_weight=None,\n",
       "                     coef0=0.0, decision_function_shape='ovr', degree=3,\n",
       "                     gamma='auto', kernel='rbf', max_iter=-1, probability=False,\n",
       "                     random_state=None, shrinking=True, tol=0.001,\n",
       "                     verbose=False))],\n",
       "         verbose=False)"
      ]
     },
     "execution_count": 9,
     "metadata": {
      "tags": []
     },
     "output_type": "execute_result"
    }
   ],
   "source": [
    "from sklearn.svm import SVC\n",
    "from sklearn.pipeline import make_pipeline\n",
    "from sklearn.preprocessing import StandardScaler\n",
    "\n",
    "# Implementing a C-Support Vector Classifier, \n",
    "\n",
    "clf = make_pipeline(StandardScaler(), SVC(gamma='auto'))\n",
    "clf.fit(X_train, y_train)"
   ]
  },
  {
   "cell_type": "code",
   "execution_count": null,
   "metadata": {
    "colab": {
     "base_uri": "https://localhost:8080/"
    },
    "id": "7dpeZ4wNjFxJ",
    "outputId": "c133358f-4771-458d-e76f-fad52f0f26a0"
   },
   "outputs": [
    {
     "data": {
      "text/plain": [
       "0.9096139288417865"
      ]
     },
     "execution_count": 10,
     "metadata": {
      "tags": []
     },
     "output_type": "execute_result"
    }
   ],
   "source": [
    "clf.score(X_test, y_test, sample_weight=None)"
   ]
  },
  {
   "cell_type": "markdown",
   "metadata": {
    "id": "hkAQHCqfj9ZB"
   },
   "source": [
    "Not a bad score by any means, but as we will see later on, not the best score. Also, accuracy alone is not the best representation of model performance. We would expect the performance to be quite high for binary classification, as a human randomly guessing the label would be 50% accurate."
   ]
  },
  {
   "cell_type": "markdown",
   "metadata": {
    "id": "huX2pBXFjFxd"
   },
   "source": [
    "## Decision Tree Classifier\n",
    "\n",
    "Let's look at the consistency of our classifier according to this Decision Tree Model. We can see below it is ~90% accurate with 95% confidence interval of 1%.\n",
    "\n",
    "To train our model we use a technique called Cross Validation; by partitioning the available data into n sets, we drastically reduce the number of samples which can be used for learning the model, and the results can depend on a particular random choice for the pair of (train, validation) sets.\n",
    "\n",
    "A solution to this problem is a procedure called cross-validation. A test set should still be held out for final evaluation, but the validation set is no longer needed when doing CV. In the basic approach, called k-fold CV, the training set is split into k smaller sets. \n",
    "\n",
    "The confusion matrix below shows how the decision tree performed on the test set. The top left entry indicates the number of examples correctly labelled \"Wake\" and the top right is the number of examples incorrectly labelled as \"Sleep\". Then the bottom left and right indicate the number of examples were incorrectly labelled \"Wake\" and correctly labelled \"Sleep\" respectively.\n",
    "\n",
    "The smaller the values off the diagonal of your confusion matrix are, the better it has performed on the given data."
   ]
  },
  {
   "cell_type": "code",
   "execution_count": null,
   "metadata": {
    "colab": {
     "base_uri": "https://localhost:8080/"
    },
    "id": "7exs09KgjFxe",
    "outputId": "083d4312-c0d2-40ca-eb30-f9447abb4a40"
   },
   "outputs": [
    {
     "name": "stdout",
     "output_type": "stream",
     "text": [
      "The mean score and the 95% confidence interval of the score estimate are given by:\n",
      "Accuracy: 0.91 (+/- 0.01)\n",
      "\n",
      "The list of features with importance: \n",
      "['x', 'y', 'z', 'hr']\n",
      "\n",
      "importance\n",
      " [0.26051276 0.30081511 0.30410366 0.13456847]\n",
      "\n",
      "Test set accuracy:\n",
      " 0.9182437547312642 \n",
      "\n",
      "Confusion Matrix\n",
      " [[ 303  304]\n",
      " [ 236 5762]] \n",
      "\n"
     ]
    }
   ],
   "source": [
    "from sklearn.model_selection import cross_val_score\n",
    "from sklearn.tree import DecisionTreeClassifier, export_graphviz\n",
    "from sklearn.metrics import confusion_matrix\n",
    "from sklearn.metrics import accuracy_score\n",
    "\n",
    "clf = DecisionTreeClassifier(random_state=0)  # min_samples_leaf=200\n",
    "\n",
    "scores = cross_val_score(clf, X_train, y_train, cv=5)\n",
    "print('The mean score and the 95% confidence interval of the score estimate are given by:')\n",
    "print(\"Accuracy: %0.2f (+/- %0.2f)\" % (scores.mean(), scores.std() * 2))\n",
    "\n",
    "# Training the model in a standard way allows to to view the feature importance\n",
    "# for this model alone.\n",
    "clf.fit(X_train,y_train)\n",
    "importance = (clf.feature_importances_)\n",
    "\n",
    "# using list comprehension + enumerate() \n",
    "# index of matching element \n",
    "res = [idx for idx, val in enumerate(importance) if val > 0] \n",
    "res_feats = [full_set_features.columns[i] for i in res]\n",
    "  \n",
    "# print result \n",
    "print(\"\\nThe list of features with importance: \") \n",
    "\n",
    "print(res_feats)\n",
    "print(\"\\nimportance\\n\", importance)\n",
    "\n",
    "predictions = clf.predict(X_test)\n",
    "print(\"\\nTest set accuracy:\\n\", accuracy_score(y_test, predictions), \"\\n\")\n",
    "print(\"Confusion Matrix\\n\", confusion_matrix(y_test, predictions), \"\\n\")"
   ]
  },
  {
   "cell_type": "markdown",
   "metadata": {
    "id": "raKGFXBLMy4r"
   },
   "source": [
    "## Interpreting our models\n",
    "\n",
    "The advantage of using more \"basic\" models like Decsion Trees is that they are much easier to interpret than more complex approaches such as neural networks. This is particularly important in real-world scenarios where a model is used to make high-stakes decisions; we want to know **why** a model has made a particular decision when given an input - such as a patient's MRI scan - not just **how**. [A paper published in Nature (Rudin, C., 2019)](https://www.nature.com/articles/s42256-019-0048-x) explores this topic further.\n",
    "\n",
    "In our case, it's not critical to know why a model has made a classification, but it is interesting to note that Decision Trees perform quite well on this data.\n",
    "\n",
    "In the below cells we can project the Decision Tree on to an image, which would allow a human to follow the \"thought process\" of the model from start to classification given an input.\n",
    "\n",
    "The resulting image from the above tree is far too large to see here, but if we set the parameter min_samples_leaf to a large value such as 200, it would force the tree to stop splitting earlier, making the image simpler and easier to read. However, doing so creates an issue which we will see later on, whereby the model simply guesses that all given inputs are classified as \"Sleep\", because that is the majority label it is shown in training."
   ]
  },
  {
   "cell_type": "code",
   "execution_count": null,
   "metadata": {
    "colab": {
     "base_uri": "https://localhost:8080/"
    },
    "id": "Lb9C0adYWceK",
    "outputId": "4c6691c6-d9d7-47b4-e246-c050ef608ad2"
   },
   "outputs": [
    {
     "name": "stdout",
     "output_type": "stream",
     "text": [
      "Requirement already satisfied: graphviz in /usr/local/lib/python3.6/dist-packages (0.10.1)\n",
      "Requirement already satisfied: imageio in /usr/local/lib/python3.6/dist-packages (2.4.1)\n",
      "Requirement already satisfied: pillow in /usr/local/lib/python3.6/dist-packages (from imageio) (7.0.0)\n",
      "Requirement already satisfied: numpy in /usr/local/lib/python3.6/dist-packages (from imageio) (1.18.5)\n"
     ]
    }
   ],
   "source": [
    "!pip install graphviz\n",
    "!pip install imageio\n",
    "import graphviz\n",
    "import pydotplus\n",
    "import io\n",
    "from scipy import misc\n",
    "import imageio\n",
    "import matplotlib.pyplot as plt\n",
    "\n",
    "\n",
    "def show_tree(tree, path):\n",
    "    f = io.StringIO()\n",
    "    export_graphviz(tree, out_file=f)\n",
    "    pydotplus.graph_from_dot_data(f.getvalue()).write_png(path)\n",
    "    img = imageio.imread(path)\n",
    "    plt.rcParams[\"figure.figsize\"] = (30,20)\n",
    "    plt.imshow(img)\n"
   ]
  },
  {
   "cell_type": "code",
   "execution_count": null,
   "metadata": {
    "colab": {
     "base_uri": "https://localhost:8080/",
     "height": 177
    },
    "id": "lfZz-51WX5Er",
    "outputId": "1931c353-43d9-45e3-af73-5e03efbd19cb"
   },
   "outputs": [
    {
     "name": "stdout",
     "output_type": "stream",
     "text": [
      "dot: graph is too large for cairo-renderer bitmaps. Scaling by 0.488491 to fit\n",
      "\n"
     ]
    },
    {
     "data": {
      "image/png": "[encoded data removed]",
      "text/plain": [
       "<Figure size 2160x1440 with 1 Axes>"
      ]
     },
     "metadata": {
      "filenames": {
       "image/png": "C:\\Users\\John\\CA4015_Assignment_2\\_build\\jupyter_execute\\3classification_25_1.png"
      },
      "needs_background": "light",
      "tags": []
     },
     "output_type": "display_data"
    }
   ],
   "source": [
    "show_tree(clf, \"binary_dec_tree.png\")"
   ]
  },
  {
   "cell_type": "markdown",
   "metadata": {
    "id": "vkGaIsrQKVGe"
   },
   "source": [
    "## Comparing Classification Algorithms\n",
    "\n",
    "When comparing the different algorithms for classifying our sleep stages, we must also look at how these algorithms choose a label. As shown below, all algorithms initially look very effective at classifying data, with all achieving accuracy of $>= 90%$. \n",
    "\n",
    "However, a closer inspection reveals that some algorithms are simply guessing every datapoint is in \"Sleep\" stage, because, for the majority of our points, this is true."
   ]
  },
  {
   "cell_type": "code",
   "execution_count": null,
   "metadata": {
    "id": "FjAY3rxCTeGU"
   },
   "outputs": [],
   "source": [
    "from sklearn import model_selection\n",
    "from sklearn.metrics import classification_report\n",
    "from sklearn.metrics import confusion_matrix\n",
    "from sklearn.metrics import accuracy_score\n",
    "from sklearn.linear_model import LogisticRegression\n",
    "from sklearn.neighbors import KNeighborsClassifier\n",
    "from sklearn.discriminant_analysis import LinearDiscriminantAnalysis\n",
    "from sklearn.naive_bayes import GaussianNB\n",
    "from sklearn.tree import DecisionTreeClassifier\n",
    "from sklearn.ensemble import RandomForestClassifier, AdaBoostClassifier\n",
    "from sklearn.svm import SVC\n",
    "\n",
    "def algorithm_comparison(X_train, y_train, X_test, y_test, n_splits=10):\n",
    "    models = []\n",
    "    models.append((\"LOGISTIC REGRESSION\", LogisticRegression(max_iter=1000)))\n",
    "    models.append((\"LINEAR DISCRIMINANT AANALYSIS\", LinearDiscriminantAnalysis()))\n",
    "    models.append((\"K NEAREST NEIGHBOURS\", KNeighborsClassifier()))\n",
    "    models.append((\"NAIVE BAYES\", GaussianNB()))\n",
    "    models.append((\"DECISION TREE\", DecisionTreeClassifier()))\n",
    "    models.append((\"RANDOM FOREST\", RandomForestClassifier()))\n",
    "    models.append((\"SUPPORT VECTOR MACHINE\", SVC()))\n",
    "    models.append((\"ADABOOST CLASSIFIER\", AdaBoostClassifier()))\n",
    "\n",
    "    results = []\n",
    "    names = []\n",
    "\n",
    "    for name, model in models:\n",
    "      kfold = model_selection.KFold(n_splits=n_splits)\n",
    "      cv_results = model_selection.cross_val_score(model, X_train, y_train, cv=kfold, scoring=\"accuracy\")\n",
    "      results.append(cv_results)\n",
    "      names.append(name)\n",
    "      print(\"Model  Mean Accuracy  95% conf interval\")\n",
    "      msg = \"{}: {} {}\\n\".format(name, cv_results.mean(), cv_results.std() * 2)\n",
    "      print(msg)\n",
    "\n",
    "      model.fit(X_train, y_train)\n",
    "      predictions = model.predict(X_test)\n",
    "      print(\"Test set accuracy:\\n\", accuracy_score(y_test, predictions), \"\\n\")\n",
    "      print(\"Confusion Matrix\\n\", confusion_matrix(y_test, predictions), \"\\n\")\n",
    "      print(\"Classification report\\n\" ,classification_report(y_test, predictions), \"\\n\")\n",
    "\n",
    "    return names, results\n"
   ]
  },
  {
   "cell_type": "code",
   "execution_count": null,
   "metadata": {
    "colab": {
     "base_uri": "https://localhost:8080/"
    },
    "id": "67e9n23Urz1W",
    "outputId": "c75cd91f-df94-420c-a630-16658457f1b8"
   },
   "outputs": [
    {
     "name": "stdout",
     "output_type": "stream",
     "text": [
      "Model  Mean Accuracy  95% conf interval\n",
      "LOGISTIC REGRESSION: 0.9080355200845979 0.011057478757985417\n",
      "\n",
      "Test set accuracy:\n",
      " 0.9080999242997729 \n",
      "\n",
      "Confusion Matrix\n",
      " [[   0  607]\n",
      " [   0 5998]] \n",
      "\n",
      "Classification report\n",
      "               precision    recall  f1-score   support\n",
      "\n",
      "           0       0.00      0.00      0.00       607\n",
      "           1       0.91      1.00      0.95      5998\n",
      "\n",
      "    accuracy                           0.91      6605\n",
      "   macro avg       0.45      0.50      0.48      6605\n",
      "weighted avg       0.82      0.91      0.86      6605\n",
      " \n",
      "\n"
     ]
    },
    {
     "name": "stderr",
     "output_type": "stream",
     "text": [
      "/usr/local/lib/python3.6/dist-packages/sklearn/metrics/_classification.py:1272: UndefinedMetricWarning: Precision and F-score are ill-defined and being set to 0.0 in labels with no predicted samples. Use `zero_division` parameter to control this behavior.\n",
      "  _warn_prf(average, modifier, msg_start, len(result))\n"
     ]
    },
    {
     "name": "stdout",
     "output_type": "stream",
     "text": [
      "Model  Mean Accuracy  95% conf interval\n",
      "LINEAR DISCRIMINANT AANALYSIS: 0.9080355200845979 0.011057478757985417\n",
      "\n",
      "Test set accuracy:\n",
      " 0.9080999242997729 \n",
      "\n",
      "Confusion Matrix\n",
      " [[   0  607]\n",
      " [   0 5998]] \n",
      "\n",
      "Classification report\n",
      "               precision    recall  f1-score   support\n",
      "\n",
      "           0       0.00      0.00      0.00       607\n",
      "           1       0.91      1.00      0.95      5998\n",
      "\n",
      "    accuracy                           0.91      6605\n",
      "   macro avg       0.45      0.50      0.48      6605\n",
      "weighted avg       0.82      0.91      0.86      6605\n",
      " \n",
      "\n"
     ]
    },
    {
     "name": "stderr",
     "output_type": "stream",
     "text": [
      "/usr/local/lib/python3.6/dist-packages/sklearn/metrics/_classification.py:1272: UndefinedMetricWarning: Precision and F-score are ill-defined and being set to 0.0 in labels with no predicted samples. Use `zero_division` parameter to control this behavior.\n",
      "  _warn_prf(average, modifier, msg_start, len(result))\n"
     ]
    },
    {
     "name": "stdout",
     "output_type": "stream",
     "text": [
      "Model  Mean Accuracy  95% conf interval\n",
      "K NEAREST NEIGHBOURS: 0.906672623016538 0.013060781303140236\n",
      "\n",
      "Test set accuracy:\n",
      " 0.9094625283875851 \n",
      "\n",
      "Confusion Matrix\n",
      " [[ 107  500]\n",
      " [  98 5900]] \n",
      "\n",
      "Classification report\n",
      "               precision    recall  f1-score   support\n",
      "\n",
      "           0       0.52      0.18      0.26       607\n",
      "           1       0.92      0.98      0.95      5998\n",
      "\n",
      "    accuracy                           0.91      6605\n",
      "   macro avg       0.72      0.58      0.61      6605\n",
      "weighted avg       0.89      0.91      0.89      6605\n",
      " \n",
      "\n",
      "Model  Mean Accuracy  95% conf interval\n",
      "NAIVE BAYES: 0.9083888769750572 0.011097381149822732\n",
      "\n",
      "Test set accuracy:\n",
      " 0.9084027252081757 \n",
      "\n",
      "Confusion Matrix\n",
      " [[   7  600]\n",
      " [   5 5993]] \n",
      "\n",
      "Classification report\n",
      "               precision    recall  f1-score   support\n",
      "\n",
      "           0       0.58      0.01      0.02       607\n",
      "           1       0.91      1.00      0.95      5998\n",
      "\n",
      "    accuracy                           0.91      6605\n",
      "   macro avg       0.75      0.51      0.49      6605\n",
      "weighted avg       0.88      0.91      0.87      6605\n",
      " \n",
      "\n",
      "Model  Mean Accuracy  95% conf interval\n",
      "DECISION TREE: 0.9141929816607928 0.012425338597474606\n",
      "\n",
      "Test set accuracy:\n",
      " 0.9162755488266465 \n",
      "\n",
      "Confusion Matrix\n",
      " [[ 296  311]\n",
      " [ 242 5756]] \n",
      "\n",
      "Classification report\n",
      "               precision    recall  f1-score   support\n",
      "\n",
      "           0       0.55      0.49      0.52       607\n",
      "           1       0.95      0.96      0.95      5998\n",
      "\n",
      "    accuracy                           0.92      6605\n",
      "   macro avg       0.75      0.72      0.74      6605\n",
      "weighted avg       0.91      0.92      0.91      6605\n",
      " \n",
      "\n",
      "Model  Mean Accuracy  95% conf interval\n",
      "RANDOM FOREST: 0.9385726969275728 0.005560705169040338\n",
      "\n",
      "Test set accuracy:\n",
      " 0.9398940196820591 \n",
      "\n",
      "Confusion Matrix\n",
      " [[ 273  334]\n",
      " [  63 5935]] \n",
      "\n",
      "Classification report\n",
      "               precision    recall  f1-score   support\n",
      "\n",
      "           0       0.81      0.45      0.58       607\n",
      "           1       0.95      0.99      0.97      5998\n",
      "\n",
      "    accuracy                           0.94      6605\n",
      "   macro avg       0.88      0.72      0.77      6605\n",
      "weighted avg       0.93      0.94      0.93      6605\n",
      " \n",
      "\n",
      "Model  Mean Accuracy  95% conf interval\n",
      "SUPPORT VECTOR MACHINE: 0.9080355200845979 0.011057478757985417\n",
      "\n",
      "Test set accuracy:\n",
      " 0.9080999242997729 \n",
      "\n",
      "Confusion Matrix\n",
      " [[   0  607]\n",
      " [   0 5998]] \n",
      "\n",
      "Classification report\n",
      "               precision    recall  f1-score   support\n",
      "\n",
      "           0       0.00      0.00      0.00       607\n",
      "           1       0.91      1.00      0.95      5998\n",
      "\n",
      "    accuracy                           0.91      6605\n",
      "   macro avg       0.45      0.50      0.48      6605\n",
      "weighted avg       0.82      0.91      0.86      6605\n",
      " \n",
      "\n"
     ]
    },
    {
     "name": "stderr",
     "output_type": "stream",
     "text": [
      "/usr/local/lib/python3.6/dist-packages/sklearn/metrics/_classification.py:1272: UndefinedMetricWarning: Precision and F-score are ill-defined and being set to 0.0 in labels with no predicted samples. Use `zero_division` parameter to control this behavior.\n",
      "  _warn_prf(average, modifier, msg_start, len(result))\n"
     ]
    },
    {
     "name": "stdout",
     "output_type": "stream",
     "text": [
      "Model  Mean Accuracy  95% conf interval\n",
      "ADABOOST CLASSIFIER: 0.9082878923944986 0.011041406441707589\n",
      "\n",
      "Test set accuracy:\n",
      " 0.9082513247539743 \n",
      "\n",
      "Confusion Matrix\n",
      " [[   7  600]\n",
      " [   6 5992]] \n",
      "\n",
      "Classification report\n",
      "               precision    recall  f1-score   support\n",
      "\n",
      "           0       0.54      0.01      0.02       607\n",
      "           1       0.91      1.00      0.95      5998\n",
      "\n",
      "    accuracy                           0.91      6605\n",
      "   macro avg       0.72      0.51      0.49      6605\n",
      "weighted avg       0.87      0.91      0.87      6605\n",
      " \n",
      "\n"
     ]
    }
   ],
   "source": [
    "names, results = algorithm_comparison(X_train, y_train, X_test, y_test)"
   ]
  },
  {
   "cell_type": "markdown",
   "metadata": {
    "id": "8Dr-NxSmpHVg"
   },
   "source": [
    "## Plotting Algorithm Performance"
   ]
  },
  {
   "cell_type": "code",
   "execution_count": null,
   "metadata": {
    "id": "z3dMadb_WObx"
   },
   "outputs": [],
   "source": [
    "import matplotlib.pyplot as plt\n",
    "\n",
    "def plot_algo_comparison(names, results, title=\"Algorithm Comparison\"):\n",
    "    fig = plt.figure(figsize=(20,10))\n",
    "    fig.suptitle(title)\n",
    "    ax = fig.add_subplot(111)\n",
    "    plt.boxplot(results)\n",
    "    ax.set_xticklabels(names)\n",
    "    plt.show()"
   ]
  },
  {
   "cell_type": "code",
   "execution_count": null,
   "metadata": {
    "colab": {
     "base_uri": "https://localhost:8080/",
     "height": 663
    },
    "id": "0K1D-fjK2d7v",
    "outputId": "b5955c2b-57d4-4e60-8a40-9273a8997c66"
   },
   "outputs": [
    {
     "data": {
      "image/png": "[encoded data removed]",
      "text/plain": [
       "<Figure size 1440x720 with 1 Axes>"
      ]
     },
     "metadata": {
      "filenames": {
       "image/png": "C:\\Users\\John\\CA4015_Assignment_2\\_build\\jupyter_execute\\3classification_31_0.png"
      },
      "needs_background": "light",
      "tags": []
     },
     "output_type": "display_data"
    }
   ],
   "source": [
    "plot_algo_comparison(names, results, title=\"Algorithm Comparison on Binary Label Data\")"
   ]
  },
  {
   "cell_type": "markdown",
   "metadata": {
    "id": "DfNxdLOzWZzP"
   },
   "source": [
    "The Decision Tree, and by extension the Random Forest algorithm, appear to be the best performing models for the binary classification."
   ]
  },
  {
   "cell_type": "markdown",
   "metadata": {
    "id": "jm_TugsjjFxk"
   },
   "source": [
    "## AutoML\n",
    "\n",
    "Automated machine learning (AutoML) involves automating the process of applying machine learning end-to-end. It makes ML accessible to non-experts as well as providing a quick and easy way to create model fitted on data without worrying about hyperparameters."
   ]
  },
  {
   "cell_type": "code",
   "execution_count": null,
   "metadata": {
    "colab": {
     "base_uri": "https://localhost:8080/"
    },
    "id": "aIVt5YSWjFxp",
    "outputId": "32b5f6e0-9ec4-4058-8958-4ce78bf7904f"
   },
   "outputs": [
    {
     "name": "stderr",
     "output_type": "stream",
     "text": [
      "INFO:numexpr.utils:NumExpr defaulting to 2 threads.\n"
     ]
    },
    {
     "name": "stdout",
     "output_type": "stream",
     "text": [
      "Test Accuracy score 0.9356548069644209\n"
     ]
    }
   ],
   "source": [
    "try:\n",
    "    import autosklearn.classification\n",
    "except:\n",
    "    os.kill(os.getpid(), 9)\n",
    "import sklearn\n",
    "\n",
    "# configure auto-sklearn\n",
    "automl = autosklearn.classification.AutoSklearnClassifier(\n",
    "          time_left_for_this_task=120, # run auto-sklearn for at most 2min\n",
    "          per_run_time_limit=30, # spend at most 30 sec for each model training\n",
    "          )\n",
    "\n",
    "# train model(s)\n",
    "automl.fit(X_train, y_train)\n",
    "\n",
    "# evaluate\n",
    "y_hat = automl.predict(X_test)\n",
    "test_acc = sklearn.metrics.accuracy_score(y_test, y_hat)\n",
    "print(\"Test Accuracy score {0}\".format(test_acc))"
   ]
  },
  {
   "cell_type": "markdown",
   "metadata": {
    "id": "fkbkKXDwjFxW"
   },
   "source": [
    "## Nested Cross Validation\n",
    "\n",
    "We intended to include the nested cross validation through sklearn but it appears to be very computationally expensive when applied to this data, and ends up running for too long with no result."
   ]
  },
  {
   "cell_type": "code",
   "execution_count": null,
   "metadata": {
    "id": "ucRVsryLgzdG"
   },
   "outputs": [],
   "source": [
    "from numpy import mean\n",
    "from numpy import std\n",
    "from sklearn.datasets import make_classification\n",
    "from sklearn.model_selection import cross_val_score\n",
    "from sklearn.model_selection import KFold\n",
    "from sklearn.model_selection import GridSearchCV\n",
    "from sklearn.ensemble import RandomForestClassifier\n",
    "from sklearn.neighbors import KNeighborsClassifier\n",
    "\n",
    "def nested_cross_val(X_train, y_train, model=KNeighborsClassifier()):\n",
    "\n",
    "    # configure the cross-validation procedure\n",
    "    cv_inner = KFold(n_splits=3, shuffle=True, random_state=1)\n",
    "\n",
    "    # define search space\n",
    "    pgrid = {\"n_neighbors\": [2, 5, 10, 30],\n",
    "              \"weights\": [\"uniform\", \"distance\"],\n",
    "              \"algorithm\": [\"auto\", \"ball_tree\", \"kd_tree\"],\n",
    "              \"leaf_size\": [15, 30],\n",
    "              \"p\": [1, 2, 4],\n",
    "              }\n",
    "\n",
    "    # define search\n",
    "    search = GridSearchCV(model, pgrid, scoring='accuracy', n_jobs=1, cv=cv_inner, refit=True)\n",
    "    # configure the cross-validation procedure\n",
    "    cv_outer = KFold(n_splits=5, shuffle=True, random_state=1)\n",
    "    # execute the nested cross-validation\n",
    "    scores = cross_val_score(search, X_train, y_train, scoring='accuracy', cv=cv_outer, n_jobs=-1)\n",
    "    # report performance\n",
    "    print('Accuracy: %.3f (%.3f)' % (mean(scores), std(scores)))"
   ]
  },
  {
   "cell_type": "code",
   "execution_count": null,
   "metadata": {
    "id": "1u5KxJuHjEja"
   },
   "outputs": [],
   "source": [
    "#nested_cross_val(X_train, y_train)"
   ]
  },
  {
   "cell_type": "markdown",
   "metadata": {
    "id": "U0LO37dbtleh"
   },
   "source": [
    "# **Sklearn - Three-Label Data Classifier**\n",
    "\n",
    "Let's now implement classifiers using a **WAKE / NREM / REM label** dataset.\n",
    "\n",
    "First we'll create a three label set, indicating 0 for awake, 1 for non-REM sleep and 2 for REM sleep"
   ]
  },
  {
   "cell_type": "code",
   "execution_count": null,
   "metadata": {
    "colab": {
     "base_uri": "https://localhost:8080/"
    },
    "id": "ioSNj5Xgt8ZY",
    "outputId": "c971c008-b99d-424c-fabb-618baa097b02"
   },
   "outputs": [
    {
     "data": {
      "text/plain": [
       "array([0, 1, 2])"
      ]
     },
     "execution_count": 21,
     "metadata": {
      "tags": []
     },
     "output_type": "execute_result"
    }
   ],
   "source": [
    "three_label_array = label_array.copy()\n",
    "three_label_array[(three_label_array == 1) | (three_label_array == 2) | (three_label_array == 3)] = 1\n",
    "three_label_array[three_label_array == 5] = 2\n",
    "\n",
    "np.unique(three_label_array)"
   ]
  },
  {
   "cell_type": "code",
   "execution_count": null,
   "metadata": {
    "id": "8oBrbo1Ttlel"
   },
   "outputs": [],
   "source": [
    "from sklearn.model_selection import train_test_split\n",
    "\n",
    "# Splitting our data into training and testing.\n",
    "\n",
    "X_train, X_test, y_train, y_test = train_test_split(full_set_features, three_label_array, test_size=0.25)"
   ]
  },
  {
   "cell_type": "markdown",
   "metadata": {
    "id": "FKmHsgZwtlfi"
   },
   "source": [
    "## Decision Tree Classifier\n",
    "\n",
    "Let's look at the feature importance according to this Decision Tree Model"
   ]
  },
  {
   "cell_type": "code",
   "execution_count": null,
   "metadata": {
    "colab": {
     "base_uri": "https://localhost:8080/"
    },
    "id": "yoYcAHretlfi",
    "outputId": "40c6cc0f-5ba4-49b7-c19b-bd7ad2100c4e"
   },
   "outputs": [
    {
     "name": "stdout",
     "output_type": "stream",
     "text": [
      "The mean score and the 95% confidence interval of the score estimate are given by:\n",
      "Accuracy: 0.83 (+/- 0.01)\n",
      "\n",
      "The list of features with importance: \n",
      "['x', 'y', 'z', 'hr']\n",
      "importance\n",
      " [0.29920924 0.29638919 0.26554737 0.13885419]\n"
     ]
    }
   ],
   "source": [
    "from sklearn.model_selection import cross_val_score\n",
    "from sklearn.tree import DecisionTreeClassifier\n",
    "\n",
    "clf = DecisionTreeClassifier(random_state=0)\n",
    "\n",
    "scores = cross_val_score(clf, X_train, y_train, cv=5)\n",
    "print('The mean score and the 95% confidence interval of the score estimate are given by:')\n",
    "print(\"Accuracy: %0.2f (+/- %0.2f)\" % (scores.mean(), scores.std() * 2))\n",
    "\n",
    "# Training the model in a standard way allows to to view the feature importance\n",
    "# for this model alone.\n",
    "clf.fit(X_train,y_train)\n",
    "importance = (clf.feature_importances_)\n",
    "\n",
    "# index of matching element \n",
    "res = [idx for idx, val in enumerate(importance) if val > 0] \n",
    "res_feats = [full_set_features.columns[i] for i in res]\n",
    "  \n",
    "# print result \n",
    "print(\"\\nThe list of features with importance: \") \n",
    "\n",
    "print(res_feats)\n",
    "print(\"importance\\n\", importance)"
   ]
  },
  {
   "cell_type": "markdown",
   "metadata": {
    "id": "kICJcG52tlfb"
   },
   "source": [
    "## Nested Cross Validation"
   ]
  },
  {
   "cell_type": "code",
   "execution_count": null,
   "metadata": {
    "id": "yEMaJpsztlfd"
   },
   "outputs": [],
   "source": [
    "#nested_cross_val(X_train, y_train)"
   ]
  },
  {
   "cell_type": "markdown",
   "metadata": {
    "id": "yy_oapxu_3Eo"
   },
   "source": [
    "## Comparing Classification Algorithms"
   ]
  },
  {
   "cell_type": "code",
   "execution_count": null,
   "metadata": {
    "colab": {
     "base_uri": "https://localhost:8080/"
    },
    "id": "3EGFYm7J_2lf",
    "outputId": "7e67617a-504a-4cdb-bb00-4bc2852b3631"
   },
   "outputs": [
    {
     "name": "stdout",
     "output_type": "stream",
     "text": [
      "Model  Mean Accuracy  95% conf interval\n",
      "LOGISTIC REGRESSION: 0.6854437030701859 0.015297374696694597\n",
      "\n",
      "Test set accuracy:\n",
      " 0.6850870552611658 \n",
      "\n",
      "Confusion Matrix\n",
      " [[   0  601    0]\n",
      " [   0 4525    0]\n",
      " [   2 1477    0]] \n",
      "\n",
      "Classification report\n",
      "               precision    recall  f1-score   support\n",
      "\n",
      "           0       0.00      0.00      0.00       601\n",
      "           1       0.69      1.00      0.81      4525\n",
      "           2       0.00      0.00      0.00      1479\n",
      "\n",
      "    accuracy                           0.69      6605\n",
      "   macro avg       0.23      0.33      0.27      6605\n",
      "weighted avg       0.47      0.69      0.56      6605\n",
      " \n",
      "\n"
     ]
    },
    {
     "name": "stderr",
     "output_type": "stream",
     "text": [
      "/usr/local/lib/python3.6/dist-packages/sklearn/metrics/_classification.py:1272: UndefinedMetricWarning: Precision and F-score are ill-defined and being set to 0.0 in labels with no predicted samples. Use `zero_division` parameter to control this behavior.\n",
      "  _warn_prf(average, modifier, msg_start, len(result))\n"
     ]
    },
    {
     "name": "stdout",
     "output_type": "stream",
     "text": [
      "Model  Mean Accuracy  95% conf interval\n",
      "LINEAR DISCRIMINANT AANALYSIS: 0.6854941826259658 0.015281281751026958\n",
      "\n",
      "Test set accuracy:\n",
      " 0.6852384557153671 \n",
      "\n",
      "Confusion Matrix\n",
      " [[   1  600    0]\n",
      " [   0 4525    0]\n",
      " [   2 1477    0]] \n",
      "\n",
      "Classification report\n",
      "               precision    recall  f1-score   support\n",
      "\n",
      "           0       0.33      0.00      0.00       601\n",
      "           1       0.69      1.00      0.81      4525\n",
      "           2       0.00      0.00      0.00      1479\n",
      "\n",
      "    accuracy                           0.69      6605\n",
      "   macro avg       0.34      0.33      0.27      6605\n",
      "weighted avg       0.50      0.69      0.56      6605\n",
      " \n",
      "\n"
     ]
    },
    {
     "name": "stderr",
     "output_type": "stream",
     "text": [
      "/usr/local/lib/python3.6/dist-packages/sklearn/metrics/_classification.py:1272: UndefinedMetricWarning: Precision and F-score are ill-defined and being set to 0.0 in labels with no predicted samples. Use `zero_division` parameter to control this behavior.\n",
      "  _warn_prf(average, modifier, msg_start, len(result))\n"
     ]
    },
    {
     "name": "stdout",
     "output_type": "stream",
     "text": [
      "Model  Mean Accuracy  95% conf interval\n",
      "K NEAREST NEIGHBOURS: 0.7061881517198451 0.01681505220940768\n",
      "\n",
      "Test set accuracy:\n",
      " 0.7200605601816805 \n",
      "\n",
      "Confusion Matrix\n",
      " [[ 149  361   91]\n",
      " [ 182 4037  306]\n",
      " [ 104  805  570]] \n",
      "\n",
      "Classification report\n",
      "               precision    recall  f1-score   support\n",
      "\n",
      "           0       0.34      0.25      0.29       601\n",
      "           1       0.78      0.89      0.83      4525\n",
      "           2       0.59      0.39      0.47      1479\n",
      "\n",
      "    accuracy                           0.72      6605\n",
      "   macro avg       0.57      0.51      0.53      6605\n",
      "weighted avg       0.69      0.72      0.70      6605\n",
      " \n",
      "\n",
      "Model  Mean Accuracy  95% conf interval\n",
      "NAIVE BAYES: 0.6859987744317738 0.014689180863305543\n",
      "\n",
      "Test set accuracy:\n",
      " 0.6852384557153671 \n",
      "\n",
      "Confusion Matrix\n",
      " [[  10  591    0]\n",
      " [   9 4516    0]\n",
      " [   4 1475    0]] \n",
      "\n",
      "Classification report\n",
      "               precision    recall  f1-score   support\n",
      "\n",
      "           0       0.43      0.02      0.03       601\n",
      "           1       0.69      1.00      0.81      4525\n",
      "           2       0.00      0.00      0.00      1479\n",
      "\n",
      "    accuracy                           0.69      6605\n",
      "   macro avg       0.37      0.34      0.28      6605\n",
      "weighted avg       0.51      0.69      0.56      6605\n",
      " \n",
      "\n"
     ]
    },
    {
     "name": "stderr",
     "output_type": "stream",
     "text": [
      "/usr/local/lib/python3.6/dist-packages/sklearn/metrics/_classification.py:1272: UndefinedMetricWarning: Precision and F-score are ill-defined and being set to 0.0 in labels with no predicted samples. Use `zero_division` parameter to control this behavior.\n",
      "  _warn_prf(average, modifier, msg_start, len(result))\n"
     ]
    },
    {
     "name": "stdout",
     "output_type": "stream",
     "text": [
      "Model  Mean Accuracy  95% conf interval\n",
      "DECISION TREE: 0.839996770530942 0.014203204179065735\n",
      "\n",
      "Test set accuracy:\n",
      " 0.8457229371688115 \n",
      "\n",
      "Confusion Matrix\n",
      " [[ 325  205   71]\n",
      " [ 177 4099  249]\n",
      " [  78  239 1162]] \n",
      "\n",
      "Classification report\n",
      "               precision    recall  f1-score   support\n",
      "\n",
      "           0       0.56      0.54      0.55       601\n",
      "           1       0.90      0.91      0.90      4525\n",
      "           2       0.78      0.79      0.78      1479\n",
      "\n",
      "    accuracy                           0.85      6605\n",
      "   macro avg       0.75      0.74      0.75      6605\n",
      "weighted avg       0.84      0.85      0.85      6605\n",
      " \n",
      "\n",
      "Model  Mean Accuracy  95% conf interval\n",
      "RANDOM FOREST: 0.8787100818013307 0.011076220791087055\n",
      "\n",
      "Test set accuracy:\n",
      " 0.8859954579863739 \n",
      "\n",
      "Confusion Matrix\n",
      " [[ 305  234   62]\n",
      " [  72 4300  153]\n",
      " [  23  209 1247]] \n",
      "\n",
      "Classification report\n",
      "               precision    recall  f1-score   support\n",
      "\n",
      "           0       0.76      0.51      0.61       601\n",
      "           1       0.91      0.95      0.93      4525\n",
      "           2       0.85      0.84      0.85      1479\n",
      "\n",
      "    accuracy                           0.89      6605\n",
      "   macro avg       0.84      0.77      0.80      6605\n",
      "weighted avg       0.88      0.89      0.88      6605\n",
      " \n",
      "\n",
      "Model  Mean Accuracy  95% conf interval\n",
      "SUPPORT VECTOR MACHINE: 0.6853932489834048 0.015416719489134893\n",
      "\n",
      "Test set accuracy:\n",
      " 0.6850870552611658 \n",
      "\n",
      "Confusion Matrix\n",
      " [[   0  601    0]\n",
      " [   0 4525    0]\n",
      " [   0 1479    0]] \n",
      "\n",
      "Classification report\n",
      "               precision    recall  f1-score   support\n",
      "\n",
      "           0       0.00      0.00      0.00       601\n",
      "           1       0.69      1.00      0.81      4525\n",
      "           2       0.00      0.00      0.00      1479\n",
      "\n",
      "    accuracy                           0.69      6605\n",
      "   macro avg       0.23      0.33      0.27      6605\n",
      "weighted avg       0.47      0.69      0.56      6605\n",
      " \n",
      "\n"
     ]
    },
    {
     "name": "stderr",
     "output_type": "stream",
     "text": [
      "/usr/local/lib/python3.6/dist-packages/sklearn/metrics/_classification.py:1272: UndefinedMetricWarning: Precision and F-score are ill-defined and being set to 0.0 in labels with no predicted samples. Use `zero_division` parameter to control this behavior.\n",
      "  _warn_prf(average, modifier, msg_start, len(result))\n"
     ]
    },
    {
     "name": "stdout",
     "output_type": "stream",
     "text": [
      "Model  Mean Accuracy  95% conf interval\n",
      "ADABOOST CLASSIFIER: 0.690995588260014 0.015710790450869275\n",
      "\n",
      "Test set accuracy:\n",
      " 0.6912944738834217 \n",
      "\n",
      "Confusion Matrix\n",
      " [[  18  570   13]\n",
      " [   9 4497   19]\n",
      " [   5 1423   51]] \n",
      "\n",
      "Classification report\n",
      "               precision    recall  f1-score   support\n",
      "\n",
      "           0       0.56      0.03      0.06       601\n",
      "           1       0.69      0.99      0.82      4525\n",
      "           2       0.61      0.03      0.07      1479\n",
      "\n",
      "    accuracy                           0.69      6605\n",
      "   macro avg       0.62      0.35      0.31      6605\n",
      "weighted avg       0.66      0.69      0.58      6605\n",
      " \n",
      "\n"
     ]
    }
   ],
   "source": [
    "names, results = algorithm_comparison(X_train, y_train, X_test, y_test)"
   ]
  },
  {
   "cell_type": "markdown",
   "metadata": {
    "id": "_U5xwJnBpRLu"
   },
   "source": [
    "## Plotting Algorithm Performance"
   ]
  },
  {
   "cell_type": "code",
   "execution_count": null,
   "metadata": {
    "colab": {
     "base_uri": "https://localhost:8080/",
     "height": 663
    },
    "id": "38VNbuYEYWq5",
    "outputId": "c107b082-7efe-44e9-e0bd-625f62e1d3e2"
   },
   "outputs": [
    {
     "data": {
      "image/png": "[encoded data removed]",
      "text/plain": [
       "<Figure size 1440x720 with 1 Axes>"
      ]
     },
     "metadata": {
      "filenames": {
       "image/png": "C:\\Users\\John\\CA4015_Assignment_2\\_build\\jupyter_execute\\3classification_48_0.png"
      },
      "needs_background": "light",
      "tags": []
     },
     "output_type": "display_data"
    }
   ],
   "source": [
    "plot_algo_comparison(names, results, title=\"Algorithm Comparison on Wake / NREM / REM Label Data\")"
   ]
  },
  {
   "cell_type": "markdown",
   "metadata": {
    "id": "nYVn_gbEtlfo"
   },
   "source": [
    "## AutoML"
   ]
  },
  {
   "cell_type": "code",
   "execution_count": null,
   "metadata": {
    "colab": {
     "base_uri": "https://localhost:8080/"
    },
    "id": "qHHpAZU0tlfp",
    "outputId": "03fa54b0-b556-4a79-f676-4164b3ab8eb5"
   },
   "outputs": [
    {
     "name": "stdout",
     "output_type": "stream",
     "text": [
      "Test Accuracy score 0.8788796366389099\n"
     ]
    }
   ],
   "source": [
    "import autosklearn.classification\n",
    "import sklearn\n",
    "# configure auto-sklearn\n",
    "automl = autosklearn.classification.AutoSklearnClassifier(\n",
    "          time_left_for_this_task=120, # run auto-sklearn for at most 2min\n",
    "          per_run_time_limit=30, # spend at most 30 sec for each model training\n",
    "          )\n",
    "\n",
    "# train model(s)\n",
    "automl.fit(X_train, y_train)\n",
    "\n",
    "# evaluate\n",
    "y_hat = automl.predict(X_test)\n",
    "test_acc = sklearn.metrics.accuracy_score(y_test, y_hat)\n",
    "print(\"Test Accuracy score {0}\".format(test_acc))"
   ]
  },
  {
   "cell_type": "markdown",
   "metadata": {
    "id": "u7w3j8ehoNda"
   },
   "source": [
    "# **Sklearn - Multi-Label Data Classifier**\n",
    "\n",
    "Let's now implement a simple multiclass classifier using our **original multi-label** dataset"
   ]
  },
  {
   "cell_type": "code",
   "execution_count": null,
   "metadata": {
    "colab": {
     "base_uri": "https://localhost:8080/"
    },
    "id": "QiNJvTHSpxV3",
    "outputId": "bb70222b-8cac-4eb8-e783-f35c543f6970"
   },
   "outputs": [
    {
     "data": {
      "text/plain": [
       "array([0, 1, 2, 3, 5])"
      ]
     },
     "execution_count": 28,
     "metadata": {
      "tags": []
     },
     "output_type": "execute_result"
    }
   ],
   "source": [
    "np.unique(label_array)"
   ]
  },
  {
   "cell_type": "code",
   "execution_count": null,
   "metadata": {
    "id": "G4E6C4j2SuaY"
   },
   "outputs": [],
   "source": [
    "from sklearn.model_selection import train_test_split\n",
    "\n",
    "# Splitting our data into training and testing.\n",
    "# Please don't ever train on your test data, that's a big no no!\n",
    "X_train, X_test, y_train, y_test = train_test_split(full_set_features, label_array, test_size=0.25)"
   ]
  },
  {
   "cell_type": "markdown",
   "metadata": {
    "id": "5uy0hDNiNH-J"
   },
   "source": [
    "## Decision Tree Classifier\n",
    "\n",
    "Let's look at the feature importance according to this Decision Tree Model"
   ]
  },
  {
   "cell_type": "code",
   "execution_count": null,
   "metadata": {
    "colab": {
     "base_uri": "https://localhost:8080/"
    },
    "id": "uUFomZQP51dK",
    "outputId": "a0d2f1c7-618a-4179-eebd-565771152b69"
   },
   "outputs": [
    {
     "name": "stdout",
     "output_type": "stream",
     "text": [
      "The mean score and the 95% confidence interval of the score estimate are given by:\n",
      "Accuracy: 0.73 (+/- 0.01)\n",
      "\n",
      "The list of features with importance: \n",
      "['x', 'y', 'z', 'hr']\n",
      "importance\n",
      " [0.28835684 0.31187007 0.24885919 0.15091391]\n"
     ]
    }
   ],
   "source": [
    "from sklearn.model_selection import cross_val_score\n",
    "from sklearn.tree import DecisionTreeClassifier\n",
    "\n",
    "clf = DecisionTreeClassifier(random_state=0)\n",
    "\n",
    "scores = cross_val_score(clf, X_train, y_train, cv=5)\n",
    "print('The mean score and the 95% confidence interval of the score estimate are given by:')\n",
    "print(\"Accuracy: %0.2f (+/- %0.2f)\" % (scores.mean(), scores.std() * 2))\n",
    "\n",
    "# Training the model in a standard way allows to to view the feature importance\n",
    "# for this model alone.\n",
    "clf.fit(X_train,y_train)\n",
    "importance = (clf.feature_importances_)\n",
    "\n",
    "# using list comprehension + enumerate() \n",
    "# index of matching element \n",
    "res = [idx for idx, val in enumerate(importance) if val > 0] \n",
    "res_feats = [full_set_features.columns[i] for i in res]\n",
    "  \n",
    "# print result \n",
    "print(\"\\nThe list of features with importance: \") \n",
    "\n",
    "print(res_feats)\n",
    "print(\"importance\\n\", importance)"
   ]
  },
  {
   "cell_type": "markdown",
   "metadata": {
    "id": "cRiQczsIfQjt"
   },
   "source": [
    "## Nested Cross Validation"
   ]
  },
  {
   "cell_type": "code",
   "execution_count": null,
   "metadata": {
    "id": "saAslUFffPzA"
   },
   "outputs": [],
   "source": [
    "#nested_cross_val(X_train, y_train)"
   ]
  },
  {
   "cell_type": "markdown",
   "metadata": {
    "id": "8criy2VQAH1X"
   },
   "source": [
    "## Comparing Classification Algorithms"
   ]
  },
  {
   "cell_type": "code",
   "execution_count": null,
   "metadata": {
    "colab": {
     "base_uri": "https://localhost:8080/"
    },
    "id": "BX-ibvNVAH1k",
    "outputId": "b5e7c6d4-2498-4e62-fb43-c7f42ff97751"
   },
   "outputs": [
    {
     "name": "stdout",
     "output_type": "stream",
     "text": [
      "Model  Mean Accuracy  95% conf interval\n",
      "LOGISTIC REGRESSION: 0.4886423801085081 0.01715752324924274\n",
      "\n",
      "Test set accuracy:\n",
      " 0.48962906888720664 \n",
      "\n",
      "Confusion Matrix\n",
      " [[   1    0  569   10    3]\n",
      " [   0    0  453    2    0]\n",
      " [   0    0 3223   12   10]\n",
      " [   0    0  836    2    0]\n",
      " [   0    0 1476    0    8]] \n",
      "\n",
      "Classification report\n",
      "               precision    recall  f1-score   support\n",
      "\n",
      "           0       1.00      0.00      0.00       583\n",
      "           1       0.00      0.00      0.00       455\n",
      "           2       0.49      0.99      0.66      3245\n",
      "           3       0.08      0.00      0.00       838\n",
      "           5       0.38      0.01      0.01      1484\n",
      "\n",
      "    accuracy                           0.49      6605\n",
      "   macro avg       0.39      0.20      0.14      6605\n",
      "weighted avg       0.43      0.49      0.33      6605\n",
      " \n",
      "\n"
     ]
    },
    {
     "name": "stderr",
     "output_type": "stream",
     "text": [
      "/usr/local/lib/python3.6/dist-packages/sklearn/metrics/_classification.py:1272: UndefinedMetricWarning: Precision and F-score are ill-defined and being set to 0.0 in labels with no predicted samples. Use `zero_division` parameter to control this behavior.\n",
      "  _warn_prf(average, modifier, msg_start, len(result))\n"
     ]
    },
    {
     "name": "stdout",
     "output_type": "stream",
     "text": [
      "Model  Mean Accuracy  95% conf interval\n",
      "LINEAR DISCRIMINANT AANALYSIS: 0.4890966197035307 0.016960005628748605\n",
      "\n",
      "Test set accuracy:\n",
      " 0.48962906888720664 \n",
      "\n",
      "Confusion Matrix\n",
      " [[   1    0  568   11    3]\n",
      " [   0    0  453    2    0]\n",
      " [   0    0 3223   12   10]\n",
      " [   0    0  836    2    0]\n",
      " [   0    0 1476    0    8]] \n",
      "\n",
      "Classification report\n",
      "               precision    recall  f1-score   support\n",
      "\n",
      "           0       1.00      0.00      0.00       583\n",
      "           1       0.00      0.00      0.00       455\n",
      "           2       0.49      0.99      0.66      3245\n",
      "           3       0.07      0.00      0.00       838\n",
      "           5       0.38      0.01      0.01      1484\n",
      "\n",
      "    accuracy                           0.49      6605\n",
      "   macro avg       0.39      0.20      0.14      6605\n",
      "weighted avg       0.42      0.49      0.33      6605\n",
      " \n",
      "\n"
     ]
    },
    {
     "name": "stderr",
     "output_type": "stream",
     "text": [
      "/usr/local/lib/python3.6/dist-packages/sklearn/metrics/_classification.py:1272: UndefinedMetricWarning: Precision and F-score are ill-defined and being set to 0.0 in labels with no predicted samples. Use `zero_division` parameter to control this behavior.\n",
      "  _warn_prf(average, modifier, msg_start, len(result))\n"
     ]
    },
    {
     "name": "stdout",
     "output_type": "stream",
     "text": [
      "Model  Mean Accuracy  95% conf interval\n",
      "K NEAREST NEIGHBOURS: 0.5772768648273635 0.03133879733818633\n",
      "\n",
      "Test set accuracy:\n",
      " 0.5887963663890992 \n",
      "\n",
      "Confusion Matrix\n",
      " [[ 175   34  247   46   81]\n",
      " [  56   46  253   31   69]\n",
      " [ 134   91 2578  174  268]\n",
      " [  20    7  269  513   29]\n",
      " [ 104   38  643  122  577]] \n",
      "\n",
      "Classification report\n",
      "               precision    recall  f1-score   support\n",
      "\n",
      "           0       0.36      0.30      0.33       583\n",
      "           1       0.21      0.10      0.14       455\n",
      "           2       0.65      0.79      0.71      3245\n",
      "           3       0.58      0.61      0.60       838\n",
      "           5       0.56      0.39      0.46      1484\n",
      "\n",
      "    accuracy                           0.59      6605\n",
      "   macro avg       0.47      0.44      0.45      6605\n",
      "weighted avg       0.56      0.59      0.57      6605\n",
      " \n",
      "\n",
      "Model  Mean Accuracy  95% conf interval\n",
      "NAIVE BAYES: 0.4879863496353603 0.016979299637552656\n",
      "\n",
      "Test set accuracy:\n",
      " 0.48932626797880396 \n",
      "\n",
      "Confusion Matrix\n",
      " [[  27    0  556    0    0]\n",
      " [   8    0  447    0    0]\n",
      " [  40    0 3205    0    0]\n",
      " [  13    0  825    0    0]\n",
      " [  23    0 1461    0    0]] \n",
      "\n",
      "Classification report\n",
      "               precision    recall  f1-score   support\n",
      "\n",
      "           0       0.24      0.05      0.08       583\n",
      "           1       0.00      0.00      0.00       455\n",
      "           2       0.49      0.99      0.66      3245\n",
      "           3       0.00      0.00      0.00       838\n",
      "           5       0.00      0.00      0.00      1484\n",
      "\n",
      "    accuracy                           0.49      6605\n",
      "   macro avg       0.15      0.21      0.15      6605\n",
      "weighted avg       0.26      0.49      0.33      6605\n",
      " \n",
      "\n"
     ]
    },
    {
     "name": "stderr",
     "output_type": "stream",
     "text": [
      "/usr/local/lib/python3.6/dist-packages/sklearn/metrics/_classification.py:1272: UndefinedMetricWarning: Precision and F-score are ill-defined and being set to 0.0 in labels with no predicted samples. Use `zero_division` parameter to control this behavior.\n",
      "  _warn_prf(average, modifier, msg_start, len(result))\n"
     ]
    },
    {
     "name": "stdout",
     "output_type": "stream",
     "text": [
      "Model  Mean Accuracy  95% conf interval\n",
      "DECISION TREE: 0.7357655802780299 0.018385583234761665\n",
      "\n",
      "Test set accuracy:\n",
      " 0.7483724451173354 \n",
      "\n",
      "Confusion Matrix\n",
      " [[ 308   82  109   19   65]\n",
      " [  71  125  195    8   56]\n",
      " [ 103  148 2704  140  150]\n",
      " [  18    6  125  674   15]\n",
      " [  68   65  196   23 1132]] \n",
      "\n",
      "Classification report\n",
      "               precision    recall  f1-score   support\n",
      "\n",
      "           0       0.54      0.53      0.54       583\n",
      "           1       0.29      0.27      0.28       455\n",
      "           2       0.81      0.83      0.82      3245\n",
      "           3       0.78      0.80      0.79       838\n",
      "           5       0.80      0.76      0.78      1484\n",
      "\n",
      "    accuracy                           0.75      6605\n",
      "   macro avg       0.65      0.64      0.64      6605\n",
      "weighted avg       0.75      0.75      0.75      6605\n",
      " \n",
      "\n",
      "Model  Mean Accuracy  95% conf interval\n",
      "RANDOM FOREST: 0.7943170004039383 0.016357184160300964\n",
      "\n",
      "Test set accuracy:\n",
      " 0.8078728236184709 \n",
      "\n",
      "Confusion Matrix\n",
      " [[ 330   52  123   16   62]\n",
      " [  46  123  221    3   62]\n",
      " [  35   68 2925  111  106]\n",
      " [   7    0  109  708   14]\n",
      " [  33   22  170    9 1250]] \n",
      "\n",
      "Classification report\n",
      "               precision    recall  f1-score   support\n",
      "\n",
      "           0       0.73      0.57      0.64       583\n",
      "           1       0.46      0.27      0.34       455\n",
      "           2       0.82      0.90      0.86      3245\n",
      "           3       0.84      0.84      0.84       838\n",
      "           5       0.84      0.84      0.84      1484\n",
      "\n",
      "    accuracy                           0.81      6605\n",
      "   macro avg       0.74      0.68      0.70      6605\n",
      "weighted avg       0.80      0.81      0.80      6605\n",
      " \n",
      "\n",
      "Model  Mean Accuracy  95% conf interval\n",
      "SUPPORT VECTOR MACHINE: 0.49005565485635233 0.01658854541959464\n",
      "\n",
      "Test set accuracy:\n",
      " 0.4912944738834216 \n",
      "\n",
      "Confusion Matrix\n",
      " [[   0    0  583    0    0]\n",
      " [   0    0  455    0    0]\n",
      " [   0    0 3245    0    0]\n",
      " [   0    0  838    0    0]\n",
      " [   0    0 1484    0    0]] \n",
      "\n",
      "Classification report\n",
      "               precision    recall  f1-score   support\n",
      "\n",
      "           0       0.00      0.00      0.00       583\n",
      "           1       0.00      0.00      0.00       455\n",
      "           2       0.49      1.00      0.66      3245\n",
      "           3       0.00      0.00      0.00       838\n",
      "           5       0.00      0.00      0.00      1484\n",
      "\n",
      "    accuracy                           0.49      6605\n",
      "   macro avg       0.10      0.20      0.13      6605\n",
      "weighted avg       0.24      0.49      0.32      6605\n",
      " \n",
      "\n"
     ]
    },
    {
     "name": "stderr",
     "output_type": "stream",
     "text": [
      "/usr/local/lib/python3.6/dist-packages/sklearn/metrics/_classification.py:1272: UndefinedMetricWarning: Precision and F-score are ill-defined and being set to 0.0 in labels with no predicted samples. Use `zero_division` parameter to control this behavior.\n",
      "  _warn_prf(average, modifier, msg_start, len(result))\n"
     ]
    },
    {
     "name": "stdout",
     "output_type": "stream",
     "text": [
      "Model  Mean Accuracy  95% conf interval\n",
      "ADABOOST CLASSIFIER: 0.5090853776874251 0.021948714174575758\n",
      "\n",
      "Test set accuracy:\n",
      " 0.5064345193035579 \n",
      "\n",
      "Confusion Matrix\n",
      " [[  40    1  519    6   17]\n",
      " [  14    0  429    1   11]\n",
      " [  16    0 3176   25   28]\n",
      " [   0    0  769   28   41]\n",
      " [  16    0 1344   23  101]] \n",
      "\n",
      "Classification report\n",
      "               precision    recall  f1-score   support\n",
      "\n",
      "           0       0.47      0.07      0.12       583\n",
      "           1       0.00      0.00      0.00       455\n",
      "           2       0.51      0.98      0.67      3245\n",
      "           3       0.34      0.03      0.06       838\n",
      "           5       0.51      0.07      0.12      1484\n",
      "\n",
      "    accuracy                           0.51      6605\n",
      "   macro avg       0.36      0.23      0.19      6605\n",
      "weighted avg       0.45      0.51      0.37      6605\n",
      " \n",
      "\n"
     ]
    }
   ],
   "source": [
    "names, results = algorithm_comparison(X_train, y_train, X_test, y_test)"
   ]
  },
  {
   "cell_type": "markdown",
   "metadata": {
    "id": "xIyf6MXZpWpj"
   },
   "source": [
    "## Plotting Algorithm Performance"
   ]
  },
  {
   "cell_type": "code",
   "execution_count": null,
   "metadata": {
    "colab": {
     "base_uri": "https://localhost:8080/",
     "height": 663
    },
    "id": "cnrsbP_QYdOK",
    "outputId": "15a7bcd3-9b2e-4cc5-b4db-b1860e227f59"
   },
   "outputs": [
    {
     "data": {
      "image/png": "[encoded data removed]",
      "text/plain": [
       "<Figure size 1440x720 with 1 Axes>"
      ]
     },
     "metadata": {
      "filenames": {
       "image/png": "C:\\Users\\John\\CA4015_Assignment_2\\_build\\jupyter_execute\\3classification_61_0.png"
      },
      "needs_background": "light",
      "tags": []
     },
     "output_type": "display_data"
    }
   ],
   "source": [
    "plot_algo_comparison(names, results, title=\"Algorithm Comparison on Wake/N1/N2/N3/REM Label Data\")"
   ]
  },
  {
   "cell_type": "markdown",
   "metadata": {
    "id": "Xl7V2FPJkheC"
   },
   "source": [
    "## AutoML"
   ]
  },
  {
   "cell_type": "code",
   "execution_count": null,
   "metadata": {
    "colab": {
     "base_uri": "https://localhost:8080/"
    },
    "id": "-EBn5fb_modn",
    "outputId": "d176dfc3-1e98-4ce0-e06e-150eb0ad7907"
   },
   "outputs": [
    {
     "name": "stdout",
     "output_type": "stream",
     "text": [
      "Test Accuracy score 0.7943981831945496\n"
     ]
    }
   ],
   "source": [
    "import autosklearn.classification\n",
    "import sklearn\n",
    "# configure auto-sklearn\n",
    "automl = autosklearn.classification.AutoSklearnClassifier(\n",
    "          time_left_for_this_task=120, # run auto-sklearn for at most 2min\n",
    "          per_run_time_limit=30, # spend at most 30 sec for each model training\n",
    "          )\n",
    "\n",
    "# train model(s)\n",
    "automl.fit(X_train, y_train)\n",
    "\n",
    "# evaluate\n",
    "y_hat = automl.predict(X_test)\n",
    "test_acc = sklearn.metrics.accuracy_score(y_test, y_hat)\n",
    "print(\"Test Accuracy score {0}\".format(test_acc))"
   ]
  },
  {
   "cell_type": "markdown",
   "metadata": {
    "id": "Q-4cNIm-4GGq"
   },
   "source": [
    "# **Extracted features**"
   ]
  },
  {
   "cell_type": "markdown",
   "metadata": {
    "id": "2tlDpR8alvuI"
   },
   "source": [
    "We will now be performing classification on the extracted feature dataset and observing the model results. This is time series classification as the time and ID columns are now included and the many extra features that TSFresh has provided have encoded information in each row about the time series. We can now treat it like any normal non-time series dataset while still being sure the time series information is retained for our analysis and classification. \n",
    "\n",
    "Again, we will perform classification with the three different label sets of Binary: Wake/Sleep, Three classes: Wake, Non-REM Sleep and REM Sleep and finally with all original labels of sleep classes: (0, 1, 2, 3, 5). "
   ]
  },
  {
   "cell_type": "code",
   "execution_count": null,
   "metadata": {
    "colab": {
     "base_uri": "https://localhost:8080/",
     "height": 256
    },
    "id": "yQYF-BV82OWk",
    "outputId": "0fbd6d1f-5522-4f77-9e6d-9a8881b54c97"
   },
   "outputs": [
    {
     "data": {
      "text/html": [
       "<div>\n",
       "<style scoped>\n",
       "    .dataframe tbody tr th:only-of-type {\n",
       "        vertical-align: middle;\n",
       "    }\n",
       "\n",
       "    .dataframe tbody tr th {\n",
       "        vertical-align: top;\n",
       "    }\n",
       "\n",
       "    .dataframe thead th {\n",
       "        text-align: right;\n",
       "    }\n",
       "</style>\n",
       "<table border=\"1\" class=\"dataframe\">\n",
       "  <thead>\n",
       "    <tr style=\"text-align: right;\">\n",
       "      <th></th>\n",
       "      <th>id</th>\n",
       "      <th>time</th>\n",
       "      <th>value__variance_larger_than_standard_deviation</th>\n",
       "      <th>value__has_duplicate_max</th>\n",
       "      <th>value__has_duplicate_min</th>\n",
       "      <th>value__has_duplicate</th>\n",
       "      <th>value__sum_values</th>\n",
       "      <th>value__abs_energy</th>\n",
       "      <th>value__mean_abs_change</th>\n",
       "      <th>value__mean_change</th>\n",
       "      <th>value__mean_second_derivative_central</th>\n",
       "      <th>value__median</th>\n",
       "      <th>value__mean</th>\n",
       "      <th>value__length</th>\n",
       "      <th>value__standard_deviation</th>\n",
       "      <th>value__variation_coefficient</th>\n",
       "      <th>value__variance</th>\n",
       "      <th>value__skewness</th>\n",
       "      <th>value__kurtosis</th>\n",
       "      <th>value__absolute_sum_of_changes</th>\n",
       "      <th>value__longest_strike_below_mean</th>\n",
       "      <th>value__longest_strike_above_mean</th>\n",
       "      <th>value__count_above_mean</th>\n",
       "      <th>value__count_below_mean</th>\n",
       "      <th>value__last_location_of_maximum</th>\n",
       "      <th>value__first_location_of_maximum</th>\n",
       "      <th>value__last_location_of_minimum</th>\n",
       "      <th>value__first_location_of_minimum</th>\n",
       "      <th>value__percentage_of_reoccurring_values_to_all_values</th>\n",
       "      <th>value__percentage_of_reoccurring_datapoints_to_all_datapoints</th>\n",
       "      <th>value__sum_of_reoccurring_values</th>\n",
       "      <th>value__sum_of_reoccurring_data_points</th>\n",
       "      <th>value__ratio_value_number_to_time_series_length</th>\n",
       "      <th>value__maximum</th>\n",
       "      <th>value__minimum</th>\n",
       "      <th>value__benford_correlation</th>\n",
       "      <th>value__time_reversal_asymmetry_statistic__lag_1</th>\n",
       "      <th>value__time_reversal_asymmetry_statistic__lag_2</th>\n",
       "      <th>value__time_reversal_asymmetry_statistic__lag_3</th>\n",
       "      <th>value__c3__lag_1</th>\n",
       "      <th>...</th>\n",
       "      <th>value__augmented_dickey_fuller__attr_\"teststat\"__autolag_\"AIC\"</th>\n",
       "      <th>value__augmented_dickey_fuller__attr_\"pvalue\"__autolag_\"AIC\"</th>\n",
       "      <th>value__augmented_dickey_fuller__attr_\"usedlag\"__autolag_\"AIC\"</th>\n",
       "      <th>value__number_crossing_m__m_0</th>\n",
       "      <th>value__number_crossing_m__m_-1</th>\n",
       "      <th>value__number_crossing_m__m_1</th>\n",
       "      <th>value__energy_ratio_by_chunks__num_segments_10__segment_focus_0</th>\n",
       "      <th>value__energy_ratio_by_chunks__num_segments_10__segment_focus_1</th>\n",
       "      <th>value__energy_ratio_by_chunks__num_segments_10__segment_focus_2</th>\n",
       "      <th>value__energy_ratio_by_chunks__num_segments_10__segment_focus_3</th>\n",
       "      <th>value__energy_ratio_by_chunks__num_segments_10__segment_focus_4</th>\n",
       "      <th>value__energy_ratio_by_chunks__num_segments_10__segment_focus_5</th>\n",
       "      <th>value__energy_ratio_by_chunks__num_segments_10__segment_focus_6</th>\n",
       "      <th>value__energy_ratio_by_chunks__num_segments_10__segment_focus_7</th>\n",
       "      <th>value__energy_ratio_by_chunks__num_segments_10__segment_focus_8</th>\n",
       "      <th>value__energy_ratio_by_chunks__num_segments_10__segment_focus_9</th>\n",
       "      <th>value__ratio_beyond_r_sigma__r_0.5</th>\n",
       "      <th>value__ratio_beyond_r_sigma__r_1</th>\n",
       "      <th>value__ratio_beyond_r_sigma__r_1.5</th>\n",
       "      <th>value__ratio_beyond_r_sigma__r_2</th>\n",
       "      <th>value__ratio_beyond_r_sigma__r_2.5</th>\n",
       "      <th>value__ratio_beyond_r_sigma__r_3</th>\n",
       "      <th>value__ratio_beyond_r_sigma__r_5</th>\n",
       "      <th>value__ratio_beyond_r_sigma__r_6</th>\n",
       "      <th>value__ratio_beyond_r_sigma__r_7</th>\n",
       "      <th>value__ratio_beyond_r_sigma__r_10</th>\n",
       "      <th>value__count_above__t_0</th>\n",
       "      <th>value__count_below__t_0</th>\n",
       "      <th>value__lempel_ziv_complexity__bins_2</th>\n",
       "      <th>value__lempel_ziv_complexity__bins_3</th>\n",
       "      <th>value__lempel_ziv_complexity__bins_5</th>\n",
       "      <th>value__lempel_ziv_complexity__bins_10</th>\n",
       "      <th>value__lempel_ziv_complexity__bins_100</th>\n",
       "      <th>value__fourier_entropy__bins_2</th>\n",
       "      <th>value__fourier_entropy__bins_3</th>\n",
       "      <th>value__fourier_entropy__bins_5</th>\n",
       "      <th>value__fourier_entropy__bins_10</th>\n",
       "      <th>value__fourier_entropy__bins_100</th>\n",
       "      <th>value__permutation_entropy__dimension_3__tau_1</th>\n",
       "      <th>value__permutation_entropy__dimension_4__tau_1</th>\n",
       "    </tr>\n",
       "  </thead>\n",
       "  <tbody>\n",
       "    <tr>\n",
       "      <th>0</th>\n",
       "      <td>46343</td>\n",
       "      <td>390.0</td>\n",
       "      <td>1.0</td>\n",
       "      <td>0.0</td>\n",
       "      <td>0.0</td>\n",
       "      <td>0.0</td>\n",
       "      <td>89.910614</td>\n",
       "      <td>8100.838344</td>\n",
       "      <td>30.793696</td>\n",
       "      <td>30.186508</td>\n",
       "      <td>22.242584</td>\n",
       "      <td>0.235069</td>\n",
       "      <td>22.477653</td>\n",
       "      <td>4.0</td>\n",
       "      <td>38.986724</td>\n",
       "      <td>1.734466</td>\n",
       "      <td>1519.964679</td>\n",
       "      <td>1.999177</td>\n",
       "      <td>3.997235</td>\n",
       "      <td>92.381088</td>\n",
       "      <td>3.0</td>\n",
       "      <td>1.0</td>\n",
       "      <td>1.0</td>\n",
       "      <td>3.0</td>\n",
       "      <td>1.0</td>\n",
       "      <td>0.75</td>\n",
       "      <td>0.25</td>\n",
       "      <td>0.0</td>\n",
       "      <td>0.0</td>\n",
       "      <td>0.0</td>\n",
       "      <td>0.0</td>\n",
       "      <td>0.0</td>\n",
       "      <td>1.0</td>\n",
       "      <td>90.0</td>\n",
       "      <td>-0.559524</td>\n",
       "      <td>-0.220047</td>\n",
       "      <td>-892.340880</td>\n",
       "      <td>0.0</td>\n",
       "      <td>0.0</td>\n",
       "      <td>-6.802985</td>\n",
       "      <td>...</td>\n",
       "      <td>-0.286355</td>\n",
       "      <td>0.927415</td>\n",
       "      <td>0.0</td>\n",
       "      <td>3.0</td>\n",
       "      <td>0.0</td>\n",
       "      <td>1.0</td>\n",
       "      <td>0.000039</td>\n",
       "      <td>0.000059</td>\n",
       "      <td>0.000006</td>\n",
       "      <td>0.999897</td>\n",
       "      <td>0.0</td>\n",
       "      <td>0.0</td>\n",
       "      <td>0.0</td>\n",
       "      <td>0.0</td>\n",
       "      <td>0.0</td>\n",
       "      <td>0.0</td>\n",
       "      <td>1.0</td>\n",
       "      <td>0.25</td>\n",
       "      <td>0.25</td>\n",
       "      <td>0.0</td>\n",
       "      <td>0.0</td>\n",
       "      <td>0.0</td>\n",
       "      <td>0.0</td>\n",
       "      <td>0.0</td>\n",
       "      <td>0.0</td>\n",
       "      <td>0.0</td>\n",
       "      <td>0.50</td>\n",
       "      <td>0.50</td>\n",
       "      <td>0.75</td>\n",
       "      <td>0.75</td>\n",
       "      <td>0.75</td>\n",
       "      <td>0.75</td>\n",
       "      <td>1.0</td>\n",
       "      <td>0.636514</td>\n",
       "      <td>1.098612</td>\n",
       "      <td>1.098612</td>\n",
       "      <td>1.098612</td>\n",
       "      <td>1.098612</td>\n",
       "      <td>0.693147</td>\n",
       "      <td>-0.0</td>\n",
       "    </tr>\n",
       "    <tr>\n",
       "      <th>1</th>\n",
       "      <td>46343</td>\n",
       "      <td>420.0</td>\n",
       "      <td>1.0</td>\n",
       "      <td>0.0</td>\n",
       "      <td>0.0</td>\n",
       "      <td>0.0</td>\n",
       "      <td>100.727615</td>\n",
       "      <td>10201.949516</td>\n",
       "      <td>34.534958</td>\n",
       "      <td>33.877009</td>\n",
       "      <td>25.002583</td>\n",
       "      <td>0.179321</td>\n",
       "      <td>25.181904</td>\n",
       "      <td>4.0</td>\n",
       "      <td>43.776239</td>\n",
       "      <td>1.738401</td>\n",
       "      <td>1916.359096</td>\n",
       "      <td>1.999278</td>\n",
       "      <td>3.997573</td>\n",
       "      <td>103.604874</td>\n",
       "      <td>3.0</td>\n",
       "      <td>1.0</td>\n",
       "      <td>1.0</td>\n",
       "      <td>3.0</td>\n",
       "      <td>1.0</td>\n",
       "      <td>0.75</td>\n",
       "      <td>0.25</td>\n",
       "      <td>0.0</td>\n",
       "      <td>0.0</td>\n",
       "      <td>0.0</td>\n",
       "      <td>0.0</td>\n",
       "      <td>0.0</td>\n",
       "      <td>1.0</td>\n",
       "      <td>101.0</td>\n",
       "      <td>-0.631027</td>\n",
       "      <td>0.240954</td>\n",
       "      <td>-1602.303277</td>\n",
       "      <td>0.0</td>\n",
       "      <td>0.0</td>\n",
       "      <td>-10.606410</td>\n",
       "      <td>...</td>\n",
       "      <td>-0.318167</td>\n",
       "      <td>0.922892</td>\n",
       "      <td>0.0</td>\n",
       "      <td>3.0</td>\n",
       "      <td>0.0</td>\n",
       "      <td>1.0</td>\n",
       "      <td>0.000039</td>\n",
       "      <td>0.000044</td>\n",
       "      <td>0.000010</td>\n",
       "      <td>0.999907</td>\n",
       "      <td>0.0</td>\n",
       "      <td>0.0</td>\n",
       "      <td>0.0</td>\n",
       "      <td>0.0</td>\n",
       "      <td>0.0</td>\n",
       "      <td>0.0</td>\n",
       "      <td>1.0</td>\n",
       "      <td>0.25</td>\n",
       "      <td>0.25</td>\n",
       "      <td>0.0</td>\n",
       "      <td>0.0</td>\n",
       "      <td>0.0</td>\n",
       "      <td>0.0</td>\n",
       "      <td>0.0</td>\n",
       "      <td>0.0</td>\n",
       "      <td>0.0</td>\n",
       "      <td>0.50</td>\n",
       "      <td>0.50</td>\n",
       "      <td>0.75</td>\n",
       "      <td>0.75</td>\n",
       "      <td>0.75</td>\n",
       "      <td>0.75</td>\n",
       "      <td>1.0</td>\n",
       "      <td>0.636514</td>\n",
       "      <td>1.098612</td>\n",
       "      <td>1.098612</td>\n",
       "      <td>1.098612</td>\n",
       "      <td>1.098612</td>\n",
       "      <td>0.693147</td>\n",
       "      <td>-0.0</td>\n",
       "    </tr>\n",
       "    <tr>\n",
       "      <th>2</th>\n",
       "      <td>46343</td>\n",
       "      <td>450.0</td>\n",
       "      <td>1.0</td>\n",
       "      <td>0.0</td>\n",
       "      <td>0.0</td>\n",
       "      <td>0.0</td>\n",
       "      <td>93.513177</td>\n",
       "      <td>8465.342833</td>\n",
       "      <td>30.757888</td>\n",
       "      <td>30.705180</td>\n",
       "      <td>22.563936</td>\n",
       "      <td>0.814358</td>\n",
       "      <td>23.378294</td>\n",
       "      <td>4.0</td>\n",
       "      <td>39.620589</td>\n",
       "      <td>1.694760</td>\n",
       "      <td>1569.791072</td>\n",
       "      <td>1.999445</td>\n",
       "      <td>3.998166</td>\n",
       "      <td>92.273666</td>\n",
       "      <td>3.0</td>\n",
       "      <td>1.0</td>\n",
       "      <td>1.0</td>\n",
       "      <td>3.0</td>\n",
       "      <td>1.0</td>\n",
       "      <td>0.75</td>\n",
       "      <td>0.25</td>\n",
       "      <td>0.0</td>\n",
       "      <td>0.0</td>\n",
       "      <td>0.0</td>\n",
       "      <td>0.0</td>\n",
       "      <td>0.0</td>\n",
       "      <td>1.0</td>\n",
       "      <td>92.0</td>\n",
       "      <td>-0.115540</td>\n",
       "      <td>0.033057</td>\n",
       "      <td>3279.033894</td>\n",
       "      <td>0.0</td>\n",
       "      <td>0.0</td>\n",
       "      <td>30.396124</td>\n",
       "      <td>...</td>\n",
       "      <td>0.470899</td>\n",
       "      <td>0.983961</td>\n",
       "      <td>0.0</td>\n",
       "      <td>1.0</td>\n",
       "      <td>0.0</td>\n",
       "      <td>1.0</td>\n",
       "      <td>0.000002</td>\n",
       "      <td>0.000086</td>\n",
       "      <td>0.000071</td>\n",
       "      <td>0.999841</td>\n",
       "      <td>0.0</td>\n",
       "      <td>0.0</td>\n",
       "      <td>0.0</td>\n",
       "      <td>0.0</td>\n",
       "      <td>0.0</td>\n",
       "      <td>0.0</td>\n",
       "      <td>1.0</td>\n",
       "      <td>0.25</td>\n",
       "      <td>0.25</td>\n",
       "      <td>0.0</td>\n",
       "      <td>0.0</td>\n",
       "      <td>0.0</td>\n",
       "      <td>0.0</td>\n",
       "      <td>0.0</td>\n",
       "      <td>0.0</td>\n",
       "      <td>0.0</td>\n",
       "      <td>0.75</td>\n",
       "      <td>0.25</td>\n",
       "      <td>0.75</td>\n",
       "      <td>0.75</td>\n",
       "      <td>0.75</td>\n",
       "      <td>0.75</td>\n",
       "      <td>1.0</td>\n",
       "      <td>0.636514</td>\n",
       "      <td>1.098612</td>\n",
       "      <td>1.098612</td>\n",
       "      <td>1.098612</td>\n",
       "      <td>1.098612</td>\n",
       "      <td>0.693147</td>\n",
       "      <td>-0.0</td>\n",
       "    </tr>\n",
       "    <tr>\n",
       "      <th>3</th>\n",
       "      <td>46343</td>\n",
       "      <td>480.0</td>\n",
       "      <td>1.0</td>\n",
       "      <td>0.0</td>\n",
       "      <td>0.0</td>\n",
       "      <td>0.0</td>\n",
       "      <td>82.258003</td>\n",
       "      <td>6724.989743</td>\n",
       "      <td>27.448583</td>\n",
       "      <td>27.448583</td>\n",
       "      <td>20.262625</td>\n",
       "      <td>0.301876</td>\n",
       "      <td>20.564501</td>\n",
       "      <td>4.0</td>\n",
       "      <td>35.473212</td>\n",
       "      <td>1.724973</td>\n",
       "      <td>1258.348745</td>\n",
       "      <td>1.998850</td>\n",
       "      <td>3.996119</td>\n",
       "      <td>82.345749</td>\n",
       "      <td>3.0</td>\n",
       "      <td>1.0</td>\n",
       "      <td>1.0</td>\n",
       "      <td>3.0</td>\n",
       "      <td>1.0</td>\n",
       "      <td>0.75</td>\n",
       "      <td>0.25</td>\n",
       "      <td>0.0</td>\n",
       "      <td>0.0</td>\n",
       "      <td>0.0</td>\n",
       "      <td>0.0</td>\n",
       "      <td>0.0</td>\n",
       "      <td>1.0</td>\n",
       "      <td>82.0</td>\n",
       "      <td>-0.345749</td>\n",
       "      <td>-0.085823</td>\n",
       "      <td>2986.556895</td>\n",
       "      <td>0.0</td>\n",
       "      <td>0.0</td>\n",
       "      <td>-10.322812</td>\n",
       "      <td>...</td>\n",
       "      <td>31.239292</td>\n",
       "      <td>1.000000</td>\n",
       "      <td>0.0</td>\n",
       "      <td>1.0</td>\n",
       "      <td>0.0</td>\n",
       "      <td>1.0</td>\n",
       "      <td>0.000018</td>\n",
       "      <td>0.000012</td>\n",
       "      <td>0.000117</td>\n",
       "      <td>0.999853</td>\n",
       "      <td>0.0</td>\n",
       "      <td>0.0</td>\n",
       "      <td>0.0</td>\n",
       "      <td>0.0</td>\n",
       "      <td>0.0</td>\n",
       "      <td>0.0</td>\n",
       "      <td>1.0</td>\n",
       "      <td>0.25</td>\n",
       "      <td>0.25</td>\n",
       "      <td>0.0</td>\n",
       "      <td>0.0</td>\n",
       "      <td>0.0</td>\n",
       "      <td>0.0</td>\n",
       "      <td>0.0</td>\n",
       "      <td>0.0</td>\n",
       "      <td>0.0</td>\n",
       "      <td>0.50</td>\n",
       "      <td>0.50</td>\n",
       "      <td>0.75</td>\n",
       "      <td>0.75</td>\n",
       "      <td>0.75</td>\n",
       "      <td>0.75</td>\n",
       "      <td>1.0</td>\n",
       "      <td>0.636514</td>\n",
       "      <td>1.098612</td>\n",
       "      <td>1.098612</td>\n",
       "      <td>1.098612</td>\n",
       "      <td>1.098612</td>\n",
       "      <td>-0.000000</td>\n",
       "      <td>-0.0</td>\n",
       "    </tr>\n",
       "    <tr>\n",
       "      <th>4</th>\n",
       "      <td>46343</td>\n",
       "      <td>510.0</td>\n",
       "      <td>1.0</td>\n",
       "      <td>0.0</td>\n",
       "      <td>0.0</td>\n",
       "      <td>0.0</td>\n",
       "      <td>83.314782</td>\n",
       "      <td>6889.998766</td>\n",
       "      <td>27.771871</td>\n",
       "      <td>27.771871</td>\n",
       "      <td>20.513498</td>\n",
       "      <td>0.315197</td>\n",
       "      <td>20.828695</td>\n",
       "      <td>4.0</td>\n",
       "      <td>35.897982</td>\n",
       "      <td>1.723487</td>\n",
       "      <td>1288.665135</td>\n",
       "      <td>1.998880</td>\n",
       "      <td>3.996217</td>\n",
       "      <td>83.315613</td>\n",
       "      <td>3.0</td>\n",
       "      <td>1.0</td>\n",
       "      <td>1.0</td>\n",
       "      <td>3.0</td>\n",
       "      <td>1.0</td>\n",
       "      <td>0.75</td>\n",
       "      <td>0.25</td>\n",
       "      <td>0.0</td>\n",
       "      <td>0.0</td>\n",
       "      <td>0.0</td>\n",
       "      <td>0.0</td>\n",
       "      <td>0.0</td>\n",
       "      <td>1.0</td>\n",
       "      <td>83.0</td>\n",
       "      <td>-0.315613</td>\n",
       "      <td>-0.133823</td>\n",
       "      <td>3124.019917</td>\n",
       "      <td>0.0</td>\n",
       "      <td>0.0</td>\n",
       "      <td>-10.371881</td>\n",
       "      <td>...</td>\n",
       "      <td>62.857719</td>\n",
       "      <td>1.000000</td>\n",
       "      <td>0.0</td>\n",
       "      <td>1.0</td>\n",
       "      <td>0.0</td>\n",
       "      <td>1.0</td>\n",
       "      <td>0.000014</td>\n",
       "      <td>0.000011</td>\n",
       "      <td>0.000119</td>\n",
       "      <td>0.999855</td>\n",
       "      <td>0.0</td>\n",
       "      <td>0.0</td>\n",
       "      <td>0.0</td>\n",
       "      <td>0.0</td>\n",
       "      <td>0.0</td>\n",
       "      <td>0.0</td>\n",
       "      <td>1.0</td>\n",
       "      <td>0.25</td>\n",
       "      <td>0.25</td>\n",
       "      <td>0.0</td>\n",
       "      <td>0.0</td>\n",
       "      <td>0.0</td>\n",
       "      <td>0.0</td>\n",
       "      <td>0.0</td>\n",
       "      <td>0.0</td>\n",
       "      <td>0.0</td>\n",
       "      <td>0.50</td>\n",
       "      <td>0.50</td>\n",
       "      <td>0.75</td>\n",
       "      <td>0.75</td>\n",
       "      <td>0.75</td>\n",
       "      <td>0.75</td>\n",
       "      <td>1.0</td>\n",
       "      <td>0.636514</td>\n",
       "      <td>1.098612</td>\n",
       "      <td>1.098612</td>\n",
       "      <td>1.098612</td>\n",
       "      <td>1.098612</td>\n",
       "      <td>-0.000000</td>\n",
       "      <td>-0.0</td>\n",
       "    </tr>\n",
       "  </tbody>\n",
       "</table>\n",
       "<p>5 rows × 271 columns</p>\n",
       "</div>"
      ],
      "text/plain": [
       "      id  ...  value__permutation_entropy__dimension_4__tau_1\n",
       "0  46343  ...                                            -0.0\n",
       "1  46343  ...                                            -0.0\n",
       "2  46343  ...                                            -0.0\n",
       "3  46343  ...                                            -0.0\n",
       "4  46343  ...                                            -0.0\n",
       "\n",
       "[5 rows x 271 columns]"
      ]
     },
     "execution_count": 35,
     "metadata": {
      "tags": []
     },
     "output_type": "execute_result"
    }
   ],
   "source": [
    "import pandas as pd\n",
    "import numpy as np\n",
    "\n",
    "extracted_features = pd.read_csv('/content/drive/My Drive/CA4015/sleep_classify/extracted_features.csv')\n",
    "extracted_labels = pd.read_csv('/content/drive/My Drive/CA4015/sleep_classify/extracted_features_labels.csv')\n",
    "\n",
    "extracted_features = extracted_features.rename(columns={'Unnamed: 0': 'id', 'Unnamed: 1': 'time'})\n",
    "\n",
    "extracted_features.head()"
   ]
  },
  {
   "cell_type": "markdown",
   "metadata": {
    "id": "5GrBgF3H1dj-"
   },
   "source": [
    "# PCA of Extracted Features\n",
    "\n",
    "Principal Component Analysis is often used in ML when the number of dimensions is very high. The much smaller number of Principal Components capture the majority of the variance in the original dataset, and thus can be used to train the model instead. The smaller number of dimensions with PCA means faster training times and simplified data structure when feeding into ML models.\n",
    "\n",
    "Conversely, the Principal Components created from reducing the original dimensions have no interpretability to the user, as we cannot trace back what makes up each PC. Therefore, any model created using PCA will not be very transparent, making it a poor choice for solving real-world high-stakes problems."
   ]
  },
  {
   "cell_type": "code",
   "execution_count": null,
   "metadata": {
    "colab": {
     "base_uri": "https://localhost:8080/"
    },
    "id": "XtMtwwnj3awh",
    "outputId": "bcaee2a2-11eb-4595-81fa-58b18be0d61d"
   },
   "outputs": [
    {
     "data": {
      "text/plain": [
       "Index(['value__variance_larger_than_standard_deviation',\n",
       "       'value__has_duplicate_max', 'value__has_duplicate_min',\n",
       "       'value__has_duplicate', 'value__sum_values', 'value__abs_energy',\n",
       "       'value__mean_abs_change', 'value__mean_change',\n",
       "       'value__mean_second_derivative_central', 'value__median',\n",
       "       ...\n",
       "       'value__lempel_ziv_complexity__bins_5',\n",
       "       'value__lempel_ziv_complexity__bins_10',\n",
       "       'value__lempel_ziv_complexity__bins_100',\n",
       "       'value__fourier_entropy__bins_2', 'value__fourier_entropy__bins_3',\n",
       "       'value__fourier_entropy__bins_5', 'value__fourier_entropy__bins_10',\n",
       "       'value__fourier_entropy__bins_100',\n",
       "       'value__permutation_entropy__dimension_3__tau_1',\n",
       "       'value__permutation_entropy__dimension_4__tau_1'],\n",
       "      dtype='object', length=269)"
      ]
     },
     "execution_count": 60,
     "metadata": {
      "tags": []
     },
     "output_type": "execute_result"
    }
   ],
   "source": [
    "feats = extracted_features.columns[2:]\n",
    "feats"
   ]
  },
  {
   "cell_type": "code",
   "execution_count": null,
   "metadata": {
    "colab": {
     "base_uri": "https://localhost:8080/",
     "height": 479
    },
    "id": "4yp1nDiD1gAC",
    "outputId": "47d08fbf-d975-413c-b276-a9219eb70778"
   },
   "outputs": [
    {
     "name": "stderr",
     "output_type": "stream",
     "text": [
      "/usr/local/lib/python3.6/dist-packages/scipy/stats/stats.py:2419: RuntimeWarning: invalid value encountered in true_divide\n",
      "  return (a - mns) / sstd\n"
     ]
    },
    {
     "data": {
      "text/html": [
       "<div>\n",
       "<style scoped>\n",
       "    .dataframe tbody tr th:only-of-type {\n",
       "        vertical-align: middle;\n",
       "    }\n",
       "\n",
       "    .dataframe tbody tr th {\n",
       "        vertical-align: top;\n",
       "    }\n",
       "\n",
       "    .dataframe thead th {\n",
       "        text-align: right;\n",
       "    }\n",
       "</style>\n",
       "<table border=\"1\" class=\"dataframe\">\n",
       "  <thead>\n",
       "    <tr style=\"text-align: right;\">\n",
       "      <th></th>\n",
       "      <th>value__sum_values</th>\n",
       "      <th>value__abs_energy</th>\n",
       "      <th>value__mean_abs_change</th>\n",
       "      <th>value__mean_change</th>\n",
       "      <th>value__mean_second_derivative_central</th>\n",
       "      <th>value__median</th>\n",
       "      <th>value__mean</th>\n",
       "      <th>value__standard_deviation</th>\n",
       "      <th>value__variation_coefficient</th>\n",
       "      <th>value__variance</th>\n",
       "      <th>value__skewness</th>\n",
       "      <th>value__kurtosis</th>\n",
       "      <th>value__absolute_sum_of_changes</th>\n",
       "      <th>value__last_location_of_minimum</th>\n",
       "      <th>value__first_location_of_minimum</th>\n",
       "      <th>value__maximum</th>\n",
       "      <th>value__minimum</th>\n",
       "      <th>value__benford_correlation</th>\n",
       "      <th>value__time_reversal_asymmetry_statistic__lag_1</th>\n",
       "      <th>value__c3__lag_1</th>\n",
       "      <th>value__cid_ce__normalize_True</th>\n",
       "      <th>value__cid_ce__normalize_False</th>\n",
       "      <th>value__quantile__q_0.1</th>\n",
       "      <th>value__quantile__q_0.2</th>\n",
       "      <th>value__quantile__q_0.3</th>\n",
       "      <th>value__quantile__q_0.4</th>\n",
       "      <th>value__quantile__q_0.6</th>\n",
       "      <th>value__quantile__q_0.7</th>\n",
       "      <th>value__quantile__q_0.8</th>\n",
       "      <th>value__quantile__q_0.9</th>\n",
       "      <th>value__autocorrelation__lag_1</th>\n",
       "      <th>value__autocorrelation__lag_2</th>\n",
       "      <th>value__autocorrelation__lag_3</th>\n",
       "      <th>value__agg_autocorrelation__f_agg_\"mean\"__maxlag_40</th>\n",
       "      <th>value__agg_autocorrelation__f_agg_\"median\"__maxlag_40</th>\n",
       "      <th>value__agg_autocorrelation__f_agg_\"var\"__maxlag_40</th>\n",
       "      <th>value__partial_autocorrelation__lag_1</th>\n",
       "      <th>value__number_cwt_peaks__n_1</th>\n",
       "      <th>value__number_peaks__n_1</th>\n",
       "      <th>value__binned_entropy__max_bins_10</th>\n",
       "      <th>...</th>\n",
       "      <th>value__fft_coefficient__attr_\"abs\"__coeff_0</th>\n",
       "      <th>value__fft_coefficient__attr_\"abs\"__coeff_1</th>\n",
       "      <th>value__fft_coefficient__attr_\"abs\"__coeff_2</th>\n",
       "      <th>value__fft_coefficient__attr_\"angle\"__coeff_1</th>\n",
       "      <th>value__fft_aggregated__aggtype_\"centroid\"</th>\n",
       "      <th>value__fft_aggregated__aggtype_\"variance\"</th>\n",
       "      <th>value__fft_aggregated__aggtype_\"skew\"</th>\n",
       "      <th>value__fft_aggregated__aggtype_\"kurtosis\"</th>\n",
       "      <th>value__value_count__value_0</th>\n",
       "      <th>value__value_count__value_1</th>\n",
       "      <th>value__range_count__max_1__min_-1</th>\n",
       "      <th>value__range_count__max_1000000000000.0__min_0</th>\n",
       "      <th>value__friedrich_coefficients__coeff_0__m_3__r_30</th>\n",
       "      <th>value__friedrich_coefficients__coeff_1__m_3__r_30</th>\n",
       "      <th>value__friedrich_coefficients__coeff_2__m_3__r_30</th>\n",
       "      <th>value__friedrich_coefficients__coeff_3__m_3__r_30</th>\n",
       "      <th>value__max_langevin_fixed_point__m_3__r_30</th>\n",
       "      <th>value__linear_trend__attr_\"pvalue\"</th>\n",
       "      <th>value__linear_trend__attr_\"rvalue\"</th>\n",
       "      <th>value__linear_trend__attr_\"intercept\"</th>\n",
       "      <th>value__linear_trend__attr_\"slope\"</th>\n",
       "      <th>value__linear_trend__attr_\"stderr\"</th>\n",
       "      <th>value__augmented_dickey_fuller__attr_\"teststat\"__autolag_\"AIC\"</th>\n",
       "      <th>value__augmented_dickey_fuller__attr_\"pvalue\"__autolag_\"AIC\"</th>\n",
       "      <th>value__number_crossing_m__m_0</th>\n",
       "      <th>value__number_crossing_m__m_-1</th>\n",
       "      <th>value__number_crossing_m__m_1</th>\n",
       "      <th>value__energy_ratio_by_chunks__num_segments_10__segment_focus_0</th>\n",
       "      <th>value__energy_ratio_by_chunks__num_segments_10__segment_focus_1</th>\n",
       "      <th>value__energy_ratio_by_chunks__num_segments_10__segment_focus_2</th>\n",
       "      <th>value__energy_ratio_by_chunks__num_segments_10__segment_focus_3</th>\n",
       "      <th>value__count_above__t_0</th>\n",
       "      <th>value__count_below__t_0</th>\n",
       "      <th>value__lempel_ziv_complexity__bins_2</th>\n",
       "      <th>value__lempel_ziv_complexity__bins_100</th>\n",
       "      <th>value__fourier_entropy__bins_3</th>\n",
       "      <th>value__fourier_entropy__bins_5</th>\n",
       "      <th>value__fourier_entropy__bins_10</th>\n",
       "      <th>value__fourier_entropy__bins_100</th>\n",
       "      <th>value__permutation_entropy__dimension_3__tau_1</th>\n",
       "    </tr>\n",
       "  </thead>\n",
       "  <tbody>\n",
       "    <tr>\n",
       "      <th>0</th>\n",
       "      <td>2.575756</td>\n",
       "      <td>2.821527</td>\n",
       "      <td>2.563929</td>\n",
       "      <td>2.574612</td>\n",
       "      <td>2.389934</td>\n",
       "      <td>0.678840</td>\n",
       "      <td>2.575756</td>\n",
       "      <td>2.515752</td>\n",
       "      <td>-0.835504</td>\n",
       "      <td>2.795317</td>\n",
       "      <td>0.709471</td>\n",
       "      <td>0.700269</td>\n",
       "      <td>2.563929</td>\n",
       "      <td>-2.485073</td>\n",
       "      <td>-2.485073</td>\n",
       "      <td>2.533013</td>\n",
       "      <td>0.825217</td>\n",
       "      <td>-0.621031</td>\n",
       "      <td>0.082009</td>\n",
       "      <td>-0.582327</td>\n",
       "      <td>-0.203491</td>\n",
       "      <td>2.501582</td>\n",
       "      <td>0.665751</td>\n",
       "      <td>0.371718</td>\n",
       "      <td>0.079868</td>\n",
       "      <td>0.291610</td>\n",
       "      <td>0.936568</td>\n",
       "      <td>2.677247</td>\n",
       "      <td>2.577357</td>\n",
       "      <td>2.546539</td>\n",
       "      <td>-0.025365</td>\n",
       "      <td>0.813961</td>\n",
       "      <td>-1.494746</td>\n",
       "      <td>-1.054467</td>\n",
       "      <td>0.813961</td>\n",
       "      <td>1.395581</td>\n",
       "      <td>-0.025365</td>\n",
       "      <td>0.780527</td>\n",
       "      <td>1.013760</td>\n",
       "      <td>-1.0</td>\n",
       "      <td>...</td>\n",
       "      <td>2.575756</td>\n",
       "      <td>2.463885</td>\n",
       "      <td>2.602619</td>\n",
       "      <td>0.800593</td>\n",
       "      <td>-0.076038</td>\n",
       "      <td>1.260173</td>\n",
       "      <td>0.074574</td>\n",
       "      <td>-0.158207</td>\n",
       "      <td>-0.006153</td>\n",
       "      <td>-0.006153</td>\n",
       "      <td>0.077322</td>\n",
       "      <td>0.009425</td>\n",
       "      <td>0.017373</td>\n",
       "      <td>-0.006344</td>\n",
       "      <td>-0.012000</td>\n",
       "      <td>0.005699</td>\n",
       "      <td>0.007450</td>\n",
       "      <td>-0.798195</td>\n",
       "      <td>0.798195</td>\n",
       "      <td>-2.510599</td>\n",
       "      <td>2.560623</td>\n",
       "      <td>2.438505</td>\n",
       "      <td>0.029030</td>\n",
       "      <td>1.061956</td>\n",
       "      <td>1.294470</td>\n",
       "      <td>-0.063096</td>\n",
       "      <td>-0.018211</td>\n",
       "      <td>0.099459</td>\n",
       "      <td>0.020001</td>\n",
       "      <td>-1.649423</td>\n",
       "      <td>1.898409</td>\n",
       "      <td>0.009425</td>\n",
       "      <td>-0.009477</td>\n",
       "      <td>1.509692</td>\n",
       "      <td>0.695654</td>\n",
       "      <td>1.0</td>\n",
       "      <td>1.0</td>\n",
       "      <td>1.0</td>\n",
       "      <td>1.0</td>\n",
       "      <td>0.243792</td>\n",
       "    </tr>\n",
       "    <tr>\n",
       "      <th>1</th>\n",
       "      <td>3.639897</td>\n",
       "      <td>4.361842</td>\n",
       "      <td>3.667110</td>\n",
       "      <td>3.670183</td>\n",
       "      <td>3.483406</td>\n",
       "      <td>0.486899</td>\n",
       "      <td>3.639897</td>\n",
       "      <td>3.611803</td>\n",
       "      <td>-0.697872</td>\n",
       "      <td>4.340198</td>\n",
       "      <td>0.850319</td>\n",
       "      <td>0.842304</td>\n",
       "      <td>3.667110</td>\n",
       "      <td>-2.485073</td>\n",
       "      <td>-2.485073</td>\n",
       "      <td>3.621965</td>\n",
       "      <td>0.531841</td>\n",
       "      <td>1.075842</td>\n",
       "      <td>-0.403956</td>\n",
       "      <td>-1.029758</td>\n",
       "      <td>-0.193166</td>\n",
       "      <td>3.596822</td>\n",
       "      <td>0.296412</td>\n",
       "      <td>-0.018904</td>\n",
       "      <td>-0.274987</td>\n",
       "      <td>0.002243</td>\n",
       "      <td>0.838773</td>\n",
       "      <td>3.673564</td>\n",
       "      <td>3.657761</td>\n",
       "      <td>3.633384</td>\n",
       "      <td>-0.019141</td>\n",
       "      <td>0.751283</td>\n",
       "      <td>-1.388319</td>\n",
       "      <td>-0.981523</td>\n",
       "      <td>0.751283</td>\n",
       "      <td>1.291465</td>\n",
       "      <td>-0.019141</td>\n",
       "      <td>0.780527</td>\n",
       "      <td>1.013760</td>\n",
       "      <td>-1.0</td>\n",
       "      <td>...</td>\n",
       "      <td>3.639897</td>\n",
       "      <td>3.558150</td>\n",
       "      <td>3.695714</td>\n",
       "      <td>0.745423</td>\n",
       "      <td>-0.018201</td>\n",
       "      <td>1.122919</td>\n",
       "      <td>0.016814</td>\n",
       "      <td>-0.092655</td>\n",
       "      <td>-0.006153</td>\n",
       "      <td>-0.006153</td>\n",
       "      <td>0.077322</td>\n",
       "      <td>0.009425</td>\n",
       "      <td>0.019256</td>\n",
       "      <td>-0.005550</td>\n",
       "      <td>-0.017058</td>\n",
       "      <td>0.007229</td>\n",
       "      <td>-0.012335</td>\n",
       "      <td>-0.744714</td>\n",
       "      <td>0.744714</td>\n",
       "      <td>-3.629856</td>\n",
       "      <td>3.655089</td>\n",
       "      <td>3.532175</td>\n",
       "      <td>0.028730</td>\n",
       "      <td>1.050651</td>\n",
       "      <td>1.294470</td>\n",
       "      <td>-0.063096</td>\n",
       "      <td>-0.018211</td>\n",
       "      <td>0.110137</td>\n",
       "      <td>-0.172726</td>\n",
       "      <td>-1.611253</td>\n",
       "      <td>2.026839</td>\n",
       "      <td>0.009425</td>\n",
       "      <td>-0.009477</td>\n",
       "      <td>1.509692</td>\n",
       "      <td>0.695654</td>\n",
       "      <td>1.0</td>\n",
       "      <td>1.0</td>\n",
       "      <td>1.0</td>\n",
       "      <td>1.0</td>\n",
       "      <td>0.243792</td>\n",
       "    </tr>\n",
       "    <tr>\n",
       "      <th>2</th>\n",
       "      <td>2.930164</td>\n",
       "      <td>3.088744</td>\n",
       "      <td>2.553370</td>\n",
       "      <td>2.728586</td>\n",
       "      <td>2.517249</td>\n",
       "      <td>2.673343</td>\n",
       "      <td>2.930164</td>\n",
       "      <td>2.660808</td>\n",
       "      <td>-2.224376</td>\n",
       "      <td>2.989507</td>\n",
       "      <td>1.084491</td>\n",
       "      <td>1.091760</td>\n",
       "      <td>2.553370</td>\n",
       "      <td>-2.485073</td>\n",
       "      <td>-2.485073</td>\n",
       "      <td>2.731005</td>\n",
       "      <td>2.646890</td>\n",
       "      <td>0.310606</td>\n",
       "      <td>2.937288</td>\n",
       "      <td>3.793738</td>\n",
       "      <td>-0.829176</td>\n",
       "      <td>2.599990</td>\n",
       "      <td>3.543734</td>\n",
       "      <td>3.936322</td>\n",
       "      <td>3.722027</td>\n",
       "      <td>3.343221</td>\n",
       "      <td>1.916661</td>\n",
       "      <td>2.996232</td>\n",
       "      <td>2.798404</td>\n",
       "      <td>2.751209</td>\n",
       "      <td>0.613299</td>\n",
       "      <td>0.225659</td>\n",
       "      <td>-1.674212</td>\n",
       "      <td>-1.491088</td>\n",
       "      <td>0.225659</td>\n",
       "      <td>1.654504</td>\n",
       "      <td>0.613299</td>\n",
       "      <td>0.780527</td>\n",
       "      <td>1.013760</td>\n",
       "      <td>-1.0</td>\n",
       "      <td>...</td>\n",
       "      <td>2.930164</td>\n",
       "      <td>2.646662</td>\n",
       "      <td>2.673641</td>\n",
       "      <td>1.315625</td>\n",
       "      <td>-1.390718</td>\n",
       "      <td>1.476636</td>\n",
       "      <td>1.393559</td>\n",
       "      <td>-1.462467</td>\n",
       "      <td>-0.006153</td>\n",
       "      <td>-0.006153</td>\n",
       "      <td>0.077322</td>\n",
       "      <td>1.408142</td>\n",
       "      <td>-0.013931</td>\n",
       "      <td>0.005082</td>\n",
       "      <td>0.045102</td>\n",
       "      <td>0.000303</td>\n",
       "      <td>-0.026612</td>\n",
       "      <td>-1.315240</td>\n",
       "      <td>1.315240</td>\n",
       "      <td>-2.473228</td>\n",
       "      <td>2.742265</td>\n",
       "      <td>2.527666</td>\n",
       "      <td>0.036175</td>\n",
       "      <td>1.203283</td>\n",
       "      <td>-1.003881</td>\n",
       "      <td>-0.063096</td>\n",
       "      <td>-0.018211</td>\n",
       "      <td>-0.928831</td>\n",
       "      <td>0.383045</td>\n",
       "      <td>-0.976153</td>\n",
       "      <td>1.218585</td>\n",
       "      <td>1.408142</td>\n",
       "      <td>-1.408143</td>\n",
       "      <td>1.509692</td>\n",
       "      <td>0.695654</td>\n",
       "      <td>1.0</td>\n",
       "      <td>1.0</td>\n",
       "      <td>1.0</td>\n",
       "      <td>1.0</td>\n",
       "      <td>0.243792</td>\n",
       "    </tr>\n",
       "    <tr>\n",
       "      <th>3</th>\n",
       "      <td>1.822917</td>\n",
       "      <td>1.812899</td>\n",
       "      <td>1.577559</td>\n",
       "      <td>1.761825</td>\n",
       "      <td>1.605502</td>\n",
       "      <td>0.908857</td>\n",
       "      <td>1.822917</td>\n",
       "      <td>1.711706</td>\n",
       "      <td>-1.167549</td>\n",
       "      <td>1.775712</td>\n",
       "      <td>0.252683</td>\n",
       "      <td>0.230670</td>\n",
       "      <td>1.577559</td>\n",
       "      <td>-2.485073</td>\n",
       "      <td>-2.485073</td>\n",
       "      <td>1.741048</td>\n",
       "      <td>1.702339</td>\n",
       "      <td>-0.126972</td>\n",
       "      <td>2.737089</td>\n",
       "      <td>-0.996396</td>\n",
       "      <td>-1.662039</td>\n",
       "      <td>1.601851</td>\n",
       "      <td>1.281438</td>\n",
       "      <td>0.587681</td>\n",
       "      <td>-0.061497</td>\n",
       "      <td>0.247967</td>\n",
       "      <td>1.368898</td>\n",
       "      <td>2.105714</td>\n",
       "      <td>1.818937</td>\n",
       "      <td>1.763948</td>\n",
       "      <td>1.554594</td>\n",
       "      <td>-0.940718</td>\n",
       "      <td>-1.370131</td>\n",
       "      <td>-1.728830</td>\n",
       "      <td>-0.940718</td>\n",
       "      <td>1.516554</td>\n",
       "      <td>1.554594</td>\n",
       "      <td>-1.281185</td>\n",
       "      <td>-0.986427</td>\n",
       "      <td>-1.0</td>\n",
       "      <td>...</td>\n",
       "      <td>1.822917</td>\n",
       "      <td>1.767022</td>\n",
       "      <td>1.592882</td>\n",
       "      <td>1.766695</td>\n",
       "      <td>-1.347476</td>\n",
       "      <td>-0.244314</td>\n",
       "      <td>1.347835</td>\n",
       "      <td>-1.352174</td>\n",
       "      <td>-0.006153</td>\n",
       "      <td>-0.006153</td>\n",
       "      <td>0.077322</td>\n",
       "      <td>0.009425</td>\n",
       "      <td>0.013375</td>\n",
       "      <td>0.011373</td>\n",
       "      <td>-0.006629</td>\n",
       "      <td>-0.010052</td>\n",
       "      <td>-0.077188</td>\n",
       "      <td>-1.768622</td>\n",
       "      <td>1.768622</td>\n",
       "      <td>-1.784438</td>\n",
       "      <td>1.815611</td>\n",
       "      <td>1.548347</td>\n",
       "      <td>0.326489</td>\n",
       "      <td>1.243368</td>\n",
       "      <td>-1.003881</td>\n",
       "      <td>-0.063096</td>\n",
       "      <td>-0.018211</td>\n",
       "      <td>-0.479480</td>\n",
       "      <td>-0.602860</td>\n",
       "      <td>-0.494656</td>\n",
       "      <td>1.359797</td>\n",
       "      <td>0.009425</td>\n",
       "      <td>-0.009477</td>\n",
       "      <td>1.509692</td>\n",
       "      <td>0.695654</td>\n",
       "      <td>1.0</td>\n",
       "      <td>1.0</td>\n",
       "      <td>1.0</td>\n",
       "      <td>1.0</td>\n",
       "      <td>-4.101858</td>\n",
       "    </tr>\n",
       "    <tr>\n",
       "      <th>4</th>\n",
       "      <td>1.926879</td>\n",
       "      <td>1.933866</td>\n",
       "      <td>1.672887</td>\n",
       "      <td>1.857797</td>\n",
       "      <td>1.704894</td>\n",
       "      <td>0.954722</td>\n",
       "      <td>1.926879</td>\n",
       "      <td>1.808912</td>\n",
       "      <td>-1.219538</td>\n",
       "      <td>1.893866</td>\n",
       "      <td>0.293429</td>\n",
       "      <td>0.272173</td>\n",
       "      <td>1.672887</td>\n",
       "      <td>-2.485073</td>\n",
       "      <td>-2.485073</td>\n",
       "      <td>1.840044</td>\n",
       "      <td>1.825989</td>\n",
       "      <td>-0.303655</td>\n",
       "      <td>2.831182</td>\n",
       "      <td>-1.002169</td>\n",
       "      <td>-1.647296</td>\n",
       "      <td>1.698741</td>\n",
       "      <td>1.392427</td>\n",
       "      <td>0.665265</td>\n",
       "      <td>-0.021886</td>\n",
       "      <td>0.285284</td>\n",
       "      <td>1.417959</td>\n",
       "      <td>2.213028</td>\n",
       "      <td>1.920145</td>\n",
       "      <td>1.863610</td>\n",
       "      <td>1.545324</td>\n",
       "      <td>-0.951348</td>\n",
       "      <td>-1.331114</td>\n",
       "      <td>-1.696508</td>\n",
       "      <td>-0.951348</td>\n",
       "      <td>1.477581</td>\n",
       "      <td>1.545324</td>\n",
       "      <td>-1.281185</td>\n",
       "      <td>-0.986427</td>\n",
       "      <td>-1.0</td>\n",
       "      <td>...</td>\n",
       "      <td>1.926879</td>\n",
       "      <td>1.865519</td>\n",
       "      <td>1.686942</td>\n",
       "      <td>1.739371</td>\n",
       "      <td>-1.389789</td>\n",
       "      <td>-0.226229</td>\n",
       "      <td>1.390148</td>\n",
       "      <td>-1.394316</td>\n",
       "      <td>-0.006153</td>\n",
       "      <td>-0.006153</td>\n",
       "      <td>0.077322</td>\n",
       "      <td>0.009425</td>\n",
       "      <td>0.013342</td>\n",
       "      <td>0.010769</td>\n",
       "      <td>-0.006117</td>\n",
       "      <td>-0.009683</td>\n",
       "      <td>-0.071882</td>\n",
       "      <td>-1.741605</td>\n",
       "      <td>1.741605</td>\n",
       "      <td>-1.870283</td>\n",
       "      <td>1.912057</td>\n",
       "      <td>1.646311</td>\n",
       "      <td>0.624825</td>\n",
       "      <td>1.243368</td>\n",
       "      <td>-1.003881</td>\n",
       "      <td>-0.063096</td>\n",
       "      <td>-0.018211</td>\n",
       "      <td>-0.571533</td>\n",
       "      <td>-0.615382</td>\n",
       "      <td>-0.473456</td>\n",
       "      <td>1.387107</td>\n",
       "      <td>0.009425</td>\n",
       "      <td>-0.009477</td>\n",
       "      <td>1.509692</td>\n",
       "      <td>0.695654</td>\n",
       "      <td>1.0</td>\n",
       "      <td>1.0</td>\n",
       "      <td>1.0</td>\n",
       "      <td>1.0</td>\n",
       "      <td>-4.101858</td>\n",
       "    </tr>\n",
       "    <tr>\n",
       "      <th>...</th>\n",
       "      <td>...</td>\n",
       "      <td>...</td>\n",
       "      <td>...</td>\n",
       "      <td>...</td>\n",
       "      <td>...</td>\n",
       "      <td>...</td>\n",
       "      <td>...</td>\n",
       "      <td>...</td>\n",
       "      <td>...</td>\n",
       "      <td>...</td>\n",
       "      <td>...</td>\n",
       "      <td>...</td>\n",
       "      <td>...</td>\n",
       "      <td>...</td>\n",
       "      <td>...</td>\n",
       "      <td>...</td>\n",
       "      <td>...</td>\n",
       "      <td>...</td>\n",
       "      <td>...</td>\n",
       "      <td>...</td>\n",
       "      <td>...</td>\n",
       "      <td>...</td>\n",
       "      <td>...</td>\n",
       "      <td>...</td>\n",
       "      <td>...</td>\n",
       "      <td>...</td>\n",
       "      <td>...</td>\n",
       "      <td>...</td>\n",
       "      <td>...</td>\n",
       "      <td>...</td>\n",
       "      <td>...</td>\n",
       "      <td>...</td>\n",
       "      <td>...</td>\n",
       "      <td>...</td>\n",
       "      <td>...</td>\n",
       "      <td>...</td>\n",
       "      <td>...</td>\n",
       "      <td>...</td>\n",
       "      <td>...</td>\n",
       "      <td>...</td>\n",
       "      <td>...</td>\n",
       "      <td>...</td>\n",
       "      <td>...</td>\n",
       "      <td>...</td>\n",
       "      <td>...</td>\n",
       "      <td>...</td>\n",
       "      <td>...</td>\n",
       "      <td>...</td>\n",
       "      <td>...</td>\n",
       "      <td>...</td>\n",
       "      <td>...</td>\n",
       "      <td>...</td>\n",
       "      <td>...</td>\n",
       "      <td>...</td>\n",
       "      <td>...</td>\n",
       "      <td>...</td>\n",
       "      <td>...</td>\n",
       "      <td>...</td>\n",
       "      <td>...</td>\n",
       "      <td>...</td>\n",
       "      <td>...</td>\n",
       "      <td>...</td>\n",
       "      <td>...</td>\n",
       "      <td>...</td>\n",
       "      <td>...</td>\n",
       "      <td>...</td>\n",
       "      <td>...</td>\n",
       "      <td>...</td>\n",
       "      <td>...</td>\n",
       "      <td>...</td>\n",
       "      <td>...</td>\n",
       "      <td>...</td>\n",
       "      <td>...</td>\n",
       "      <td>...</td>\n",
       "      <td>...</td>\n",
       "      <td>...</td>\n",
       "      <td>...</td>\n",
       "      <td>...</td>\n",
       "      <td>...</td>\n",
       "      <td>...</td>\n",
       "      <td>...</td>\n",
       "    </tr>\n",
       "    <tr>\n",
       "      <th>26412</th>\n",
       "      <td>0.586479</td>\n",
       "      <td>0.579097</td>\n",
       "      <td>0.679011</td>\n",
       "      <td>0.677679</td>\n",
       "      <td>0.662629</td>\n",
       "      <td>-0.813086</td>\n",
       "      <td>0.586479</td>\n",
       "      <td>0.673100</td>\n",
       "      <td>0.602314</td>\n",
       "      <td>0.601088</td>\n",
       "      <td>0.950920</td>\n",
       "      <td>0.953463</td>\n",
       "      <td>0.679011</td>\n",
       "      <td>0.610225</td>\n",
       "      <td>0.610225</td>\n",
       "      <td>0.652096</td>\n",
       "      <td>-0.628797</td>\n",
       "      <td>-1.387289</td>\n",
       "      <td>-0.883915</td>\n",
       "      <td>0.243770</td>\n",
       "      <td>0.347226</td>\n",
       "      <td>0.693624</td>\n",
       "      <td>-0.745900</td>\n",
       "      <td>-0.748161</td>\n",
       "      <td>-0.648075</td>\n",
       "      <td>-0.720763</td>\n",
       "      <td>-0.821923</td>\n",
       "      <td>0.354357</td>\n",
       "      <td>0.603721</td>\n",
       "      <td>0.638423</td>\n",
       "      <td>-0.403789</td>\n",
       "      <td>0.534872</td>\n",
       "      <td>-0.196037</td>\n",
       "      <td>0.055173</td>\n",
       "      <td>0.534872</td>\n",
       "      <td>0.095589</td>\n",
       "      <td>-0.403789</td>\n",
       "      <td>0.780527</td>\n",
       "      <td>1.013760</td>\n",
       "      <td>-1.0</td>\n",
       "      <td>...</td>\n",
       "      <td>0.586479</td>\n",
       "      <td>0.646179</td>\n",
       "      <td>0.722540</td>\n",
       "      <td>-0.163899</td>\n",
       "      <td>0.733267</td>\n",
       "      <td>0.177878</td>\n",
       "      <td>-0.733328</td>\n",
       "      <td>0.733725</td>\n",
       "      <td>-0.006153</td>\n",
       "      <td>-0.006153</td>\n",
       "      <td>0.077322</td>\n",
       "      <td>-1.389292</td>\n",
       "      <td>0.009516</td>\n",
       "      <td>0.011951</td>\n",
       "      <td>-0.006709</td>\n",
       "      <td>-0.011384</td>\n",
       "      <td>-0.026588</td>\n",
       "      <td>0.157327</td>\n",
       "      <td>-0.157327</td>\n",
       "      <td>-0.747339</td>\n",
       "      <td>0.661371</td>\n",
       "      <td>0.688206</td>\n",
       "      <td>0.010514</td>\n",
       "      <td>-0.783488</td>\n",
       "      <td>-1.003881</td>\n",
       "      <td>-0.063096</td>\n",
       "      <td>-0.018211</td>\n",
       "      <td>-0.137042</td>\n",
       "      <td>-0.763034</td>\n",
       "      <td>0.006194</td>\n",
       "      <td>0.760487</td>\n",
       "      <td>-1.389292</td>\n",
       "      <td>1.389189</td>\n",
       "      <td>-0.662387</td>\n",
       "      <td>0.695654</td>\n",
       "      <td>1.0</td>\n",
       "      <td>1.0</td>\n",
       "      <td>1.0</td>\n",
       "      <td>1.0</td>\n",
       "      <td>0.243792</td>\n",
       "    </tr>\n",
       "    <tr>\n",
       "      <th>26413</th>\n",
       "      <td>0.870085</td>\n",
       "      <td>0.843931</td>\n",
       "      <td>0.966154</td>\n",
       "      <td>0.912148</td>\n",
       "      <td>0.898182</td>\n",
       "      <td>-0.133647</td>\n",
       "      <td>0.870085</td>\n",
       "      <td>0.908430</td>\n",
       "      <td>0.117762</td>\n",
       "      <td>0.853170</td>\n",
       "      <td>0.414849</td>\n",
       "      <td>0.417961</td>\n",
       "      <td>0.966154</td>\n",
       "      <td>0.610225</td>\n",
       "      <td>0.610225</td>\n",
       "      <td>0.899585</td>\n",
       "      <td>-0.677286</td>\n",
       "      <td>0.277202</td>\n",
       "      <td>-1.018665</td>\n",
       "      <td>-0.808329</td>\n",
       "      <td>0.554122</td>\n",
       "      <td>0.942044</td>\n",
       "      <td>-0.600017</td>\n",
       "      <td>-0.409538</td>\n",
       "      <td>-0.197483</td>\n",
       "      <td>-0.141762</td>\n",
       "      <td>-0.116300</td>\n",
       "      <td>0.802598</td>\n",
       "      <td>0.888871</td>\n",
       "      <td>0.896796</td>\n",
       "      <td>-0.624013</td>\n",
       "      <td>0.766732</td>\n",
       "      <td>-0.189245</td>\n",
       "      <td>0.166413</td>\n",
       "      <td>0.766732</td>\n",
       "      <td>0.063520</td>\n",
       "      <td>-0.624013</td>\n",
       "      <td>0.780527</td>\n",
       "      <td>1.013760</td>\n",
       "      <td>-1.0</td>\n",
       "      <td>...</td>\n",
       "      <td>0.870085</td>\n",
       "      <td>0.868354</td>\n",
       "      <td>0.981941</td>\n",
       "      <td>-0.312110</td>\n",
       "      <td>0.545136</td>\n",
       "      <td>0.672281</td>\n",
       "      <td>-0.546684</td>\n",
       "      <td>0.508510</td>\n",
       "      <td>-0.006153</td>\n",
       "      <td>-0.006153</td>\n",
       "      <td>0.077322</td>\n",
       "      <td>0.009425</td>\n",
       "      <td>0.010523</td>\n",
       "      <td>0.012186</td>\n",
       "      <td>-0.009079</td>\n",
       "      <td>-0.011829</td>\n",
       "      <td>-0.029456</td>\n",
       "      <td>0.307360</td>\n",
       "      <td>-0.307360</td>\n",
       "      <td>-0.897537</td>\n",
       "      <td>0.887027</td>\n",
       "      <td>0.936782</td>\n",
       "      <td>0.011203</td>\n",
       "      <td>-0.718133</td>\n",
       "      <td>1.294470</td>\n",
       "      <td>-0.063096</td>\n",
       "      <td>-0.018211</td>\n",
       "      <td>-0.627735</td>\n",
       "      <td>-0.600044</td>\n",
       "      <td>-0.066929</td>\n",
       "      <td>0.914520</td>\n",
       "      <td>0.009425</td>\n",
       "      <td>-0.009477</td>\n",
       "      <td>-0.662387</td>\n",
       "      <td>0.695654</td>\n",
       "      <td>1.0</td>\n",
       "      <td>1.0</td>\n",
       "      <td>1.0</td>\n",
       "      <td>1.0</td>\n",
       "      <td>0.243792</td>\n",
       "    </tr>\n",
       "    <tr>\n",
       "      <th>26414</th>\n",
       "      <td>0.230215</td>\n",
       "      <td>0.174431</td>\n",
       "      <td>0.327314</td>\n",
       "      <td>0.269362</td>\n",
       "      <td>0.253973</td>\n",
       "      <td>-0.142565</td>\n",
       "      <td>0.230215</td>\n",
       "      <td>0.264530</td>\n",
       "      <td>0.225697</td>\n",
       "      <td>0.183013</td>\n",
       "      <td>0.128657</td>\n",
       "      <td>0.132217</td>\n",
       "      <td>0.327314</td>\n",
       "      <td>0.610225</td>\n",
       "      <td>0.610225</td>\n",
       "      <td>0.256114</td>\n",
       "      <td>-0.673593</td>\n",
       "      <td>0.346015</td>\n",
       "      <td>-0.727943</td>\n",
       "      <td>-0.712706</td>\n",
       "      <td>0.649693</td>\n",
       "      <td>0.300343</td>\n",
       "      <td>-0.602987</td>\n",
       "      <td>-0.419466</td>\n",
       "      <td>-0.211766</td>\n",
       "      <td>-0.154846</td>\n",
       "      <td>-0.121134</td>\n",
       "      <td>0.204411</td>\n",
       "      <td>0.248762</td>\n",
       "      <td>0.254086</td>\n",
       "      <td>-0.725167</td>\n",
       "      <td>0.871444</td>\n",
       "      <td>-0.182734</td>\n",
       "      <td>0.219927</td>\n",
       "      <td>0.871444</td>\n",
       "      <td>0.046297</td>\n",
       "      <td>-0.725167</td>\n",
       "      <td>0.780527</td>\n",
       "      <td>1.013760</td>\n",
       "      <td>-1.0</td>\n",
       "      <td>...</td>\n",
       "      <td>0.230215</td>\n",
       "      <td>0.222894</td>\n",
       "      <td>0.344802</td>\n",
       "      <td>-0.381963</td>\n",
       "      <td>0.679154</td>\n",
       "      <td>0.708169</td>\n",
       "      <td>-0.681095</td>\n",
       "      <td>0.645312</td>\n",
       "      <td>-0.006153</td>\n",
       "      <td>-0.006153</td>\n",
       "      <td>0.077322</td>\n",
       "      <td>0.009425</td>\n",
       "      <td>0.010653</td>\n",
       "      <td>0.011959</td>\n",
       "      <td>-0.009079</td>\n",
       "      <td>-0.011793</td>\n",
       "      <td>-0.030028</td>\n",
       "      <td>0.378184</td>\n",
       "      <td>-0.378184</td>\n",
       "      <td>-0.257165</td>\n",
       "      <td>0.243475</td>\n",
       "      <td>0.295122</td>\n",
       "      <td>0.011312</td>\n",
       "      <td>-0.707262</td>\n",
       "      <td>1.294470</td>\n",
       "      <td>-0.063096</td>\n",
       "      <td>-0.018211</td>\n",
       "      <td>-0.544050</td>\n",
       "      <td>-0.568366</td>\n",
       "      <td>0.263737</td>\n",
       "      <td>0.454816</td>\n",
       "      <td>0.009425</td>\n",
       "      <td>-0.009477</td>\n",
       "      <td>-0.662387</td>\n",
       "      <td>0.695654</td>\n",
       "      <td>1.0</td>\n",
       "      <td>1.0</td>\n",
       "      <td>1.0</td>\n",
       "      <td>1.0</td>\n",
       "      <td>0.243792</td>\n",
       "    </tr>\n",
       "    <tr>\n",
       "      <th>26415</th>\n",
       "      <td>0.328346</td>\n",
       "      <td>0.273404</td>\n",
       "      <td>0.426766</td>\n",
       "      <td>0.368510</td>\n",
       "      <td>0.352879</td>\n",
       "      <td>-0.142157</td>\n",
       "      <td>0.328346</td>\n",
       "      <td>0.363700</td>\n",
       "      <td>0.211629</td>\n",
       "      <td>0.282207</td>\n",
       "      <td>0.165440</td>\n",
       "      <td>0.168781</td>\n",
       "      <td>0.426766</td>\n",
       "      <td>0.610225</td>\n",
       "      <td>0.610225</td>\n",
       "      <td>0.355109</td>\n",
       "      <td>-0.684832</td>\n",
       "      <td>0.346015</td>\n",
       "      <td>-0.775006</td>\n",
       "      <td>-0.737543</td>\n",
       "      <td>0.636647</td>\n",
       "      <td>0.399333</td>\n",
       "      <td>-0.614821</td>\n",
       "      <td>-0.429921</td>\n",
       "      <td>-0.219665</td>\n",
       "      <td>-0.159004</td>\n",
       "      <td>-0.117075</td>\n",
       "      <td>0.298132</td>\n",
       "      <td>0.347542</td>\n",
       "      <td>0.353051</td>\n",
       "      <td>-0.712106</td>\n",
       "      <td>0.860396</td>\n",
       "      <td>-0.188272</td>\n",
       "      <td>0.209666</td>\n",
       "      <td>0.860396</td>\n",
       "      <td>0.052962</td>\n",
       "      <td>-0.712106</td>\n",
       "      <td>0.780527</td>\n",
       "      <td>1.013760</td>\n",
       "      <td>-1.0</td>\n",
       "      <td>...</td>\n",
       "      <td>0.328346</td>\n",
       "      <td>0.321992</td>\n",
       "      <td>0.443535</td>\n",
       "      <td>-0.370362</td>\n",
       "      <td>0.663225</td>\n",
       "      <td>0.705943</td>\n",
       "      <td>-0.665124</td>\n",
       "      <td>0.628902</td>\n",
       "      <td>-0.006153</td>\n",
       "      <td>-0.006153</td>\n",
       "      <td>0.077322</td>\n",
       "      <td>0.009425</td>\n",
       "      <td>0.010642</td>\n",
       "      <td>0.011983</td>\n",
       "      <td>-0.009072</td>\n",
       "      <td>-0.011806</td>\n",
       "      <td>-0.029848</td>\n",
       "      <td>0.366473</td>\n",
       "      <td>-0.366473</td>\n",
       "      <td>-0.356309</td>\n",
       "      <td>0.342588</td>\n",
       "      <td>0.393953</td>\n",
       "      <td>0.011426</td>\n",
       "      <td>-0.695865</td>\n",
       "      <td>1.294470</td>\n",
       "      <td>-0.063096</td>\n",
       "      <td>-0.018211</td>\n",
       "      <td>-0.550341</td>\n",
       "      <td>-0.570796</td>\n",
       "      <td>0.217452</td>\n",
       "      <td>0.514896</td>\n",
       "      <td>0.009425</td>\n",
       "      <td>-0.009477</td>\n",
       "      <td>-0.662387</td>\n",
       "      <td>0.695654</td>\n",
       "      <td>1.0</td>\n",
       "      <td>1.0</td>\n",
       "      <td>1.0</td>\n",
       "      <td>1.0</td>\n",
       "      <td>0.243792</td>\n",
       "    </tr>\n",
       "    <tr>\n",
       "      <th>26416</th>\n",
       "      <td>0.665220</td>\n",
       "      <td>0.578979</td>\n",
       "      <td>0.660973</td>\n",
       "      <td>0.607246</td>\n",
       "      <td>0.724351</td>\n",
       "      <td>0.453354</td>\n",
       "      <td>0.665220</td>\n",
       "      <td>0.646963</td>\n",
       "      <td>-0.329597</td>\n",
       "      <td>0.573600</td>\n",
       "      <td>0.225900</td>\n",
       "      <td>0.240342</td>\n",
       "      <td>0.660973</td>\n",
       "      <td>0.610225</td>\n",
       "      <td>0.610225</td>\n",
       "      <td>0.652096</td>\n",
       "      <td>-0.363127</td>\n",
       "      <td>1.149308</td>\n",
       "      <td>-0.772199</td>\n",
       "      <td>0.157143</td>\n",
       "      <td>0.689135</td>\n",
       "      <td>0.687145</td>\n",
       "      <td>0.044559</td>\n",
       "      <td>0.494054</td>\n",
       "      <td>0.795467</td>\n",
       "      <td>0.719605</td>\n",
       "      <td>0.201816</td>\n",
       "      <td>0.626383</td>\n",
       "      <td>0.652291</td>\n",
       "      <td>0.652359</td>\n",
       "      <td>-0.568812</td>\n",
       "      <td>0.054844</td>\n",
       "      <td>1.051002</td>\n",
       "      <td>1.024844</td>\n",
       "      <td>0.054844</td>\n",
       "      <td>-1.078105</td>\n",
       "      <td>-0.568812</td>\n",
       "      <td>0.780527</td>\n",
       "      <td>-0.986427</td>\n",
       "      <td>-1.0</td>\n",
       "      <td>...</td>\n",
       "      <td>0.665220</td>\n",
       "      <td>0.644576</td>\n",
       "      <td>0.648737</td>\n",
       "      <td>-0.950350</td>\n",
       "      <td>-0.177657</td>\n",
       "      <td>0.253962</td>\n",
       "      <td>0.178026</td>\n",
       "      <td>-0.208844</td>\n",
       "      <td>-0.006153</td>\n",
       "      <td>-0.006153</td>\n",
       "      <td>0.077322</td>\n",
       "      <td>1.408142</td>\n",
       "      <td>0.010732</td>\n",
       "      <td>0.012557</td>\n",
       "      <td>-0.010102</td>\n",
       "      <td>-0.011377</td>\n",
       "      <td>-0.025733</td>\n",
       "      <td>0.948959</td>\n",
       "      <td>-0.948959</td>\n",
       "      <td>-0.493378</td>\n",
       "      <td>0.592196</td>\n",
       "      <td>0.725212</td>\n",
       "      <td>-0.003679</td>\n",
       "      <td>-1.247369</td>\n",
       "      <td>0.145295</td>\n",
       "      <td>-0.063096</td>\n",
       "      <td>-0.018211</td>\n",
       "      <td>-0.401826</td>\n",
       "      <td>-0.762387</td>\n",
       "      <td>-0.228541</td>\n",
       "      <td>1.156674</td>\n",
       "      <td>1.408142</td>\n",
       "      <td>-1.408143</td>\n",
       "      <td>-0.662387</td>\n",
       "      <td>-1.437496</td>\n",
       "      <td>1.0</td>\n",
       "      <td>1.0</td>\n",
       "      <td>1.0</td>\n",
       "      <td>1.0</td>\n",
       "      <td>0.243792</td>\n",
       "    </tr>\n",
       "  </tbody>\n",
       "</table>\n",
       "<p>26417 rows × 123 columns</p>\n",
       "</div>"
      ],
      "text/plain": [
       "       value__sum_values  ...  value__permutation_entropy__dimension_3__tau_1\n",
       "0               2.575756  ...                                        0.243792\n",
       "1               3.639897  ...                                        0.243792\n",
       "2               2.930164  ...                                        0.243792\n",
       "3               1.822917  ...                                       -4.101858\n",
       "4               1.926879  ...                                       -4.101858\n",
       "...                  ...  ...                                             ...\n",
       "26412           0.586479  ...                                        0.243792\n",
       "26413           0.870085  ...                                        0.243792\n",
       "26414           0.230215  ...                                        0.243792\n",
       "26415           0.328346  ...                                        0.243792\n",
       "26416           0.665220  ...                                        0.243792\n",
       "\n",
       "[26417 rows x 123 columns]"
      ]
     },
     "execution_count": 61,
     "metadata": {
      "tags": []
     },
     "output_type": "execute_result"
    }
   ],
   "source": [
    "from scipy import stats\n",
    "\n",
    "standardised = stats.zscore(extracted_features[feats])\n",
    "\n",
    "details = extracted_features.columns[:2]\n",
    "df1_std = pd.DataFrame(standardised, columns = feats)\n",
    "df1_std = df1_std.dropna(axis='columns')\n",
    "#df1_std = pd.concat([extracted_features[details], df1_std], axis=1)\n",
    "df1_std"
   ]
  },
  {
   "cell_type": "code",
   "execution_count": null,
   "metadata": {
    "colab": {
     "base_uri": "https://localhost:8080/",
     "height": 404
    },
    "id": "AFTsKHH24t2g",
    "outputId": "c0680f76-f125-4e99-e339-5d4a1b9509ea"
   },
   "outputs": [
    {
     "data": {
      "image/png": "[encoded data removed]",
      "text/plain": [
       "<Figure size 864x432 with 1 Axes>"
      ]
     },
     "metadata": {
      "filenames": {
       "image/png": "C:\\Users\\John\\CA4015_Assignment_2\\_build\\jupyter_execute\\3classification_70_0.png"
      },
      "needs_background": "light",
      "tags": []
     },
     "output_type": "display_data"
    }
   ],
   "source": [
    "from sklearn.decomposition import PCA\n",
    "import matplotlib.pyplot as plt\n",
    "\n",
    "# use this function to find variance captured in n PCs\n",
    "# ideally we'd like 75-90% variance captured in 2 or 3 PCs\n",
    "# to give an accurate representation of the original data\n",
    "\n",
    "def ideal_pca(df_std):\n",
    "    dims = 10 # or use len(df_std.columns)\n",
    "    pca = PCA(n_components = dims)\n",
    "    pca.fit(df_std)\n",
    "    variance = pca.explained_variance_ratio_\n",
    "    variance = np.insert(variance, 0, 0, axis=0)\n",
    "    var = np.cumsum(np.round(variance, 3)*100)\n",
    "    plt.figure(figsize=(12,6))\n",
    "    plt.ylabel('% Variance Explained')\n",
    "    plt.xlabel('# of Principal Components')\n",
    "    plt.title('PCA Analysis')\n",
    "    plt.ylim(0,100.5)\n",
    "    plt.xlim(0, dims)\n",
    "    plt.plot(var)\n",
    "    \n",
    "ideal_pca(df1_std)"
   ]
  },
  {
   "cell_type": "code",
   "execution_count": null,
   "metadata": {
    "colab": {
     "base_uri": "https://localhost:8080/"
    },
    "id": "H79Nk_Mt4ucv",
    "outputId": "034f2795-a649-4eb1-9280-049962b6f90c"
   },
   "outputs": [
    {
     "name": "stdout",
     "output_type": "stream",
     "text": [
      "[0.32182321 0.21781189 0.13619469 0.0699446  0.0350436 ]\n",
      "\n",
      "Total variance captured:\n",
      "\n",
      "0.7808179870194095\n"
     ]
    }
   ],
   "source": [
    "pca3 = PCA(n_components = 5).fit(df1_std)\n",
    "pca3d = pca3.transform(df1_std)\n",
    "pca3d_df = pd.DataFrame(pca3d)\n",
    "\n",
    "print(pca3.explained_variance_ratio_)\n",
    "print(\"\\nTotal variance captured:\\n\")\n",
    "print(sum(pca3.explained_variance_ratio_))\n",
    "\n",
    "# the % variance captured by our PCs"
   ]
  },
  {
   "cell_type": "code",
   "execution_count": null,
   "metadata": {
    "colab": {
     "base_uri": "https://localhost:8080/",
     "height": 424
    },
    "id": "TY1f2CyB5mqR",
    "outputId": "6ea19fba-c84b-45c3-a2ab-68ef305c6e8f"
   },
   "outputs": [
    {
     "data": {
      "text/html": [
       "<div>\n",
       "<style scoped>\n",
       "    .dataframe tbody tr th:only-of-type {\n",
       "        vertical-align: middle;\n",
       "    }\n",
       "\n",
       "    .dataframe tbody tr th {\n",
       "        vertical-align: top;\n",
       "    }\n",
       "\n",
       "    .dataframe thead th {\n",
       "        text-align: right;\n",
       "    }\n",
       "</style>\n",
       "<table border=\"1\" class=\"dataframe\">\n",
       "  <thead>\n",
       "    <tr style=\"text-align: right;\">\n",
       "      <th></th>\n",
       "      <th>0</th>\n",
       "      <th>1</th>\n",
       "      <th>2</th>\n",
       "      <th>3</th>\n",
       "      <th>4</th>\n",
       "    </tr>\n",
       "  </thead>\n",
       "  <tbody>\n",
       "    <tr>\n",
       "      <th>0</th>\n",
       "      <td>16.479781</td>\n",
       "      <td>2.196632</td>\n",
       "      <td>0.555395</td>\n",
       "      <td>-4.694193</td>\n",
       "      <td>1.827663</td>\n",
       "    </tr>\n",
       "    <tr>\n",
       "      <th>1</th>\n",
       "      <td>23.148063</td>\n",
       "      <td>1.351246</td>\n",
       "      <td>-0.376630</td>\n",
       "      <td>-4.838082</td>\n",
       "      <td>1.933818</td>\n",
       "    </tr>\n",
       "    <tr>\n",
       "      <th>2</th>\n",
       "      <td>18.213829</td>\n",
       "      <td>7.570060</td>\n",
       "      <td>5.841912</td>\n",
       "      <td>-3.278936</td>\n",
       "      <td>6.812912</td>\n",
       "    </tr>\n",
       "    <tr>\n",
       "      <th>3</th>\n",
       "      <td>11.664291</td>\n",
       "      <td>9.782295</td>\n",
       "      <td>-2.254102</td>\n",
       "      <td>-3.964441</td>\n",
       "      <td>3.505594</td>\n",
       "    </tr>\n",
       "    <tr>\n",
       "      <th>4</th>\n",
       "      <td>12.299023</td>\n",
       "      <td>9.864997</td>\n",
       "      <td>-2.051454</td>\n",
       "      <td>-3.971385</td>\n",
       "      <td>3.628099</td>\n",
       "    </tr>\n",
       "    <tr>\n",
       "      <th>...</th>\n",
       "      <td>...</td>\n",
       "      <td>...</td>\n",
       "      <td>...</td>\n",
       "      <td>...</td>\n",
       "      <td>...</td>\n",
       "    </tr>\n",
       "    <tr>\n",
       "      <th>26412</th>\n",
       "      <td>3.462305</td>\n",
       "      <td>-4.156793</td>\n",
       "      <td>-2.779734</td>\n",
       "      <td>-1.325572</td>\n",
       "      <td>0.161441</td>\n",
       "    </tr>\n",
       "    <tr>\n",
       "      <th>26413</th>\n",
       "      <td>5.243921</td>\n",
       "      <td>-3.735498</td>\n",
       "      <td>0.654760</td>\n",
       "      <td>-1.911027</td>\n",
       "      <td>-1.356353</td>\n",
       "    </tr>\n",
       "    <tr>\n",
       "      <th>26414</th>\n",
       "      <td>1.330057</td>\n",
       "      <td>-3.492736</td>\n",
       "      <td>0.889212</td>\n",
       "      <td>-2.119469</td>\n",
       "      <td>-1.253958</td>\n",
       "    </tr>\n",
       "    <tr>\n",
       "      <th>26415</th>\n",
       "      <td>1.926167</td>\n",
       "      <td>-3.536070</td>\n",
       "      <td>0.846977</td>\n",
       "      <td>-2.105734</td>\n",
       "      <td>-1.295859</td>\n",
       "    </tr>\n",
       "    <tr>\n",
       "      <th>26416</th>\n",
       "      <td>3.939631</td>\n",
       "      <td>-2.701668</td>\n",
       "      <td>3.972541</td>\n",
       "      <td>4.016749</td>\n",
       "      <td>1.124536</td>\n",
       "    </tr>\n",
       "  </tbody>\n",
       "</table>\n",
       "<p>26417 rows × 5 columns</p>\n",
       "</div>"
      ],
      "text/plain": [
       "               0         1         2         3         4\n",
       "0      16.479781  2.196632  0.555395 -4.694193  1.827663\n",
       "1      23.148063  1.351246 -0.376630 -4.838082  1.933818\n",
       "2      18.213829  7.570060  5.841912 -3.278936  6.812912\n",
       "3      11.664291  9.782295 -2.254102 -3.964441  3.505594\n",
       "4      12.299023  9.864997 -2.051454 -3.971385  3.628099\n",
       "...          ...       ...       ...       ...       ...\n",
       "26412   3.462305 -4.156793 -2.779734 -1.325572  0.161441\n",
       "26413   5.243921 -3.735498  0.654760 -1.911027 -1.356353\n",
       "26414   1.330057 -3.492736  0.889212 -2.119469 -1.253958\n",
       "26415   1.926167 -3.536070  0.846977 -2.105734 -1.295859\n",
       "26416   3.939631 -2.701668  3.972541  4.016749  1.124536\n",
       "\n",
       "[26417 rows x 5 columns]"
      ]
     },
     "execution_count": 64,
     "metadata": {
      "tags": []
     },
     "output_type": "execute_result"
    }
   ],
   "source": [
    "pca3d_df"
   ]
  },
  {
   "cell_type": "code",
   "execution_count": null,
   "metadata": {
    "id": "7Xy7N2436pkw"
   },
   "outputs": [],
   "source": [
    "from sklearn.model_selection import train_test_split\n",
    "\n",
    "# Splitting our data into training and testing.\n",
    "X_train, X_test, y_train, y_test = train_test_split(pca3d_df, e_label_array, test_size=0.25)"
   ]
  },
  {
   "cell_type": "markdown",
   "metadata": {
    "id": "zfs97b9H6pli"
   },
   "source": [
    "## Decision Tree Classifier\n",
    "\n",
    "Let's look at the feature importance according to this Decision Tree Model"
   ]
  },
  {
   "cell_type": "code",
   "execution_count": null,
   "metadata": {
    "colab": {
     "base_uri": "https://localhost:8080/"
    },
    "id": "min9xJIh6pll",
    "outputId": "82de7a39-0449-49c9-e176-6cea91ee8fb0"
   },
   "outputs": [
    {
     "name": "stdout",
     "output_type": "stream",
     "text": [
      "The mean score and the 95% confidence interval of the score estimate are given by:\n",
      "Accuracy: 0.69 (+/- 0.01)\n",
      "\n",
      "The list of features with importance: \n",
      "['id', 'time', 'value__variance_larger_than_standard_deviation', 'value__has_duplicate_max', 'value__has_duplicate_min']\n",
      "importance\n",
      " [0.16368477 0.15996109 0.24157696 0.2176182  0.21715897]\n"
     ]
    }
   ],
   "source": [
    "from sklearn.model_selection import cross_val_score\n",
    "from sklearn.tree import DecisionTreeClassifier\n",
    "\n",
    "clf = DecisionTreeClassifier(random_state=0)\n",
    "\n",
    "scores = cross_val_score(clf, X_train, y_train, cv=5)\n",
    "print('The mean score and the 95% confidence interval of the score estimate are given by:')\n",
    "print(\"Accuracy: %0.2f (+/- %0.2f)\" % (scores.mean(), scores.std() * 2))\n",
    "\n",
    "# Training the model in a standard way allows to to view the feature importance\n",
    "# for this model alone.\n",
    "clf.fit(X_train,y_train)\n",
    "importance = (clf.feature_importances_)\n",
    "\n",
    "# using list comprehension + enumerate() \n",
    "# index of matching element \n",
    "res = [idx for idx, val in enumerate(importance) if val > 0] \n",
    "res_feats = [extracted_features.columns[i] for i in res]\n",
    "  \n",
    "# print result \n",
    "print(\"\\nThe list of features with importance: \") \n",
    "\n",
    "print(res_feats)\n",
    "print(\"importance\\n\", importance)"
   ]
  },
  {
   "cell_type": "markdown",
   "metadata": {
    "id": "Li-ggpDx6plx"
   },
   "source": [
    "## AutoML"
   ]
  },
  {
   "cell_type": "code",
   "execution_count": null,
   "metadata": {
    "colab": {
     "base_uri": "https://localhost:8080/"
    },
    "id": "wQGYtAV_6plz",
    "outputId": "af7351a1-b87e-47a9-ec21-11b4cad420fc"
   },
   "outputs": [
    {
     "name": "stdout",
     "output_type": "stream",
     "text": [
      "Test Accuracy score 0.7309613928841786\n"
     ]
    }
   ],
   "source": [
    "import autosklearn.classification\n",
    "import sklearn\n",
    "# configure auto-sklearn\n",
    "automl = autosklearn.classification.AutoSklearnClassifier(\n",
    "          time_left_for_this_task=120, # run auto-sklearn for at most 2min\n",
    "          per_run_time_limit=30, # spend at most 30 sec for each model training\n",
    "          )\n",
    "\n",
    "# train model(s)\n",
    "automl.fit(X_train, y_train)\n",
    "\n",
    "# evaluate\n",
    "y_hat = automl.predict(X_test)\n",
    "test_acc = sklearn.metrics.accuracy_score(y_test, y_hat)\n",
    "print(\"Test Accuracy score {0}\".format(test_acc))"
   ]
  },
  {
   "cell_type": "markdown",
   "metadata": {
    "id": "6Y8feapIGQL1"
   },
   "source": [
    "We decided that for our situation, with training not taking particularly long without PCA and losing more than 20% of the variance with PCA, it wasn't the right way to go and instead we would continue to simply use the full amount of features"
   ]
  },
  {
   "cell_type": "markdown",
   "metadata": {
    "id": "5L63WJUu7sjx"
   },
   "source": [
    "# Binary Data Classifier"
   ]
  },
  {
   "cell_type": "code",
   "execution_count": null,
   "metadata": {
    "colab": {
     "base_uri": "https://localhost:8080/"
    },
    "id": "xV2XPqBixrDV",
    "outputId": "d76363d4-b8ee-4959-ea0a-ffdb979a182f"
   },
   "outputs": [
    {
     "name": "stdout",
     "output_type": "stream",
     "text": [
      "[0 1]\n",
      "(26417,)\n"
     ]
    }
   ],
   "source": [
    "# first we'll create a binary label set, indicating 0 for awake and 1 for asleep\n",
    "\n",
    "e_binary_label_array = extracted_labels['1'].ravel().copy()\n",
    "e_binary_label_array[e_binary_label_array > 0] = 1\n",
    "print(np.unique(e_binary_label_array))\n",
    "print(e_binary_label_array.shape)"
   ]
  },
  {
   "cell_type": "code",
   "execution_count": null,
   "metadata": {
    "colab": {
     "base_uri": "https://localhost:8080/"
    },
    "id": "J3rujWqHzotk",
    "outputId": "0383b5f5-f408-47c2-98d4-94071d5dfbe3"
   },
   "outputs": [
    {
     "name": "stdout",
     "output_type": "stream",
     "text": [
      "Extracted Features \n",
      "             id  ...  value__permutation_entropy__dimension_4__tau_1\n",
      "0        46343  ...                                            -0.0\n",
      "1        46343  ...                                            -0.0\n",
      "2        46343  ...                                            -0.0\n",
      "3        46343  ...                                            -0.0\n",
      "4        46343  ...                                            -0.0\n",
      "...        ...  ...                                             ...\n",
      "26412  9961348  ...                                            -0.0\n",
      "26413  9961348  ...                                            -0.0\n",
      "26414  9961348  ...                                            -0.0\n",
      "26415  9961348  ...                                            -0.0\n",
      "26416  9961348  ...                                            -0.0\n",
      "\n",
      "[26417 rows x 271 columns]\n",
      "\n",
      "Extracted Labels \n",
      " [0 0 0 ... 0 0 0]\n"
     ]
    }
   ],
   "source": [
    "print(\"Extracted Features\", \"\\n\", extracted_features)\n",
    "print(\"\\nExtracted Labels\", \"\\n\", e_binary_label_array)"
   ]
  },
  {
   "cell_type": "code",
   "execution_count": null,
   "metadata": {
    "id": "vZwtj6Tqx555"
   },
   "outputs": [],
   "source": [
    "from sklearn.model_selection import train_test_split\n",
    "\n",
    "# Splitting our data into training and testing.\n",
    "\n",
    "X_train, X_test, y_train, y_test = train_test_split(extracted_features, e_binary_label_array, test_size=0.25)"
   ]
  },
  {
   "cell_type": "markdown",
   "metadata": {
    "id": "NFXCdu_n60IF"
   },
   "source": [
    "## Decision Tree Classifier\n",
    "Let's look at the feature importance according to this Decision Tree Model"
   ]
  },
  {
   "cell_type": "code",
   "execution_count": null,
   "metadata": {
    "colab": {
     "base_uri": "https://localhost:8080/"
    },
    "id": "0tHo6ZsCx676",
    "outputId": "9dd9c0f0-9b98-40a0-8834-13e75114348a"
   },
   "outputs": [
    {
     "name": "stdout",
     "output_type": "stream",
     "text": [
      "The mean score and the 95% confidence interval of the score estimate are given by:\n",
      "Accuracy: 0.94 (+/- 0.00)\n",
      "\n",
      "The list of features with importance: \n",
      "['id', 'time', 'value__sum_values', 'value__abs_energy', 'value__mean_abs_change', 'value__mean_change', 'value__mean_second_derivative_central', 'value__median', 'value__mean', 'value__standard_deviation', 'value__variation_coefficient', 'value__variance', 'value__skewness', 'value__kurtosis', 'value__absolute_sum_of_changes', 'value__last_location_of_minimum', 'value__maximum', 'value__minimum', 'value__benford_correlation', 'value__time_reversal_asymmetry_statistic__lag_1', 'value__c3__lag_1', 'value__cid_ce__normalize_True', 'value__cid_ce__normalize_False', 'value__quantile__q_0.1', 'value__quantile__q_0.2', 'value__quantile__q_0.3', 'value__quantile__q_0.4', 'value__quantile__q_0.6', 'value__quantile__q_0.7', 'value__quantile__q_0.8', 'value__quantile__q_0.9', 'value__autocorrelation__lag_1', 'value__autocorrelation__lag_2', 'value__autocorrelation__lag_3', 'value__agg_autocorrelation__f_agg_\"mean\"__maxlag_40', 'value__agg_autocorrelation__f_agg_\"median\"__maxlag_40', 'value__agg_autocorrelation__f_agg_\"var\"__maxlag_40', 'value__partial_autocorrelation__lag_1', 'value__cwt_coefficients__coeff_0__w_2__widths_(2, 5, 10, 20)', 'value__cwt_coefficients__coeff_0__w_5__widths_(2, 5, 10, 20)', 'value__cwt_coefficients__coeff_0__w_10__widths_(2, 5, 10, 20)', 'value__cwt_coefficients__coeff_0__w_20__widths_(2, 5, 10, 20)', 'value__cwt_coefficients__coeff_1__w_2__widths_(2, 5, 10, 20)', 'value__cwt_coefficients__coeff_1__w_5__widths_(2, 5, 10, 20)', 'value__cwt_coefficients__coeff_1__w_10__widths_(2, 5, 10, 20)', 'value__cwt_coefficients__coeff_1__w_20__widths_(2, 5, 10, 20)', 'value__cwt_coefficients__coeff_2__w_2__widths_(2, 5, 10, 20)', 'value__cwt_coefficients__coeff_2__w_5__widths_(2, 5, 10, 20)', 'value__cwt_coefficients__coeff_2__w_10__widths_(2, 5, 10, 20)', 'value__cwt_coefficients__coeff_2__w_20__widths_(2, 5, 10, 20)', 'value__cwt_coefficients__coeff_3__w_2__widths_(2, 5, 10, 20)', 'value__cwt_coefficients__coeff_3__w_5__widths_(2, 5, 10, 20)', 'value__cwt_coefficients__coeff_3__w_10__widths_(2, 5, 10, 20)', 'value__cwt_coefficients__coeff_3__w_20__widths_(2, 5, 10, 20)', 'value__spkt_welch_density__coeff_2', 'value__change_quantiles__f_agg_\"mean\"__isabs_False__qh_0.4__ql_0.0', 'value__change_quantiles__f_agg_\"mean\"__isabs_True__qh_0.4__ql_0.0', 'value__change_quantiles__f_agg_\"mean\"__isabs_False__qh_0.6__ql_0.0', 'value__change_quantiles__f_agg_\"mean\"__isabs_True__qh_0.6__ql_0.0', 'value__change_quantiles__f_agg_\"mean\"__isabs_False__qh_0.8__ql_0.0', 'value__change_quantiles__f_agg_\"var\"__isabs_False__qh_0.8__ql_0.0', 'value__change_quantiles__f_agg_\"mean\"__isabs_True__qh_0.8__ql_0.0', 'value__change_quantiles__f_agg_\"var\"__isabs_True__qh_0.8__ql_0.0', 'value__change_quantiles__f_agg_\"mean\"__isabs_False__qh_1.0__ql_0.0', 'value__change_quantiles__f_agg_\"var\"__isabs_False__qh_1.0__ql_0.0', 'value__change_quantiles__f_agg_\"mean\"__isabs_True__qh_1.0__ql_0.0', 'value__change_quantiles__f_agg_\"var\"__isabs_True__qh_1.0__ql_0.0', 'value__change_quantiles__f_agg_\"mean\"__isabs_False__qh_0.8__ql_0.2', 'value__change_quantiles__f_agg_\"mean\"__isabs_True__qh_0.8__ql_0.2', 'value__change_quantiles__f_agg_\"mean\"__isabs_False__qh_1.0__ql_0.2', 'value__change_quantiles__f_agg_\"mean\"__isabs_True__qh_1.0__ql_0.2', 'value__change_quantiles__f_agg_\"var\"__isabs_True__qh_1.0__ql_0.2', 'value__change_quantiles__f_agg_\"mean\"__isabs_False__qh_1.0__ql_0.4', 'value__change_quantiles__f_agg_\"mean\"__isabs_True__qh_1.0__ql_0.6', 'value__fft_coefficient__attr_\"real\"__coeff_0', 'value__fft_coefficient__attr_\"real\"__coeff_1', 'value__fft_coefficient__attr_\"real\"__coeff_2', 'value__fft_coefficient__attr_\"imag\"__coeff_1', 'value__fft_coefficient__attr_\"abs\"__coeff_0', 'value__fft_coefficient__attr_\"abs\"__coeff_1', 'value__fft_coefficient__attr_\"abs\"__coeff_2', 'value__fft_coefficient__attr_\"angle\"__coeff_1', 'value__fft_aggregated__aggtype_\"centroid\"', 'value__fft_aggregated__aggtype_\"variance\"', 'value__fft_aggregated__aggtype_\"skew\"', 'value__fft_aggregated__aggtype_\"kurtosis\"', 'value__range_count__max_1__min_-1', 'value__friedrich_coefficients__coeff_0__m_3__r_30', 'value__friedrich_coefficients__coeff_1__m_3__r_30', 'value__friedrich_coefficients__coeff_2__m_3__r_30', 'value__friedrich_coefficients__coeff_3__m_3__r_30', 'value__max_langevin_fixed_point__m_3__r_30', 'value__linear_trend__attr_\"pvalue\"', 'value__linear_trend__attr_\"rvalue\"', 'value__linear_trend__attr_\"intercept\"', 'value__linear_trend__attr_\"slope\"', 'value__linear_trend__attr_\"stderr\"', 'value__augmented_dickey_fuller__attr_\"teststat\"__autolag_\"AIC\"', 'value__augmented_dickey_fuller__attr_\"pvalue\"__autolag_\"AIC\"', 'value__number_crossing_m__m_0', 'value__energy_ratio_by_chunks__num_segments_10__segment_focus_0', 'value__energy_ratio_by_chunks__num_segments_10__segment_focus_1', 'value__energy_ratio_by_chunks__num_segments_10__segment_focus_2', 'value__energy_ratio_by_chunks__num_segments_10__segment_focus_3', 'value__lempel_ziv_complexity__bins_100', 'value__permutation_entropy__dimension_3__tau_1']\n"
     ]
    }
   ],
   "source": [
    "from sklearn.model_selection import cross_val_score\n",
    "from sklearn.tree import DecisionTreeClassifier\n",
    "\n",
    "clf = DecisionTreeClassifier(random_state=0)\n",
    "\n",
    "scores = cross_val_score(clf, X_train, y_train, cv=5)\n",
    "print('The mean score and the 95% confidence interval of the score estimate are given by:')\n",
    "print(\"Accuracy: %0.2f (+/- %0.2f)\" % (scores.mean(), scores.std() * 2))\n",
    "\n",
    "# Training the model in a standard way allows to to view the feature importance\n",
    "# for this model alone.\n",
    "clf.fit(X_train,y_train)\n",
    "importance = (clf.feature_importances_)\n",
    "\n",
    "# using list comprehension + enumerate() \n",
    "# index of matching element \n",
    "res = [idx for idx, val in enumerate(importance) if val > 0] \n",
    "res_feats = [extracted_features.columns[i] for i in res]\n",
    "  \n",
    "# print result \n",
    "print(\"\\nThe list of features with importance: \") \n",
    "\n",
    "print(res_feats)\n",
    "#print(\"importance\\n\", importance)"
   ]
  },
  {
   "cell_type": "markdown",
   "metadata": {
    "id": "-vmYiZ3zJHY6"
   },
   "source": [
    "##Nested Cross-Validation"
   ]
  },
  {
   "cell_type": "code",
   "execution_count": null,
   "metadata": {
    "id": "XMkGxdoV2OXZ"
   },
   "outputs": [],
   "source": [
    "#nested_cross_val(X_train, y_train)"
   ]
  },
  {
   "cell_type": "markdown",
   "metadata": {
    "id": "jihtRLuKJ810"
   },
   "source": [
    "##Comparing Classification Algorithms"
   ]
  },
  {
   "cell_type": "code",
   "execution_count": null,
   "metadata": {
    "colab": {
     "base_uri": "https://localhost:8080/"
    },
    "id": "vl2vf6ubJ461",
    "outputId": "053ef7a8-f347-41db-9b86-47f1b24231c9"
   },
   "outputs": [
    {
     "name": "stdout",
     "output_type": "stream",
     "text": [
      "Model  Mean Accuracy  95% conf interval\n",
      "LOGISTIC REGRESSION: 0.9081873407869206 0.009351711019187057\n",
      "\n",
      "Test set accuracy:\n",
      " 0.9077971233913702 \n",
      "\n",
      "Confusion Matrix\n",
      " [[   0  609]\n",
      " [   0 5996]] \n",
      "\n",
      "Classification report\n",
      "               precision    recall  f1-score   support\n",
      "\n",
      "           0       0.00      0.00      0.00       609\n",
      "           1       0.91      1.00      0.95      5996\n",
      "\n",
      "    accuracy                           0.91      6605\n",
      "   macro avg       0.45      0.50      0.48      6605\n",
      "weighted avg       0.82      0.91      0.86      6605\n",
      " \n",
      "\n"
     ]
    },
    {
     "name": "stderr",
     "output_type": "stream",
     "text": [
      "/usr/local/lib/python3.6/dist-packages/sklearn/metrics/_classification.py:1272: UndefinedMetricWarning: Precision and F-score are ill-defined and being set to 0.0 in labels with no predicted samples. Use `zero_division` parameter to control this behavior.\n",
      "  _warn_prf(average, modifier, msg_start, len(result))\n"
     ]
    },
    {
     "name": "stdout",
     "output_type": "stream",
     "text": [
      "Model  Mean Accuracy  95% conf interval\n",
      "LINEAR DISCRIMINANT AANALYSIS: 0.9084901671836025 0.00921647142524848\n",
      "\n",
      "Test set accuracy:\n",
      " 0.9080999242997729 \n",
      "\n",
      "Confusion Matrix\n",
      " [[   3  606]\n",
      " [   1 5995]] \n",
      "\n",
      "Classification report\n",
      "               precision    recall  f1-score   support\n",
      "\n",
      "           0       0.75      0.00      0.01       609\n",
      "           1       0.91      1.00      0.95      5996\n",
      "\n",
      "    accuracy                           0.91      6605\n",
      "   macro avg       0.83      0.50      0.48      6605\n",
      "weighted avg       0.89      0.91      0.86      6605\n",
      " \n",
      "\n",
      "Model  Mean Accuracy  95% conf interval\n",
      "K NEAREST NEIGHBOURS: 0.9625483974651214 0.008226771447011855\n",
      "\n",
      "Test set accuracy:\n",
      " 0.9647236941710825 \n",
      "\n",
      "Confusion Matrix\n",
      " [[ 418  191]\n",
      " [  42 5954]] \n",
      "\n",
      "Classification report\n",
      "               precision    recall  f1-score   support\n",
      "\n",
      "           0       0.91      0.69      0.78       609\n",
      "           1       0.97      0.99      0.98      5996\n",
      "\n",
      "    accuracy                           0.96      6605\n",
      "   macro avg       0.94      0.84      0.88      6605\n",
      "weighted avg       0.96      0.96      0.96      6605\n",
      " \n",
      "\n",
      "Model  Mean Accuracy  95% conf interval\n",
      "NAIVE BAYES: 0.3533698287107949 0.41296958333771544\n",
      "\n",
      "Test set accuracy:\n",
      " 0.3821347464042392 \n",
      "\n",
      "Confusion Matrix\n",
      " [[ 526   83]\n",
      " [3998 1998]] \n",
      "\n",
      "Classification report\n",
      "               precision    recall  f1-score   support\n",
      "\n",
      "           0       0.12      0.86      0.20       609\n",
      "           1       0.96      0.33      0.49      5996\n",
      "\n",
      "    accuracy                           0.38      6605\n",
      "   macro avg       0.54      0.60      0.35      6605\n",
      "weighted avg       0.88      0.38      0.47      6605\n",
      " \n",
      "\n",
      "Model  Mean Accuracy  95% conf interval\n",
      "DECISION TREE: 0.9385731553695524 0.012195058698595688\n",
      "\n",
      "Test set accuracy:\n",
      " 0.9342922028766086 \n",
      "\n",
      "Confusion Matrix\n",
      " [[ 373  236]\n",
      " [ 198 5798]] \n",
      "\n",
      "Classification report\n",
      "               precision    recall  f1-score   support\n",
      "\n",
      "           0       0.65      0.61      0.63       609\n",
      "           1       0.96      0.97      0.96      5996\n",
      "\n",
      "    accuracy                           0.93      6605\n",
      "   macro avg       0.81      0.79      0.80      6605\n",
      "weighted avg       0.93      0.93      0.93      6605\n",
      " \n",
      "\n",
      "Model  Mean Accuracy  95% conf interval\n",
      "RANDOM FOREST: 0.9506363429370136 0.00787252245719144\n",
      "\n",
      "Test set accuracy:\n",
      " 0.9494322482967449 \n",
      "\n",
      "Confusion Matrix\n",
      " [[ 323  286]\n",
      " [  48 5948]] \n",
      "\n",
      "Classification report\n",
      "               precision    recall  f1-score   support\n",
      "\n",
      "           0       0.87      0.53      0.66       609\n",
      "           1       0.95      0.99      0.97      5996\n",
      "\n",
      "    accuracy                           0.95      6605\n",
      "   macro avg       0.91      0.76      0.82      6605\n",
      "weighted avg       0.95      0.95      0.94      6605\n",
      " \n",
      "\n",
      "Model  Mean Accuracy  95% conf interval\n",
      "SUPPORT VECTOR MACHINE: 0.908136835762142 0.00922736732173412\n",
      "\n",
      "Test set accuracy:\n",
      " 0.9077971233913702 \n",
      "\n",
      "Confusion Matrix\n",
      " [[   0  609]\n",
      " [   0 5996]] \n",
      "\n",
      "Classification report\n",
      "               precision    recall  f1-score   support\n",
      "\n",
      "           0       0.00      0.00      0.00       609\n",
      "           1       0.91      1.00      0.95      5996\n",
      "\n",
      "    accuracy                           0.91      6605\n",
      "   macro avg       0.45      0.50      0.48      6605\n",
      "weighted avg       0.82      0.91      0.86      6605\n",
      " \n",
      "\n"
     ]
    },
    {
     "name": "stderr",
     "output_type": "stream",
     "text": [
      "/usr/local/lib/python3.6/dist-packages/sklearn/metrics/_classification.py:1272: UndefinedMetricWarning: Precision and F-score are ill-defined and being set to 0.0 in labels with no predicted samples. Use `zero_division` parameter to control this behavior.\n",
      "  _warn_prf(average, modifier, msg_start, len(result))\n"
     ]
    },
    {
     "name": "stdout",
     "output_type": "stream",
     "text": [
      "Model  Mean Accuracy  95% conf interval\n",
      "ADABOOST CLASSIFIER: 0.9282256614426355 0.0072063281722145305\n",
      "\n",
      "Test set accuracy:\n",
      " 0.9274791824375473 \n",
      "\n",
      "Confusion Matrix\n",
      " [[ 193  416]\n",
      " [  63 5933]] \n",
      "\n",
      "Classification report\n",
      "               precision    recall  f1-score   support\n",
      "\n",
      "           0       0.75      0.32      0.45       609\n",
      "           1       0.93      0.99      0.96      5996\n",
      "\n",
      "    accuracy                           0.93      6605\n",
      "   macro avg       0.84      0.65      0.70      6605\n",
      "weighted avg       0.92      0.93      0.91      6605\n",
      " \n",
      "\n"
     ]
    }
   ],
   "source": [
    "names, results = algorithm_comparison(X_train, y_train, X_test, y_test)"
   ]
  },
  {
   "cell_type": "markdown",
   "metadata": {
    "id": "yf6CqCvjJ-2y"
   },
   "source": [
    "##Plotting Algorithm Performance"
   ]
  },
  {
   "cell_type": "code",
   "execution_count": null,
   "metadata": {
    "colab": {
     "base_uri": "https://localhost:8080/",
     "height": 663
    },
    "id": "E6utl1CIJ5Nj",
    "outputId": "20b68632-7cac-4d47-f41c-830e0f385a69"
   },
   "outputs": [
    {
     "data": {
      "image/png": "[encoded data removed]",
      "text/plain": [
       "<Figure size 1440x720 with 1 Axes>"
      ]
     },
     "metadata": {
      "filenames": {
       "image/png": "C:\\Users\\John\\CA4015_Assignment_2\\_build\\jupyter_execute\\3classification_90_0.png"
      },
      "needs_background": "light",
      "tags": []
     },
     "output_type": "display_data"
    }
   ],
   "source": [
    "plot_algo_comparison(names, results, title=\"Algorithm Comparison on Wake/Sleep Label Data With Extracted Features\")"
   ]
  },
  {
   "cell_type": "markdown",
   "metadata": {
    "id": "owrAN1UHfPC3"
   },
   "source": [
    "Classification on binary labelled data with extracted features yielded improved results in accuracy compared to that in the independent data point model earlier in the notebook. As shown, with the exception of Naive Bayes, all the algorithms displayed accuracy of above 90%. Decision Tree and Random Forest performed well again but K-nearest neighbours had the highest accuracy for this dataset with an accuracy of 96.1%. Upon inspection of the confusion matrix, there is no indication of the model guessing \"Sleep\" for all data points as shown in the false predictions for \"Wake\"."
   ]
  },
  {
   "cell_type": "markdown",
   "metadata": {
    "id": "dJX7H6-OKBk_"
   },
   "source": [
    "##AutoML"
   ]
  },
  {
   "cell_type": "code",
   "execution_count": null,
   "metadata": {
    "colab": {
     "base_uri": "https://localhost:8080/"
    },
    "id": "fkg_Pjj2J5kn",
    "outputId": "6ca8adb3-6b88-4daf-abb7-9aede0123048"
   },
   "outputs": [
    {
     "name": "stdout",
     "output_type": "stream",
     "text": [
      "Test Accuracy score 0.9538228614685844\n"
     ]
    }
   ],
   "source": [
    "import autosklearn.classification\n",
    "import sklearn\n",
    "# configure auto-sklearn\n",
    "automl = autosklearn.classification.AutoSklearnClassifier(\n",
    "          time_left_for_this_task=120, # run auto-sklearn for at most 2min\n",
    "          per_run_time_limit=30, # spend at most 30 sec for each model training\n",
    "          )\n",
    "\n",
    "# train model(s)\n",
    "automl.fit(X_train, y_train)\n",
    "\n",
    "# evaluate\n",
    "y_hat = automl.predict(X_test)\n",
    "test_acc = sklearn.metrics.accuracy_score(y_test, y_hat)\n",
    "print(\"Test Accuracy score {0}\".format(test_acc))"
   ]
  },
  {
   "cell_type": "markdown",
   "metadata": {
    "id": "TZ0k1fxf-GGu"
   },
   "source": [
    "# Three-Label Classifier\n",
    "Now we are using the extracted feature set to classify based on the three label categories of Wake/Non-REM Sleep/REM Sleep and again assigning them the labels of 0/1/2 respectively"
   ]
  },
  {
   "cell_type": "code",
   "execution_count": null,
   "metadata": {
    "colab": {
     "base_uri": "https://localhost:8080/"
    },
    "id": "SjBlc8SZJ6qB",
    "outputId": "d2d1da71-1b72-44d3-9f69-58184e644bc9"
   },
   "outputs": [
    {
     "name": "stdout",
     "output_type": "stream",
     "text": [
      "[0 1 2]\n",
      "(26417,)\n"
     ]
    }
   ],
   "source": [
    "e_three_label_array = extracted_labels['1'].ravel().copy()\n",
    "e_three_label_array[(e_three_label_array == 1) | (e_three_label_array == 2) | (e_three_label_array == 3)] = 1\n",
    "e_three_label_array[e_three_label_array == 5] = 2\n",
    "\n",
    "print(np.unique(three_label_array))\n",
    "print(three_label_array.shape)"
   ]
  },
  {
   "cell_type": "code",
   "execution_count": null,
   "metadata": {
    "id": "TKBEex7pRCyU"
   },
   "outputs": [],
   "source": [
    "from sklearn.model_selection import train_test_split\n",
    "\n",
    "# Splitting our data into training and testing.\n",
    "\n",
    "X_train, X_test, y_train, y_test = train_test_split(extracted_features, e_three_label_array, test_size=0.25)"
   ]
  },
  {
   "cell_type": "markdown",
   "metadata": {
    "id": "zmdC5bIyRRKz"
   },
   "source": [
    "##Decision Tree Classifier"
   ]
  },
  {
   "cell_type": "code",
   "execution_count": null,
   "metadata": {
    "colab": {
     "base_uri": "https://localhost:8080/"
    },
    "id": "3_JGX32ORCPr",
    "outputId": "6aa07655-dfef-4d8f-b42d-5ee920ab898b"
   },
   "outputs": [
    {
     "name": "stdout",
     "output_type": "stream",
     "text": [
      "The mean score and the 95% confidence interval of the score estimate are given by:\n",
      "Accuracy: 0.88 (+/- 0.01)\n",
      "\n",
      "The list of features with importance: \n",
      "['id', 'time', 'value__sum_values', 'value__abs_energy', 'value__mean_abs_change', 'value__mean_change', 'value__mean_second_derivative_central', 'value__median', 'value__mean', 'value__standard_deviation', 'value__variation_coefficient', 'value__variance', 'value__skewness', 'value__kurtosis', 'value__absolute_sum_of_changes', 'value__last_location_of_minimum', 'value__maximum', 'value__minimum', 'value__benford_correlation', 'value__time_reversal_asymmetry_statistic__lag_1', 'value__c3__lag_1', 'value__cid_ce__normalize_True', 'value__cid_ce__normalize_False', 'value__quantile__q_0.1', 'value__quantile__q_0.2', 'value__quantile__q_0.3', 'value__quantile__q_0.4', 'value__quantile__q_0.6', 'value__quantile__q_0.7', 'value__quantile__q_0.8', 'value__quantile__q_0.9', 'value__autocorrelation__lag_1', 'value__autocorrelation__lag_2', 'value__autocorrelation__lag_3', 'value__agg_autocorrelation__f_agg_\"mean\"__maxlag_40', 'value__agg_autocorrelation__f_agg_\"median\"__maxlag_40', 'value__agg_autocorrelation__f_agg_\"var\"__maxlag_40', 'value__partial_autocorrelation__lag_1', 'value__number_cwt_peaks__n_1', 'value__cwt_coefficients__coeff_0__w_2__widths_(2, 5, 10, 20)', 'value__cwt_coefficients__coeff_0__w_5__widths_(2, 5, 10, 20)', 'value__cwt_coefficients__coeff_0__w_10__widths_(2, 5, 10, 20)', 'value__cwt_coefficients__coeff_0__w_20__widths_(2, 5, 10, 20)', 'value__cwt_coefficients__coeff_1__w_2__widths_(2, 5, 10, 20)', 'value__cwt_coefficients__coeff_1__w_5__widths_(2, 5, 10, 20)', 'value__cwt_coefficients__coeff_1__w_10__widths_(2, 5, 10, 20)', 'value__cwt_coefficients__coeff_1__w_20__widths_(2, 5, 10, 20)', 'value__cwt_coefficients__coeff_2__w_2__widths_(2, 5, 10, 20)', 'value__cwt_coefficients__coeff_2__w_5__widths_(2, 5, 10, 20)', 'value__cwt_coefficients__coeff_2__w_10__widths_(2, 5, 10, 20)', 'value__cwt_coefficients__coeff_2__w_20__widths_(2, 5, 10, 20)', 'value__cwt_coefficients__coeff_3__w_2__widths_(2, 5, 10, 20)', 'value__cwt_coefficients__coeff_3__w_5__widths_(2, 5, 10, 20)', 'value__cwt_coefficients__coeff_3__w_10__widths_(2, 5, 10, 20)', 'value__cwt_coefficients__coeff_3__w_20__widths_(2, 5, 10, 20)', 'value__spkt_welch_density__coeff_2', 'value__change_quantiles__f_agg_\"mean\"__isabs_False__qh_0.4__ql_0.0', 'value__change_quantiles__f_agg_\"mean\"__isabs_True__qh_0.4__ql_0.0', 'value__change_quantiles__f_agg_\"mean\"__isabs_False__qh_0.6__ql_0.0', 'value__change_quantiles__f_agg_\"mean\"__isabs_True__qh_0.6__ql_0.0', 'value__change_quantiles__f_agg_\"mean\"__isabs_False__qh_0.8__ql_0.0', 'value__change_quantiles__f_agg_\"var\"__isabs_False__qh_0.8__ql_0.0', 'value__change_quantiles__f_agg_\"mean\"__isabs_True__qh_0.8__ql_0.0', 'value__change_quantiles__f_agg_\"var\"__isabs_True__qh_0.8__ql_0.0', 'value__change_quantiles__f_agg_\"mean\"__isabs_False__qh_1.0__ql_0.0', 'value__change_quantiles__f_agg_\"var\"__isabs_False__qh_1.0__ql_0.0', 'value__change_quantiles__f_agg_\"var\"__isabs_True__qh_1.0__ql_0.0', 'value__change_quantiles__f_agg_\"mean\"__isabs_False__qh_0.8__ql_0.2', 'value__change_quantiles__f_agg_\"mean\"__isabs_True__qh_0.8__ql_0.2', 'value__change_quantiles__f_agg_\"mean\"__isabs_False__qh_1.0__ql_0.2', 'value__change_quantiles__f_agg_\"var\"__isabs_False__qh_1.0__ql_0.2', 'value__change_quantiles__f_agg_\"mean\"__isabs_True__qh_1.0__ql_0.2', 'value__change_quantiles__f_agg_\"var\"__isabs_True__qh_1.0__ql_0.2', 'value__change_quantiles__f_agg_\"mean\"__isabs_False__qh_1.0__ql_0.4', 'value__change_quantiles__f_agg_\"mean\"__isabs_True__qh_1.0__ql_0.4', 'value__change_quantiles__f_agg_\"mean\"__isabs_False__qh_1.0__ql_0.6', 'value__change_quantiles__f_agg_\"mean\"__isabs_True__qh_1.0__ql_0.6', 'value__fft_coefficient__attr_\"real\"__coeff_0', 'value__fft_coefficient__attr_\"real\"__coeff_1', 'value__fft_coefficient__attr_\"real\"__coeff_2', 'value__fft_coefficient__attr_\"imag\"__coeff_1', 'value__fft_coefficient__attr_\"abs\"__coeff_0', 'value__fft_coefficient__attr_\"abs\"__coeff_1', 'value__fft_coefficient__attr_\"abs\"__coeff_2', 'value__fft_coefficient__attr_\"angle\"__coeff_1', 'value__fft_aggregated__aggtype_\"centroid\"', 'value__fft_aggregated__aggtype_\"variance\"', 'value__fft_aggregated__aggtype_\"skew\"', 'value__fft_aggregated__aggtype_\"kurtosis\"', 'value__range_count__max_1000000000000.0__min_0', 'value__friedrich_coefficients__coeff_0__m_3__r_30', 'value__friedrich_coefficients__coeff_1__m_3__r_30', 'value__friedrich_coefficients__coeff_2__m_3__r_30', 'value__friedrich_coefficients__coeff_3__m_3__r_30', 'value__max_langevin_fixed_point__m_3__r_30', 'value__linear_trend__attr_\"pvalue\"', 'value__linear_trend__attr_\"rvalue\"', 'value__linear_trend__attr_\"intercept\"', 'value__linear_trend__attr_\"slope\"', 'value__linear_trend__attr_\"stderr\"', 'value__augmented_dickey_fuller__attr_\"teststat\"__autolag_\"AIC\"', 'value__augmented_dickey_fuller__attr_\"pvalue\"__autolag_\"AIC\"', 'value__energy_ratio_by_chunks__num_segments_10__segment_focus_0', 'value__energy_ratio_by_chunks__num_segments_10__segment_focus_1', 'value__energy_ratio_by_chunks__num_segments_10__segment_focus_2', 'value__energy_ratio_by_chunks__num_segments_10__segment_focus_3', 'value__count_above__t_0', 'value__lempel_ziv_complexity__bins_100']\n"
     ]
    }
   ],
   "source": [
    "from sklearn.model_selection import cross_val_score\n",
    "from sklearn.tree import DecisionTreeClassifier\n",
    "\n",
    "clf = DecisionTreeClassifier(random_state=0)\n",
    "\n",
    "scores = cross_val_score(clf, X_train, y_train, cv=5)\n",
    "print('The mean score and the 95% confidence interval of the score estimate are given by:')\n",
    "print(\"Accuracy: %0.2f (+/- %0.2f)\" % (scores.mean(), scores.std() * 2))\n",
    "\n",
    "# Training the model in a standard way allows to to view the feature importance\n",
    "# for this model alone.\n",
    "clf.fit(X_train,y_train)\n",
    "importance = (clf.feature_importances_)\n",
    "\n",
    "# using list comprehension + enumerate() \n",
    "# index of matching element \n",
    "res = [idx for idx, val in enumerate(importance) if val > 0] \n",
    "res_feats = [extracted_features.columns[i] for i in res]\n",
    "  \n",
    "# print result \n",
    "print(\"\\nThe list of features with importance: \") \n",
    "\n",
    "print(res_feats)\n",
    "#print(\"importance\\n\", importance)"
   ]
  },
  {
   "cell_type": "markdown",
   "metadata": {
    "id": "U25aG-N1WMH2"
   },
   "source": [
    "##Nested Cross-Validation"
   ]
  },
  {
   "cell_type": "code",
   "execution_count": null,
   "metadata": {
    "id": "3W7YcK6eWMyB"
   },
   "outputs": [],
   "source": [
    "#nested_cross_val(X_train, y_train)"
   ]
  },
  {
   "cell_type": "markdown",
   "metadata": {
    "id": "3Fh53XTEWNd2"
   },
   "source": [
    "##Comparing Classification Algorithms"
   ]
  },
  {
   "cell_type": "code",
   "execution_count": null,
   "metadata": {
    "colab": {
     "base_uri": "https://localhost:8080/"
    },
    "id": "_i-XCFdKWN7Y",
    "outputId": "ccdd23d0-2d2a-400c-d5a9-91c38da114a0"
   },
   "outputs": [
    {
     "name": "stdout",
     "output_type": "stream",
     "text": [
      "Model  Mean Accuracy  95% conf interval\n",
      "LOGISTIC REGRESSION: 0.6772655311228619 0.019951434662157083\n",
      "\n",
      "Test set accuracy:\n",
      " 0.6852384557153671 \n",
      "\n",
      "Confusion Matrix\n",
      " [[   0  587    8]\n",
      " [   0 4497   67]\n",
      " [   0 1417   29]] \n",
      "\n",
      "Classification report\n",
      "               precision    recall  f1-score   support\n",
      "\n",
      "           0       0.00      0.00      0.00       595\n",
      "           1       0.69      0.99      0.81      4564\n",
      "           2       0.28      0.02      0.04      1446\n",
      "\n",
      "    accuracy                           0.69      6605\n",
      "   macro avg       0.32      0.34      0.28      6605\n",
      "weighted avg       0.54      0.69      0.57      6605\n",
      " \n",
      "\n"
     ]
    },
    {
     "name": "stderr",
     "output_type": "stream",
     "text": [
      "/usr/local/lib/python3.6/dist-packages/sklearn/metrics/_classification.py:1272: UndefinedMetricWarning: Precision and F-score are ill-defined and being set to 0.0 in labels with no predicted samples. Use `zero_division` parameter to control this behavior.\n",
      "  _warn_prf(average, modifier, msg_start, len(result))\n"
     ]
    },
    {
     "name": "stdout",
     "output_type": "stream",
     "text": [
      "Model  Mean Accuracy  95% conf interval\n",
      "LINEAR DISCRIMINANT AANALYSIS: 0.6842815271822984 0.01975274575622416\n",
      "\n",
      "Test set accuracy:\n",
      " 0.6915972747918244 \n",
      "\n",
      "Confusion Matrix\n",
      " [[   1  592    2]\n",
      " [   0 4561    3]\n",
      " [   0 1440    6]] \n",
      "\n",
      "Classification report\n",
      "               precision    recall  f1-score   support\n",
      "\n",
      "           0       1.00      0.00      0.00       595\n",
      "           1       0.69      1.00      0.82      4564\n",
      "           2       0.55      0.00      0.01      1446\n",
      "\n",
      "    accuracy                           0.69      6605\n",
      "   macro avg       0.75      0.34      0.28      6605\n",
      "weighted avg       0.69      0.69      0.57      6605\n",
      " \n",
      "\n",
      "Model  Mean Accuracy  95% conf interval\n",
      "K NEAREST NEIGHBOURS: 0.9225717983812922 0.009332787532341515\n",
      "\n",
      "Test set accuracy:\n",
      " 0.9262679788039364 \n",
      "\n",
      "Confusion Matrix\n",
      " [[ 375  186   34]\n",
      " [  44 4401  119]\n",
      " [   4  100 1342]] \n",
      "\n",
      "Classification report\n",
      "               precision    recall  f1-score   support\n",
      "\n",
      "           0       0.89      0.63      0.74       595\n",
      "           1       0.94      0.96      0.95      4564\n",
      "           2       0.90      0.93      0.91      1446\n",
      "\n",
      "    accuracy                           0.93      6605\n",
      "   macro avg       0.91      0.84      0.87      6605\n",
      "weighted avg       0.93      0.93      0.92      6605\n",
      " \n",
      "\n",
      "Model  Mean Accuracy  95% conf interval\n",
      "NAIVE BAYES: 0.2616646741419876 0.24510005578294214\n",
      "\n",
      "Test set accuracy:\n",
      " 0.21604844814534443 \n",
      "\n",
      "Confusion Matrix\n",
      " [[ 136    4  455]\n",
      " [ 593   40 3931]\n",
      " [ 185   10 1251]] \n",
      "\n",
      "Classification report\n",
      "               precision    recall  f1-score   support\n",
      "\n",
      "           0       0.15      0.23      0.18       595\n",
      "           1       0.74      0.01      0.02      4564\n",
      "           2       0.22      0.87      0.35      1446\n",
      "\n",
      "    accuracy                           0.22      6605\n",
      "   macro avg       0.37      0.37      0.18      6605\n",
      "weighted avg       0.57      0.22      0.11      6605\n",
      " \n",
      "\n",
      "Model  Mean Accuracy  95% conf interval\n",
      "DECISION TREE: 0.8846147126256451 0.013923585817119234\n",
      "\n",
      "Test set accuracy:\n",
      " 0.8870552611657835 \n",
      "\n",
      "Confusion Matrix\n",
      " [[ 380  173   42]\n",
      " [ 136 4256  172]\n",
      " [  46  177 1223]] \n",
      "\n",
      "Classification report\n",
      "               precision    recall  f1-score   support\n",
      "\n",
      "           0       0.68      0.64      0.66       595\n",
      "           1       0.92      0.93      0.93      4564\n",
      "           2       0.85      0.85      0.85      1446\n",
      "\n",
      "    accuracy                           0.89      6605\n",
      "   macro avg       0.82      0.81      0.81      6605\n",
      "weighted avg       0.89      0.89      0.89      6605\n",
      " \n",
      "\n",
      "Model  Mean Accuracy  95% conf interval\n",
      "RANDOM FOREST: 0.8934482273831469 0.012755991963193132\n",
      "\n",
      "Test set accuracy:\n",
      " 0.8928084784254353 \n",
      "\n",
      "Confusion Matrix\n",
      " [[ 355  201   39]\n",
      " [  53 4360  151]\n",
      " [  19  245 1182]] \n",
      "\n",
      "Classification report\n",
      "               precision    recall  f1-score   support\n",
      "\n",
      "           0       0.83      0.60      0.69       595\n",
      "           1       0.91      0.96      0.93      4564\n",
      "           2       0.86      0.82      0.84      1446\n",
      "\n",
      "    accuracy                           0.89      6605\n",
      "   macro avg       0.87      0.79      0.82      6605\n",
      "weighted avg       0.89      0.89      0.89      6605\n",
      " \n",
      "\n",
      "Model  Mean Accuracy  95% conf interval\n",
      "SUPPORT VECTOR MACHINE: 0.6834234511410365 0.020022817085661705\n",
      "\n",
      "Test set accuracy:\n",
      " 0.690991672975019 \n",
      "\n",
      "Confusion Matrix\n",
      " [[   0  595    0]\n",
      " [   0 4564    0]\n",
      " [   0 1446    0]] \n",
      "\n",
      "Classification report\n",
      "               precision    recall  f1-score   support\n",
      "\n",
      "           0       0.00      0.00      0.00       595\n",
      "           1       0.69      1.00      0.82      4564\n",
      "           2       0.00      0.00      0.00      1446\n",
      "\n",
      "    accuracy                           0.69      6605\n",
      "   macro avg       0.23      0.33      0.27      6605\n",
      "weighted avg       0.48      0.69      0.56      6605\n",
      " \n",
      "\n"
     ]
    },
    {
     "name": "stderr",
     "output_type": "stream",
     "text": [
      "/usr/local/lib/python3.6/dist-packages/sklearn/metrics/_classification.py:1272: UndefinedMetricWarning: Precision and F-score are ill-defined and being set to 0.0 in labels with no predicted samples. Use `zero_division` parameter to control this behavior.\n",
      "  _warn_prf(average, modifier, msg_start, len(result))\n"
     ]
    },
    {
     "name": "stdout",
     "output_type": "stream",
     "text": [
      "Model  Mean Accuracy  95% conf interval\n",
      "ADABOOST CLASSIFIER: 0.714616964085146 0.019613024246668487\n",
      "\n",
      "Test set accuracy:\n",
      " 0.7261165783497351 \n",
      "\n",
      "Confusion Matrix\n",
      " [[ 216  343   36]\n",
      " [ 110 4336  118]\n",
      " [   6 1196  244]] \n",
      "\n",
      "Classification report\n",
      "               precision    recall  f1-score   support\n",
      "\n",
      "           0       0.65      0.36      0.47       595\n",
      "           1       0.74      0.95      0.83      4564\n",
      "           2       0.61      0.17      0.26      1446\n",
      "\n",
      "    accuracy                           0.73      6605\n",
      "   macro avg       0.67      0.49      0.52      6605\n",
      "weighted avg       0.70      0.73      0.67      6605\n",
      " \n",
      "\n"
     ]
    }
   ],
   "source": [
    "names, results = algorithm_comparison(X_train, y_train, X_test, y_test)"
   ]
  },
  {
   "cell_type": "markdown",
   "metadata": {
    "id": "O4DVao3VWOjx"
   },
   "source": [
    "##Plotting Algorithm Performance"
   ]
  },
  {
   "cell_type": "code",
   "execution_count": null,
   "metadata": {
    "colab": {
     "base_uri": "https://localhost:8080/",
     "height": 663
    },
    "id": "0LLnk4FxWO5R",
    "outputId": "6db585f3-3fe3-4f2f-bfc3-62fcb595de29"
   },
   "outputs": [
    {
     "data": {
      "image/png": "[encoded data removed]",
      "text/plain": [
       "<Figure size 1440x720 with 1 Axes>"
      ]
     },
     "metadata": {
      "filenames": {
       "image/png": "C:\\Users\\John\\CA4015_Assignment_2\\_build\\jupyter_execute\\3classification_104_0.png"
      },
      "needs_background": "light",
      "tags": []
     },
     "output_type": "display_data"
    }
   ],
   "source": [
    "plot_algo_comparison(names, results, title=\"Algorithm Comparison on Wake/NREM/REM Label Data With Extracted Features\")"
   ]
  },
  {
   "cell_type": "markdown",
   "metadata": {
    "id": "uOQjJ4L6izwH"
   },
   "source": [
    "The models' accuracies decrease as another label is added to the classification. K-Nearest Neighbours is the only model to achieve an accuracy of > 0.9, with Decision Tree and RF closely following behind it."
   ]
  },
  {
   "cell_type": "markdown",
   "metadata": {
    "id": "DC0ISag_WPpK"
   },
   "source": [
    "##AutoML"
   ]
  },
  {
   "cell_type": "code",
   "execution_count": null,
   "metadata": {
    "colab": {
     "base_uri": "https://localhost:8080/"
    },
    "id": "uamEOhYeWQSB",
    "outputId": "6c7384a1-a536-4666-f068-8f8522d13591"
   },
   "outputs": [
    {
     "name": "stdout",
     "output_type": "stream",
     "text": [
      "[WARNING] [2020-11-20 13:17:10,991:AutoML(1):4a90586aeebb8ab627a0bcbde461d7de] No valid ensemble was created. Please check the logfile for errors. Default to the best individual estimator:[(1, 3, 0.0)]\n",
      "Test Accuracy score 0.9015897047691143\n"
     ]
    }
   ],
   "source": [
    "import autosklearn.classification\n",
    "import sklearn\n",
    "# configure auto-sklearn\n",
    "automl = autosklearn.classification.AutoSklearnClassifier(\n",
    "          time_left_for_this_task=120, # run auto-sklearn for at most 2min\n",
    "          per_run_time_limit=30, # spend at most 30 sec for each model training\n",
    "          )\n",
    "\n",
    "# train model(s)\n",
    "automl.fit(X_train, y_train)\n",
    "\n",
    "# evaluate\n",
    "y_hat = automl.predict(X_test)\n",
    "test_acc = sklearn.metrics.accuracy_score(y_test, y_hat)\n",
    "print(\"Test Accuracy score {0}\".format(test_acc))"
   ]
  },
  {
   "cell_type": "markdown",
   "metadata": {
    "id": "VT8ynLIL8Y7u"
   },
   "source": [
    "# Multi-Label Classifier"
   ]
  },
  {
   "cell_type": "code",
   "execution_count": null,
   "metadata": {
    "colab": {
     "base_uri": "https://localhost:8080/"
    },
    "id": "enoTNNsU2OXr",
    "outputId": "ca4e8846-9a91-46b7-8af3-5cc36442e81b"
   },
   "outputs": [
    {
     "name": "stdout",
     "output_type": "stream",
     "text": [
      "(26417,)\n"
     ]
    },
    {
     "data": {
      "text/plain": [
       "array([0, 1, 2, 3, 5])"
      ]
     },
     "execution_count": 51,
     "metadata": {
      "tags": []
     },
     "output_type": "execute_result"
    }
   ],
   "source": [
    "e_label_array = extracted_labels['1'].ravel()\n",
    "print(e_label_array.shape)\n",
    "np.unique(e_label_array)"
   ]
  },
  {
   "cell_type": "code",
   "execution_count": null,
   "metadata": {
    "colab": {
     "base_uri": "https://localhost:8080/"
    },
    "id": "vu3GbuW1HDnb",
    "outputId": "616c31c0-1dfb-4b87-c42b-feab2b37f653"
   },
   "outputs": [
    {
     "data": {
      "text/plain": [
       "array([0, 1, 2, 3, 5])"
      ]
     },
     "execution_count": 52,
     "metadata": {
      "tags": []
     },
     "output_type": "execute_result"
    }
   ],
   "source": [
    "extracted_features = extracted_features.dropna(axis='columns')\n",
    "extracted_labels[\"1\"].unique()"
   ]
  },
  {
   "cell_type": "code",
   "execution_count": null,
   "metadata": {
    "colab": {
     "base_uri": "https://localhost:8080/"
    },
    "id": "_8-bgp7h2OXk",
    "outputId": "57deed92-3d3c-483c-fd11-8ac991f10f68"
   },
   "outputs": [
    {
     "name": "stdout",
     "output_type": "stream",
     "text": [
      "Extracted Features \n",
      "             id  ...  value__permutation_entropy__dimension_4__tau_1\n",
      "0        46343  ...                                            -0.0\n",
      "1        46343  ...                                            -0.0\n",
      "2        46343  ...                                            -0.0\n",
      "3        46343  ...                                            -0.0\n",
      "4        46343  ...                                            -0.0\n",
      "...        ...  ...                                             ...\n",
      "26412  9961348  ...                                            -0.0\n",
      "26413  9961348  ...                                            -0.0\n",
      "26414  9961348  ...                                            -0.0\n",
      "26415  9961348  ...                                            -0.0\n",
      "26416  9961348  ...                                            -0.0\n",
      "\n",
      "[26417 rows x 271 columns]\n",
      "\n",
      "Extracted Labels \n",
      "             id   time  1\n",
      "0        46343    390  0\n",
      "1        46343    420  0\n",
      "2        46343    450  0\n",
      "3        46343    480  0\n",
      "4        46343    510  0\n",
      "...        ...    ... ..\n",
      "26412  9961348  21450  0\n",
      "26413  9961348  21480  0\n",
      "26414  9961348  21510  0\n",
      "26415  9961348  21540  0\n",
      "26416  9961348  21570  0\n",
      "\n",
      "[26417 rows x 3 columns]\n"
     ]
    }
   ],
   "source": [
    "print(\"Extracted Features\", \"\\n\", extracted_features)\n",
    "print(\"\\nExtracted Labels\", \"\\n\", extracted_labels)"
   ]
  },
  {
   "cell_type": "code",
   "execution_count": null,
   "metadata": {
    "id": "7DHVQ2rL2_Me"
   },
   "outputs": [],
   "source": [
    "from sklearn.model_selection import train_test_split\n",
    "\n",
    "# Splitting our data into training and testing.\n",
    "\n",
    "X_train, X_test, y_train, y_test = train_test_split(extracted_features, e_label_array, test_size=0.25)"
   ]
  },
  {
   "cell_type": "markdown",
   "metadata": {
    "id": "dpiSW4kf3Xjn"
   },
   "source": [
    "## Decision Tree Classifier\n",
    "\n",
    "Let's look at the feature importance according to this Decision Tree Model"
   ]
  },
  {
   "cell_type": "code",
   "execution_count": null,
   "metadata": {
    "colab": {
     "base_uri": "https://localhost:8080/"
    },
    "id": "bnLQKLaT3Xjx",
    "outputId": "9520dd2f-f930-40e2-f45b-eb2956fde75a"
   },
   "outputs": [
    {
     "name": "stdout",
     "output_type": "stream",
     "text": [
      "The mean score and the 95% confidence interval of the score estimate are given by:\n",
      "Accuracy: 0.80 (+/- 0.02)\n",
      "\n",
      "The list of features with importance: \n",
      "['id', 'time', 'value__sum_values', 'value__abs_energy', 'value__mean_abs_change', 'value__mean_change', 'value__mean_second_derivative_central', 'value__median', 'value__mean', 'value__standard_deviation', 'value__variation_coefficient', 'value__variance', 'value__skewness', 'value__kurtosis', 'value__absolute_sum_of_changes', 'value__last_location_of_minimum', 'value__first_location_of_minimum', 'value__maximum', 'value__minimum', 'value__benford_correlation', 'value__time_reversal_asymmetry_statistic__lag_1', 'value__c3__lag_1', 'value__cid_ce__normalize_True', 'value__cid_ce__normalize_False', 'value__quantile__q_0.1', 'value__quantile__q_0.2', 'value__quantile__q_0.3', 'value__quantile__q_0.4', 'value__quantile__q_0.6', 'value__quantile__q_0.7', 'value__quantile__q_0.8', 'value__quantile__q_0.9', 'value__autocorrelation__lag_1', 'value__autocorrelation__lag_2', 'value__autocorrelation__lag_3', 'value__agg_autocorrelation__f_agg_\"mean\"__maxlag_40', 'value__agg_autocorrelation__f_agg_\"median\"__maxlag_40', 'value__agg_autocorrelation__f_agg_\"var\"__maxlag_40', 'value__partial_autocorrelation__lag_1', 'value__number_cwt_peaks__n_1', 'value__number_peaks__n_1', 'value__cwt_coefficients__coeff_0__w_2__widths_(2, 5, 10, 20)', 'value__cwt_coefficients__coeff_0__w_5__widths_(2, 5, 10, 20)', 'value__cwt_coefficients__coeff_0__w_10__widths_(2, 5, 10, 20)', 'value__cwt_coefficients__coeff_0__w_20__widths_(2, 5, 10, 20)', 'value__cwt_coefficients__coeff_1__w_2__widths_(2, 5, 10, 20)', 'value__cwt_coefficients__coeff_1__w_5__widths_(2, 5, 10, 20)', 'value__cwt_coefficients__coeff_1__w_10__widths_(2, 5, 10, 20)', 'value__cwt_coefficients__coeff_1__w_20__widths_(2, 5, 10, 20)', 'value__cwt_coefficients__coeff_2__w_2__widths_(2, 5, 10, 20)', 'value__cwt_coefficients__coeff_2__w_5__widths_(2, 5, 10, 20)', 'value__cwt_coefficients__coeff_2__w_10__widths_(2, 5, 10, 20)', 'value__cwt_coefficients__coeff_2__w_20__widths_(2, 5, 10, 20)', 'value__cwt_coefficients__coeff_3__w_2__widths_(2, 5, 10, 20)', 'value__cwt_coefficients__coeff_3__w_5__widths_(2, 5, 10, 20)', 'value__cwt_coefficients__coeff_3__w_10__widths_(2, 5, 10, 20)', 'value__cwt_coefficients__coeff_3__w_20__widths_(2, 5, 10, 20)', 'value__spkt_welch_density__coeff_2', 'value__change_quantiles__f_agg_\"mean\"__isabs_False__qh_0.4__ql_0.0', 'value__change_quantiles__f_agg_\"mean\"__isabs_True__qh_0.4__ql_0.0', 'value__change_quantiles__f_agg_\"mean\"__isabs_False__qh_0.6__ql_0.0', 'value__change_quantiles__f_agg_\"mean\"__isabs_True__qh_0.6__ql_0.0', 'value__change_quantiles__f_agg_\"mean\"__isabs_False__qh_0.8__ql_0.0', 'value__change_quantiles__f_agg_\"var\"__isabs_False__qh_0.8__ql_0.0', 'value__change_quantiles__f_agg_\"mean\"__isabs_True__qh_0.8__ql_0.0', 'value__change_quantiles__f_agg_\"var\"__isabs_True__qh_0.8__ql_0.0', 'value__change_quantiles__f_agg_\"mean\"__isabs_False__qh_1.0__ql_0.0', 'value__change_quantiles__f_agg_\"var\"__isabs_False__qh_1.0__ql_0.0', 'value__change_quantiles__f_agg_\"mean\"__isabs_True__qh_1.0__ql_0.0', 'value__change_quantiles__f_agg_\"var\"__isabs_True__qh_1.0__ql_0.0', 'value__change_quantiles__f_agg_\"mean\"__isabs_False__qh_0.8__ql_0.2', 'value__change_quantiles__f_agg_\"mean\"__isabs_True__qh_0.8__ql_0.2', 'value__change_quantiles__f_agg_\"mean\"__isabs_False__qh_1.0__ql_0.2', 'value__change_quantiles__f_agg_\"var\"__isabs_False__qh_1.0__ql_0.2', 'value__change_quantiles__f_agg_\"mean\"__isabs_True__qh_1.0__ql_0.2', 'value__change_quantiles__f_agg_\"var\"__isabs_True__qh_1.0__ql_0.2', 'value__change_quantiles__f_agg_\"mean\"__isabs_False__qh_1.0__ql_0.4', 'value__change_quantiles__f_agg_\"mean\"__isabs_False__qh_1.0__ql_0.6', 'value__change_quantiles__f_agg_\"mean\"__isabs_True__qh_1.0__ql_0.6', 'value__fft_coefficient__attr_\"real\"__coeff_0', 'value__fft_coefficient__attr_\"real\"__coeff_1', 'value__fft_coefficient__attr_\"real\"__coeff_2', 'value__fft_coefficient__attr_\"imag\"__coeff_1', 'value__fft_coefficient__attr_\"abs\"__coeff_0', 'value__fft_coefficient__attr_\"abs\"__coeff_1', 'value__fft_coefficient__attr_\"abs\"__coeff_2', 'value__fft_coefficient__attr_\"angle\"__coeff_1', 'value__fft_aggregated__aggtype_\"centroid\"', 'value__fft_aggregated__aggtype_\"variance\"', 'value__fft_aggregated__aggtype_\"skew\"', 'value__fft_aggregated__aggtype_\"kurtosis\"', 'value__range_count__max_1000000000000.0__min_0', 'value__friedrich_coefficients__coeff_0__m_3__r_30', 'value__friedrich_coefficients__coeff_1__m_3__r_30', 'value__friedrich_coefficients__coeff_2__m_3__r_30', 'value__friedrich_coefficients__coeff_3__m_3__r_30', 'value__max_langevin_fixed_point__m_3__r_30', 'value__linear_trend__attr_\"pvalue\"', 'value__linear_trend__attr_\"rvalue\"', 'value__linear_trend__attr_\"intercept\"', 'value__linear_trend__attr_\"slope\"', 'value__linear_trend__attr_\"stderr\"', 'value__augmented_dickey_fuller__attr_\"teststat\"__autolag_\"AIC\"', 'value__augmented_dickey_fuller__attr_\"pvalue\"__autolag_\"AIC\"', 'value__number_crossing_m__m_0', 'value__energy_ratio_by_chunks__num_segments_10__segment_focus_0', 'value__energy_ratio_by_chunks__num_segments_10__segment_focus_1', 'value__energy_ratio_by_chunks__num_segments_10__segment_focus_2', 'value__energy_ratio_by_chunks__num_segments_10__segment_focus_3', 'value__count_above__t_0', 'value__lempel_ziv_complexity__bins_100']\n"
     ]
    }
   ],
   "source": [
    "from sklearn.model_selection import cross_val_score\n",
    "from sklearn.tree import DecisionTreeClassifier\n",
    "\n",
    "clf = DecisionTreeClassifier(random_state=0)\n",
    "\n",
    "scores = cross_val_score(clf, X_train, y_train, cv=5)\n",
    "print('The mean score and the 95% confidence interval of the score estimate are given by:')\n",
    "print(\"Accuracy: %0.2f (+/- %0.2f)\" % (scores.mean(), scores.std() * 2))\n",
    "\n",
    "# Training the model in a standard way allows to to view the feature importance\n",
    "# for this model alone.\n",
    "clf.fit(X_train,y_train)\n",
    "importance = (clf.feature_importances_)\n",
    "\n",
    "# using list comprehension + enumerate() \n",
    "# index of matching element \n",
    "res = [idx for idx, val in enumerate(importance) if val > 0] \n",
    "res_feats = [extracted_features.columns[i] for i in res]\n",
    "  \n",
    "# print result \n",
    "print(\"\\nThe list of features with importance: \") \n",
    "\n",
    "print(res_feats)\n",
    "#print(\"importance\\n\", importance)"
   ]
  },
  {
   "cell_type": "markdown",
   "metadata": {
    "id": "V0FNGFb4Ql5g"
   },
   "source": [
    "## Nested Cross Validation"
   ]
  },
  {
   "cell_type": "code",
   "execution_count": null,
   "metadata": {
    "id": "GN9VZbu_3bll"
   },
   "outputs": [],
   "source": [
    "#nested_cross_val(X_train, y_train)"
   ]
  },
  {
   "cell_type": "markdown",
   "metadata": {
    "id": "mKr5aOnAAbji"
   },
   "source": [
    "## Comparing Classification Algorithms"
   ]
  },
  {
   "cell_type": "code",
   "execution_count": null,
   "metadata": {
    "colab": {
     "base_uri": "https://localhost:8080/"
    },
    "id": "IR_1Zo8KAbjt",
    "outputId": "a0f4bec6-96fa-462e-c6e9-b319b770a0bb"
   },
   "outputs": [
    {
     "name": "stderr",
     "output_type": "stream",
     "text": [
      "/usr/local/lib/python3.6/dist-packages/sklearn/linear_model/_logistic.py:940: ConvergenceWarning: lbfgs failed to converge (status=1):\n",
      "STOP: TOTAL NO. of ITERATIONS REACHED LIMIT.\n",
      "\n",
      "Increase the number of iterations (max_iter) or scale the data as shown in:\n",
      "    https://scikit-learn.org/stable/modules/preprocessing.html\n",
      "Please also refer to the documentation for alternative solver options:\n",
      "    https://scikit-learn.org/stable/modules/linear_model.html#logistic-regression\n",
      "  extra_warning_msg=_LOGISTIC_SOLVER_CONVERGENCE_MSG)\n",
      "/usr/local/lib/python3.6/dist-packages/sklearn/linear_model/_logistic.py:940: ConvergenceWarning: lbfgs failed to converge (status=1):\n",
      "STOP: TOTAL NO. of ITERATIONS REACHED LIMIT.\n",
      "\n",
      "Increase the number of iterations (max_iter) or scale the data as shown in:\n",
      "    https://scikit-learn.org/stable/modules/preprocessing.html\n",
      "Please also refer to the documentation for alternative solver options:\n",
      "    https://scikit-learn.org/stable/modules/linear_model.html#logistic-regression\n",
      "  extra_warning_msg=_LOGISTIC_SOLVER_CONVERGENCE_MSG)\n",
      "/usr/local/lib/python3.6/dist-packages/sklearn/linear_model/_logistic.py:940: ConvergenceWarning: lbfgs failed to converge (status=1):\n",
      "STOP: TOTAL NO. of ITERATIONS REACHED LIMIT.\n",
      "\n",
      "Increase the number of iterations (max_iter) or scale the data as shown in:\n",
      "    https://scikit-learn.org/stable/modules/preprocessing.html\n",
      "Please also refer to the documentation for alternative solver options:\n",
      "    https://scikit-learn.org/stable/modules/linear_model.html#logistic-regression\n",
      "  extra_warning_msg=_LOGISTIC_SOLVER_CONVERGENCE_MSG)\n"
     ]
    },
    {
     "name": "stdout",
     "output_type": "stream",
     "text": [
      "Model  Mean Accuracy  95% conf interval\n",
      "LOGISTIC REGRESSION: 0.4917209708171117 0.021632213103959075\n",
      "\n"
     ]
    },
    {
     "name": "stderr",
     "output_type": "stream",
     "text": [
      "/usr/local/lib/python3.6/dist-packages/sklearn/linear_model/_logistic.py:940: ConvergenceWarning: lbfgs failed to converge (status=1):\n",
      "STOP: TOTAL NO. of ITERATIONS REACHED LIMIT.\n",
      "\n",
      "Increase the number of iterations (max_iter) or scale the data as shown in:\n",
      "    https://scikit-learn.org/stable/modules/preprocessing.html\n",
      "Please also refer to the documentation for alternative solver options:\n",
      "    https://scikit-learn.org/stable/modules/linear_model.html#logistic-regression\n",
      "  extra_warning_msg=_LOGISTIC_SOLVER_CONVERGENCE_MSG)\n",
      "/usr/local/lib/python3.6/dist-packages/sklearn/metrics/_classification.py:1272: UndefinedMetricWarning: Precision and F-score are ill-defined and being set to 0.0 in labels with no predicted samples. Use `zero_division` parameter to control this behavior.\n",
      "  _warn_prf(average, modifier, msg_start, len(result))\n"
     ]
    },
    {
     "name": "stdout",
     "output_type": "stream",
     "text": [
      "Test set accuracy:\n",
      " 0.48902346707040123 \n",
      "\n",
      "Confusion Matrix\n",
      " [[   0    0  460  153    8]\n",
      " [   0    0  413   16    5]\n",
      " [   0    0 3090   67   74]\n",
      " [   0    0  774   87    0]\n",
      " [   0    0 1400    5   53]] \n",
      "\n",
      "Classification report\n",
      "               precision    recall  f1-score   support\n",
      "\n",
      "           0       0.00      0.00      0.00       621\n",
      "           1       0.00      0.00      0.00       434\n",
      "           2       0.50      0.96      0.66      3231\n",
      "           3       0.27      0.10      0.15       861\n",
      "           5       0.38      0.04      0.07      1458\n",
      "\n",
      "    accuracy                           0.49      6605\n",
      "   macro avg       0.23      0.22      0.17      6605\n",
      "weighted avg       0.36      0.49      0.36      6605\n",
      " \n",
      "\n",
      "Model  Mean Accuracy  95% conf interval\n",
      "LINEAR DISCRIMINANT AANALYSIS: 0.49666819650453276 0.01435684270836671\n",
      "\n",
      "Test set accuracy:\n",
      " 0.49613928841786525 \n",
      "\n",
      "Confusion Matrix\n",
      " [[  15    0  598    2    6]\n",
      " [   2    2  425    2    3]\n",
      " [   3    3 3224    0    1]\n",
      " [   0    0  855    6    0]\n",
      " [   1    1 1426    0   30]] \n",
      "\n",
      "Classification report\n",
      "               precision    recall  f1-score   support\n",
      "\n",
      "           0       0.71      0.02      0.05       621\n",
      "           1       0.33      0.00      0.01       434\n",
      "           2       0.49      1.00      0.66      3231\n",
      "           3       0.60      0.01      0.01       861\n",
      "           5       0.75      0.02      0.04      1458\n",
      "\n",
      "    accuracy                           0.50      6605\n",
      "   macro avg       0.58      0.21      0.15      6605\n",
      "weighted avg       0.57      0.50      0.34      6605\n",
      " \n",
      "\n",
      "Model  Mean Accuracy  95% conf interval\n",
      "K NEAREST NEIGHBOURS: 0.8588224357429894 0.01319212759270069\n",
      "\n",
      "Test set accuracy:\n",
      " 0.8607115821347464 \n",
      "\n",
      "Confusion Matrix\n",
      " [[ 421   58   97   13   32]\n",
      " [  33  142  194    8   57]\n",
      " [  17   70 3001   68   75]\n",
      " [   1    0   66  792    2]\n",
      " [   2   21  102    4 1329]] \n",
      "\n",
      "Classification report\n",
      "               precision    recall  f1-score   support\n",
      "\n",
      "           0       0.89      0.68      0.77       621\n",
      "           1       0.49      0.33      0.39       434\n",
      "           2       0.87      0.93      0.90      3231\n",
      "           3       0.89      0.92      0.91       861\n",
      "           5       0.89      0.91      0.90      1458\n",
      "\n",
      "    accuracy                           0.86      6605\n",
      "   macro avg       0.81      0.75      0.77      6605\n",
      "weighted avg       0.85      0.86      0.85      6605\n",
      " \n",
      "\n",
      "Model  Mean Accuracy  95% conf interval\n",
      "NAIVE BAYES: 0.16528998238054657 0.20373172448389462\n",
      "\n",
      "Test set accuracy:\n",
      " 0.11839515518546556 \n",
      "\n",
      "Confusion Matrix\n",
      " [[  52  403    4  160    2]\n",
      " [  36  307    4   86    1]\n",
      " [  97 2501   26  599    8]\n",
      " [  54  405   14  388    0]\n",
      " [  71 1120   13  245    9]] \n",
      "\n",
      "Classification report\n",
      "               precision    recall  f1-score   support\n",
      "\n",
      "           0       0.17      0.08      0.11       621\n",
      "           1       0.06      0.71      0.12       434\n",
      "           2       0.43      0.01      0.02      3231\n",
      "           3       0.26      0.45      0.33       861\n",
      "           5       0.45      0.01      0.01      1458\n",
      "\n",
      "    accuracy                           0.12      6605\n",
      "   macro avg       0.27      0.25      0.12      6605\n",
      "weighted avg       0.36      0.12      0.07      6605\n",
      " \n",
      "\n",
      "Model  Mean Accuracy  95% conf interval\n",
      "DECISION TREE: 0.8055718783539488 0.018112787825674617\n",
      "\n",
      "Test set accuracy:\n",
      " 0.8148372445117336 \n",
      "\n",
      "Confusion Matrix\n",
      " [[ 380   78  100   15   48]\n",
      " [  39  163  178   10   44]\n",
      " [  71  148 2824   95   93]\n",
      " [   9    3  106  740    3]\n",
      " [  28   43  104    8 1275]] \n",
      "\n",
      "Classification report\n",
      "               precision    recall  f1-score   support\n",
      "\n",
      "           0       0.72      0.61      0.66       621\n",
      "           1       0.37      0.38      0.38       434\n",
      "           2       0.85      0.87      0.86      3231\n",
      "           3       0.85      0.86      0.86       861\n",
      "           5       0.87      0.87      0.87      1458\n",
      "\n",
      "    accuracy                           0.81      6605\n",
      "   macro avg       0.73      0.72      0.73      6605\n",
      "weighted avg       0.81      0.81      0.81      6605\n",
      " \n",
      "\n",
      "Model  Mean Accuracy  95% conf interval\n",
      "RANDOM FOREST: 0.8119820178680308 0.0146827354912632\n",
      "\n",
      "Test set accuracy:\n",
      " 0.8119606358819077 \n",
      "\n",
      "Confusion Matrix\n",
      " [[ 365   54  130   10   62]\n",
      " [  43  110  216    9   56]\n",
      " [  30   72 2921   99  109]\n",
      " [   6    1  128  714   12]\n",
      " [  16   17  164    8 1253]] \n",
      "\n",
      "Classification report\n",
      "               precision    recall  f1-score   support\n",
      "\n",
      "           0       0.79      0.59      0.68       621\n",
      "           1       0.43      0.25      0.32       434\n",
      "           2       0.82      0.90      0.86      3231\n",
      "           3       0.85      0.83      0.84       861\n",
      "           5       0.84      0.86      0.85      1458\n",
      "\n",
      "    accuracy                           0.81      6605\n",
      "   macro avg       0.75      0.69      0.71      6605\n",
      "weighted avg       0.80      0.81      0.80      6605\n",
      " \n",
      "\n",
      "Model  Mean Accuracy  95% conf interval\n",
      "SUPPORT VECTOR MACHINE: 0.4907627506722543 0.014620731312731344\n",
      "\n",
      "Test set accuracy:\n",
      " 0.4891748675246026 \n",
      "\n",
      "Confusion Matrix\n",
      " [[   0    0  621    0    0]\n",
      " [   0    0  434    0    0]\n",
      " [   0    0 3231    0    0]\n",
      " [   0    0  861    0    0]\n",
      " [   0    0 1458    0    0]] \n",
      "\n",
      "Classification report\n",
      "               precision    recall  f1-score   support\n",
      "\n",
      "           0       0.00      0.00      0.00       621\n",
      "           1       0.00      0.00      0.00       434\n",
      "           2       0.49      1.00      0.66      3231\n",
      "           3       0.00      0.00      0.00       861\n",
      "           5       0.00      0.00      0.00      1458\n",
      "\n",
      "    accuracy                           0.49      6605\n",
      "   macro avg       0.10      0.20      0.13      6605\n",
      "weighted avg       0.24      0.49      0.32      6605\n",
      " \n",
      "\n"
     ]
    },
    {
     "name": "stderr",
     "output_type": "stream",
     "text": [
      "/usr/local/lib/python3.6/dist-packages/sklearn/metrics/_classification.py:1272: UndefinedMetricWarning: Precision and F-score are ill-defined and being set to 0.0 in labels with no predicted samples. Use `zero_division` parameter to control this behavior.\n",
      "  _warn_prf(average, modifier, msg_start, len(result))\n"
     ]
    },
    {
     "name": "stdout",
     "output_type": "stream",
     "text": [
      "Model  Mean Accuracy  95% conf interval\n",
      "ADABOOST CLASSIFIER: 0.5070655842002556 0.02290260909353689\n",
      "\n",
      "Test set accuracy:\n",
      " 0.506888720666162 \n",
      "\n",
      "Confusion Matrix\n",
      " [[ 160    9  334   16  102]\n",
      " [  36    8  273   25   92]\n",
      " [  73   14 2583  209  352]\n",
      " [   5    0  522  276   58]\n",
      " [  15    6 1054   62  321]] \n",
      "\n",
      "Classification report\n",
      "               precision    recall  f1-score   support\n",
      "\n",
      "           0       0.55      0.26      0.35       621\n",
      "           1       0.22      0.02      0.03       434\n",
      "           2       0.54      0.80      0.65      3231\n",
      "           3       0.47      0.32      0.38       861\n",
      "           5       0.35      0.22      0.27      1458\n",
      "\n",
      "    accuracy                           0.51      6605\n",
      "   macro avg       0.43      0.32      0.34      6605\n",
      "weighted avg       0.47      0.51      0.46      6605\n",
      " \n",
      "\n"
     ]
    }
   ],
   "source": [
    "names, results = algorithm_comparison(X_train, y_train, X_test, y_test)"
   ]
  },
  {
   "cell_type": "markdown",
   "metadata": {
    "id": "4_3xlzPYpdBx"
   },
   "source": [
    "## Plotting Algorithm Performance"
   ]
  },
  {
   "cell_type": "code",
   "execution_count": null,
   "metadata": {
    "colab": {
     "base_uri": "https://localhost:8080/",
     "height": 663
    },
    "id": "bWGz0pKQY7D2",
    "outputId": "9e0bbd0e-b3b7-4adf-fe1b-f913cf6b624e"
   },
   "outputs": [
    {
     "data": {
      "image/png": "[encoded data removed]",
      "text/plain": [
       "<Figure size 1440x720 with 1 Axes>"
      ]
     },
     "metadata": {
      "filenames": {
       "image/png": "C:\\Users\\John\\CA4015_Assignment_2\\_build\\jupyter_execute\\3classification_120_0.png"
      },
      "needs_background": "light",
      "tags": []
     },
     "output_type": "display_data"
    }
   ],
   "source": [
    "plot_algo_comparison(names, results, title=\"Algorithm Comparison on Multi-Label Data With Extracted Features\")"
   ]
  },
  {
   "cell_type": "markdown",
   "metadata": {
    "id": "FcFkzGb6hpLA"
   },
   "source": [
    "As expected, the models' accuracies deteriorate again with the inclusion of the full label to the classification. Again, Decision Tree and Random Forest return high accuracies of ~0.8 but K-Nearest Neighbours is the most accurate with a score of 0.86."
   ]
  },
  {
   "cell_type": "markdown",
   "metadata": {
    "id": "Xh61rAsy3XkQ"
   },
   "source": [
    "## AutoML"
   ]
  },
  {
   "cell_type": "code",
   "execution_count": null,
   "metadata": {
    "colab": {
     "base_uri": "https://localhost:8080/"
    },
    "id": "wRZv8V1Y3XkS",
    "outputId": "b9cb8bfa-ad2d-411b-f2f7-4a5ecc727448"
   },
   "outputs": [
    {
     "name": "stdout",
     "output_type": "stream",
     "text": [
      "Test Accuracy score 0.09401968205904618\n"
     ]
    }
   ],
   "source": [
    "import autosklearn.classification\n",
    "import sklearn\n",
    "# configure auto-sklearn\n",
    "automl = autosklearn.classification.AutoSklearnClassifier(\n",
    "          time_left_for_this_task=120, # run auto-sklearn for at most 2min\n",
    "          per_run_time_limit=30, # spend at most 30 sec for each model training\n",
    "          )\n",
    "\n",
    "# train model(s)\n",
    "automl.fit(X_train, y_train)\n",
    "\n",
    "# evaluate\n",
    "y_hat = automl.predict(X_test)\n",
    "test_acc = sklearn.metrics.accuracy_score(y_test, y_hat)\n",
    "print(\"Test Accuracy score {0}\".format(test_acc))"
   ]
  },
  {
   "cell_type": "markdown",
   "metadata": {
    "id": "ZA5KVEgTlFr0"
   },
   "source": [
    "# Evaluation of Model Performances\n",
    "As expected, we observe an improvement of model accuracy with addition of time series as opposed to taking each window as independent data points. An important note is that we acknowledge that the inclusion of patient ID in the time series classification model too but a look into feature significances shows how important time is. \n",
    "The models used can make an accurate prediction on sleep state given that window's motion and heart rate, but the information from all the data preceding it is very important in maximising model performance and returning high accuracy of predictions.\n",
    "K-Nearest Neighbours was the best performing algorithm for the extracted feature data across two, three and five-label datasets. Benefits of this include that K-NN algorithm is very simple to understand and equally easy to implement. To classify the new data point K-NN algorithm reads through whole dataset to find out K nearest neighbors and classifies that point with the mode of the neighbours' labels. It's suitable for this assignment due to its ease to adjust to multi-class problems. KNN has no capability of handling missing information, which fortunately wasn't a problem in the datasets we used. Downsides to this model use is its speed and efficiency as the dataset grows. "
   ]
  },
  {
   "cell_type": "code",
   "execution_count": null,
   "metadata": {
    "id": "Lu49Ja9NktON"
   },
   "outputs": [],
   "source": []
  }
 ],
 "metadata": {
  "colab": {
   "collapsed_sections": [],
   "name": "raw_ts_classify.ipynb",
   "provenance": [],
   "toc_visible": true
  },
  "kernelspec": {
   "display_name": "Python 3",
   "name": "python3"
  }
 },
 "nbformat": 4,
 "nbformat_minor": 0
}